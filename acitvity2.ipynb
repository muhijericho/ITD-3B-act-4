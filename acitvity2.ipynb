{
 "cells": [
  {
   "cell_type": "markdown",
   "id": "cf38110b-cc1c-4bb6-9cf4-c636b271d31c",
   "metadata": {},
   "source": [
    "<h1>TESTING PYTHON</h1>"
   ]
  },
  {
   "cell_type": "code",
   "execution_count": 1,
   "id": "ff9d4316-0fa7-42ec-adb9-e5d49440e95c",
   "metadata": {},
   "outputs": [
    {
     "name": "stdout",
     "output_type": "stream",
     "text": [
      "hello word\n"
     ]
    }
   ],
   "source": [
    "print(\"hello word\")"
   ]
  },
  {
   "cell_type": "markdown",
   "id": "c24bb215-a583-490d-9f93-d7feef5c0e62",
   "metadata": {},
   "source": [
    "<h1>DOWNLOADING NECESSARY LIBRARIES</h1>"
   ]
  },
  {
   "cell_type": "code",
   "execution_count": 2,
   "id": "086b08da-ccbc-4aea-895d-1acec3155f9f",
   "metadata": {},
   "outputs": [
    {
     "name": "stdout",
     "output_type": "stream",
     "text": [
      "Defaulting to user installation because normal site-packages is not writeable\n",
      "Requirement already satisfied: pandas in c:\\users\\lab4-studentpc37\\appdata\\local\\packages\\pythonsoftwarefoundation.python.3.13_qbz5n2kfra8p0\\localcache\\local-packages\\python313\\site-packages (2.2.3)\n",
      "Requirement already satisfied: numpy>=1.26.0 in c:\\users\\lab4-studentpc37\\appdata\\local\\packages\\pythonsoftwarefoundation.python.3.13_qbz5n2kfra8p0\\localcache\\local-packages\\python313\\site-packages (from pandas) (2.2.2)\n",
      "Requirement already satisfied: python-dateutil>=2.8.2 in c:\\users\\lab4-studentpc37\\appdata\\local\\packages\\pythonsoftwarefoundation.python.3.13_qbz5n2kfra8p0\\localcache\\local-packages\\python313\\site-packages (from pandas) (2.9.0.post0)\n",
      "Requirement already satisfied: pytz>=2020.1 in c:\\users\\lab4-studentpc37\\appdata\\local\\packages\\pythonsoftwarefoundation.python.3.13_qbz5n2kfra8p0\\localcache\\local-packages\\python313\\site-packages (from pandas) (2024.2)\n",
      "Requirement already satisfied: tzdata>=2022.7 in c:\\users\\lab4-studentpc37\\appdata\\local\\packages\\pythonsoftwarefoundation.python.3.13_qbz5n2kfra8p0\\localcache\\local-packages\\python313\\site-packages (from pandas) (2024.2)\n",
      "Requirement already satisfied: six>=1.5 in c:\\users\\lab4-studentpc37\\appdata\\local\\packages\\pythonsoftwarefoundation.python.3.13_qbz5n2kfra8p0\\localcache\\local-packages\\python313\\site-packages (from python-dateutil>=2.8.2->pandas) (1.17.0)\n",
      "Note: you may need to restart the kernel to use updated packages.\n"
     ]
    },
    {
     "name": "stderr",
     "output_type": "stream",
     "text": [
      "\n",
      "[notice] A new release of pip is available: 24.3.1 -> 25.0.1\n",
      "[notice] To update, run: C:\\Users\\LAB4-StudentPC37\\AppData\\Local\\Microsoft\\WindowsApps\\PythonSoftwareFoundation.Python.3.13_qbz5n2kfra8p0\\python.exe -m pip install --upgrade pip\n"
     ]
    }
   ],
   "source": [
    "pip install pandas"
   ]
  },
  {
   "cell_type": "code",
   "execution_count": 3,
   "id": "e1ac3111-69ff-45d6-9e68-f534d79a5e26",
   "metadata": {},
   "outputs": [
    {
     "name": "stdout",
     "output_type": "stream",
     "text": [
      "Defaulting to user installation because normal site-packages is not writeable\n",
      "Requirement already satisfied: matplotlib in c:\\users\\lab4-studentpc37\\appdata\\local\\packages\\pythonsoftwarefoundation.python.3.13_qbz5n2kfra8p0\\localcache\\local-packages\\python313\\site-packages (3.10.0)\n",
      "Requirement already satisfied: contourpy>=1.0.1 in c:\\users\\lab4-studentpc37\\appdata\\local\\packages\\pythonsoftwarefoundation.python.3.13_qbz5n2kfra8p0\\localcache\\local-packages\\python313\\site-packages (from matplotlib) (1.3.1)\n",
      "Requirement already satisfied: cycler>=0.10 in c:\\users\\lab4-studentpc37\\appdata\\local\\packages\\pythonsoftwarefoundation.python.3.13_qbz5n2kfra8p0\\localcache\\local-packages\\python313\\site-packages (from matplotlib) (0.12.1)\n",
      "Requirement already satisfied: fonttools>=4.22.0 in c:\\users\\lab4-studentpc37\\appdata\\local\\packages\\pythonsoftwarefoundation.python.3.13_qbz5n2kfra8p0\\localcache\\local-packages\\python313\\site-packages (from matplotlib) (4.55.3)\n",
      "Requirement already satisfied: kiwisolver>=1.3.1 in c:\\users\\lab4-studentpc37\\appdata\\local\\packages\\pythonsoftwarefoundation.python.3.13_qbz5n2kfra8p0\\localcache\\local-packages\\python313\\site-packages (from matplotlib) (1.4.8)\n",
      "Requirement already satisfied: numpy>=1.23 in c:\\users\\lab4-studentpc37\\appdata\\local\\packages\\pythonsoftwarefoundation.python.3.13_qbz5n2kfra8p0\\localcache\\local-packages\\python313\\site-packages (from matplotlib) (2.2.2)\n",
      "Requirement already satisfied: packaging>=20.0 in c:\\users\\lab4-studentpc37\\appdata\\local\\packages\\pythonsoftwarefoundation.python.3.13_qbz5n2kfra8p0\\localcache\\local-packages\\python313\\site-packages (from matplotlib) (24.2)\n",
      "Requirement already satisfied: pillow>=8 in c:\\users\\lab4-studentpc37\\appdata\\local\\packages\\pythonsoftwarefoundation.python.3.13_qbz5n2kfra8p0\\localcache\\local-packages\\python313\\site-packages (from matplotlib) (11.1.0)\n",
      "Requirement already satisfied: pyparsing>=2.3.1 in c:\\users\\lab4-studentpc37\\appdata\\local\\packages\\pythonsoftwarefoundation.python.3.13_qbz5n2kfra8p0\\localcache\\local-packages\\python313\\site-packages (from matplotlib) (3.2.1)\n",
      "Requirement already satisfied: python-dateutil>=2.7 in c:\\users\\lab4-studentpc37\\appdata\\local\\packages\\pythonsoftwarefoundation.python.3.13_qbz5n2kfra8p0\\localcache\\local-packages\\python313\\site-packages (from matplotlib) (2.9.0.post0)\n",
      "Requirement already satisfied: six>=1.5 in c:\\users\\lab4-studentpc37\\appdata\\local\\packages\\pythonsoftwarefoundation.python.3.13_qbz5n2kfra8p0\\localcache\\local-packages\\python313\\site-packages (from python-dateutil>=2.7->matplotlib) (1.17.0)\n",
      "Note: you may need to restart the kernel to use updated packages.\n"
     ]
    },
    {
     "name": "stderr",
     "output_type": "stream",
     "text": [
      "\n",
      "[notice] A new release of pip is available: 24.3.1 -> 25.0.1\n",
      "[notice] To update, run: C:\\Users\\LAB4-StudentPC37\\AppData\\Local\\Microsoft\\WindowsApps\\PythonSoftwareFoundation.Python.3.13_qbz5n2kfra8p0\\python.exe -m pip install --upgrade pip\n"
     ]
    }
   ],
   "source": [
    "pip install matplotlib"
   ]
  },
  {
   "cell_type": "code",
   "execution_count": 4,
   "id": "44ce21d2-0fb0-4799-b2ea-8405c9cdac24",
   "metadata": {},
   "outputs": [
    {
     "name": "stdout",
     "output_type": "stream",
     "text": [
      "Defaulting to user installation because normal site-packages is not writeable\n",
      "Requirement already satisfied: seaborn in c:\\users\\lab4-studentpc37\\appdata\\local\\packages\\pythonsoftwarefoundation.python.3.13_qbz5n2kfra8p0\\localcache\\local-packages\\python313\\site-packages (0.13.2)\n",
      "Requirement already satisfied: numpy!=1.24.0,>=1.20 in c:\\users\\lab4-studentpc37\\appdata\\local\\packages\\pythonsoftwarefoundation.python.3.13_qbz5n2kfra8p0\\localcache\\local-packages\\python313\\site-packages (from seaborn) (2.2.2)\n",
      "Requirement already satisfied: pandas>=1.2 in c:\\users\\lab4-studentpc37\\appdata\\local\\packages\\pythonsoftwarefoundation.python.3.13_qbz5n2kfra8p0\\localcache\\local-packages\\python313\\site-packages (from seaborn) (2.2.3)\n",
      "Requirement already satisfied: matplotlib!=3.6.1,>=3.4 in c:\\users\\lab4-studentpc37\\appdata\\local\\packages\\pythonsoftwarefoundation.python.3.13_qbz5n2kfra8p0\\localcache\\local-packages\\python313\\site-packages (from seaborn) (3.10.0)\n",
      "Requirement already satisfied: contourpy>=1.0.1 in c:\\users\\lab4-studentpc37\\appdata\\local\\packages\\pythonsoftwarefoundation.python.3.13_qbz5n2kfra8p0\\localcache\\local-packages\\python313\\site-packages (from matplotlib!=3.6.1,>=3.4->seaborn) (1.3.1)\n",
      "Requirement already satisfied: cycler>=0.10 in c:\\users\\lab4-studentpc37\\appdata\\local\\packages\\pythonsoftwarefoundation.python.3.13_qbz5n2kfra8p0\\localcache\\local-packages\\python313\\site-packages (from matplotlib!=3.6.1,>=3.4->seaborn) (0.12.1)\n",
      "Requirement already satisfied: fonttools>=4.22.0 in c:\\users\\lab4-studentpc37\\appdata\\local\\packages\\pythonsoftwarefoundation.python.3.13_qbz5n2kfra8p0\\localcache\\local-packages\\python313\\site-packages (from matplotlib!=3.6.1,>=3.4->seaborn) (4.55.3)\n",
      "Requirement already satisfied: kiwisolver>=1.3.1 in c:\\users\\lab4-studentpc37\\appdata\\local\\packages\\pythonsoftwarefoundation.python.3.13_qbz5n2kfra8p0\\localcache\\local-packages\\python313\\site-packages (from matplotlib!=3.6.1,>=3.4->seaborn) (1.4.8)\n",
      "Requirement already satisfied: packaging>=20.0 in c:\\users\\lab4-studentpc37\\appdata\\local\\packages\\pythonsoftwarefoundation.python.3.13_qbz5n2kfra8p0\\localcache\\local-packages\\python313\\site-packages (from matplotlib!=3.6.1,>=3.4->seaborn) (24.2)\n",
      "Requirement already satisfied: pillow>=8 in c:\\users\\lab4-studentpc37\\appdata\\local\\packages\\pythonsoftwarefoundation.python.3.13_qbz5n2kfra8p0\\localcache\\local-packages\\python313\\site-packages (from matplotlib!=3.6.1,>=3.4->seaborn) (11.1.0)\n",
      "Requirement already satisfied: pyparsing>=2.3.1 in c:\\users\\lab4-studentpc37\\appdata\\local\\packages\\pythonsoftwarefoundation.python.3.13_qbz5n2kfra8p0\\localcache\\local-packages\\python313\\site-packages (from matplotlib!=3.6.1,>=3.4->seaborn) (3.2.1)\n",
      "Requirement already satisfied: python-dateutil>=2.7 in c:\\users\\lab4-studentpc37\\appdata\\local\\packages\\pythonsoftwarefoundation.python.3.13_qbz5n2kfra8p0\\localcache\\local-packages\\python313\\site-packages (from matplotlib!=3.6.1,>=3.4->seaborn) (2.9.0.post0)\n",
      "Requirement already satisfied: pytz>=2020.1 in c:\\users\\lab4-studentpc37\\appdata\\local\\packages\\pythonsoftwarefoundation.python.3.13_qbz5n2kfra8p0\\localcache\\local-packages\\python313\\site-packages (from pandas>=1.2->seaborn) (2024.2)\n",
      "Requirement already satisfied: tzdata>=2022.7 in c:\\users\\lab4-studentpc37\\appdata\\local\\packages\\pythonsoftwarefoundation.python.3.13_qbz5n2kfra8p0\\localcache\\local-packages\\python313\\site-packages (from pandas>=1.2->seaborn) (2024.2)\n",
      "Requirement already satisfied: six>=1.5 in c:\\users\\lab4-studentpc37\\appdata\\local\\packages\\pythonsoftwarefoundation.python.3.13_qbz5n2kfra8p0\\localcache\\local-packages\\python313\\site-packages (from python-dateutil>=2.7->matplotlib!=3.6.1,>=3.4->seaborn) (1.17.0)\n",
      "Note: you may need to restart the kernel to use updated packages.\n"
     ]
    },
    {
     "name": "stderr",
     "output_type": "stream",
     "text": [
      "\n",
      "[notice] A new release of pip is available: 24.3.1 -> 25.0.1\n",
      "[notice] To update, run: C:\\Users\\LAB4-StudentPC37\\AppData\\Local\\Microsoft\\WindowsApps\\PythonSoftwareFoundation.Python.3.13_qbz5n2kfra8p0\\python.exe -m pip install --upgrade pip\n"
     ]
    }
   ],
   "source": [
    "pip install seaborn"
   ]
  },
  {
   "cell_type": "code",
   "execution_count": 5,
   "id": "f57dde2e-a071-40c8-a6f5-d2d55c169e92",
   "metadata": {},
   "outputs": [
    {
     "name": "stdout",
     "output_type": "stream",
     "text": [
      "Defaulting to user installation because normal site-packages is not writeable\n",
      "Requirement already satisfied: numpy in c:\\users\\lab4-studentpc37\\appdata\\local\\packages\\pythonsoftwarefoundation.python.3.13_qbz5n2kfra8p0\\localcache\\local-packages\\python313\\site-packages (2.2.2)\n",
      "Note: you may need to restart the kernel to use updated packages.\n"
     ]
    },
    {
     "name": "stderr",
     "output_type": "stream",
     "text": [
      "\n",
      "[notice] A new release of pip is available: 24.3.1 -> 25.0.1\n",
      "[notice] To update, run: C:\\Users\\LAB4-StudentPC37\\AppData\\Local\\Microsoft\\WindowsApps\\PythonSoftwareFoundation.Python.3.13_qbz5n2kfra8p0\\python.exe -m pip install --upgrade pip\n"
     ]
    }
   ],
   "source": [
    "pip install numpy"
   ]
  },
  {
   "cell_type": "markdown",
   "id": "87d1b564-bc4d-49d1-83f4-3539b863f3e8",
   "metadata": {},
   "source": [
    "<h1>IMPORT LIBRARIES</h1>"
   ]
  },
  {
   "cell_type": "code",
   "execution_count": 6,
   "id": "7b95c848-2511-4352-8e8c-4eae876234b6",
   "metadata": {},
   "outputs": [],
   "source": [
    "import numpy as np\n",
    "import matplotlib.pyplot as plt\n",
    "import seaborn  as sns\n",
    "import pandas as pd"
   ]
  },
  {
   "cell_type": "markdown",
   "id": "7f988935-fa78-4575-a157-3b3a9febad81",
   "metadata": {},
   "source": [
    "<h1>IMPPORT DATASET TO DATA FRAME</h1>"
   ]
  },
  {
   "cell_type": "code",
   "execution_count": 7,
   "id": "143ab2e4-6bbf-4594-80ab-aec9562388f7",
   "metadata": {},
   "outputs": [],
   "source": [
    "birds = pd.read_csv('datasets\\\\penguins.csv')"
   ]
  },
  {
   "cell_type": "code",
   "execution_count": 8,
   "id": "0a6c6a7b-8384-467e-9628-36e0405e6164",
   "metadata": {},
   "outputs": [
    {
     "data": {
      "text/html": [
       "<div>\n",
       "<style scoped>\n",
       "    .dataframe tbody tr th:only-of-type {\n",
       "        vertical-align: middle;\n",
       "    }\n",
       "\n",
       "    .dataframe tbody tr th {\n",
       "        vertical-align: top;\n",
       "    }\n",
       "\n",
       "    .dataframe thead th {\n",
       "        text-align: right;\n",
       "    }\n",
       "</style>\n",
       "<table border=\"1\" class=\"dataframe\">\n",
       "  <thead>\n",
       "    <tr style=\"text-align: right;\">\n",
       "      <th></th>\n",
       "      <th>rowid</th>\n",
       "      <th>species</th>\n",
       "      <th>island</th>\n",
       "      <th>bill_length_mm</th>\n",
       "      <th>bill_depth_mm</th>\n",
       "      <th>flipper_length_mm</th>\n",
       "      <th>body_mass_g</th>\n",
       "      <th>sex</th>\n",
       "      <th>year</th>\n",
       "    </tr>\n",
       "  </thead>\n",
       "  <tbody>\n",
       "    <tr>\n",
       "      <th>0</th>\n",
       "      <td>1</td>\n",
       "      <td>Adelie</td>\n",
       "      <td>Torgersen</td>\n",
       "      <td>39.1</td>\n",
       "      <td>18.7</td>\n",
       "      <td>181.0</td>\n",
       "      <td>3750.0</td>\n",
       "      <td>male</td>\n",
       "      <td>2007</td>\n",
       "    </tr>\n",
       "    <tr>\n",
       "      <th>1</th>\n",
       "      <td>2</td>\n",
       "      <td>Adelie</td>\n",
       "      <td>Torgersen</td>\n",
       "      <td>39.5</td>\n",
       "      <td>17.4</td>\n",
       "      <td>186.0</td>\n",
       "      <td>3800.0</td>\n",
       "      <td>female</td>\n",
       "      <td>2007</td>\n",
       "    </tr>\n",
       "    <tr>\n",
       "      <th>2</th>\n",
       "      <td>3</td>\n",
       "      <td>Adelie</td>\n",
       "      <td>Torgersen</td>\n",
       "      <td>40.3</td>\n",
       "      <td>18.0</td>\n",
       "      <td>195.0</td>\n",
       "      <td>3250.0</td>\n",
       "      <td>female</td>\n",
       "      <td>2007</td>\n",
       "    </tr>\n",
       "    <tr>\n",
       "      <th>3</th>\n",
       "      <td>4</td>\n",
       "      <td>Adelie</td>\n",
       "      <td>Torgersen</td>\n",
       "      <td>NaN</td>\n",
       "      <td>NaN</td>\n",
       "      <td>NaN</td>\n",
       "      <td>NaN</td>\n",
       "      <td>NaN</td>\n",
       "      <td>2007</td>\n",
       "    </tr>\n",
       "    <tr>\n",
       "      <th>4</th>\n",
       "      <td>5</td>\n",
       "      <td>Adelie</td>\n",
       "      <td>Torgersen</td>\n",
       "      <td>36.7</td>\n",
       "      <td>19.3</td>\n",
       "      <td>193.0</td>\n",
       "      <td>3450.0</td>\n",
       "      <td>female</td>\n",
       "      <td>2007</td>\n",
       "    </tr>\n",
       "    <tr>\n",
       "      <th>...</th>\n",
       "      <td>...</td>\n",
       "      <td>...</td>\n",
       "      <td>...</td>\n",
       "      <td>...</td>\n",
       "      <td>...</td>\n",
       "      <td>...</td>\n",
       "      <td>...</td>\n",
       "      <td>...</td>\n",
       "      <td>...</td>\n",
       "    </tr>\n",
       "    <tr>\n",
       "      <th>339</th>\n",
       "      <td>340</td>\n",
       "      <td>Chinstrap</td>\n",
       "      <td>Dream</td>\n",
       "      <td>55.8</td>\n",
       "      <td>19.8</td>\n",
       "      <td>207.0</td>\n",
       "      <td>4000.0</td>\n",
       "      <td>male</td>\n",
       "      <td>2009</td>\n",
       "    </tr>\n",
       "    <tr>\n",
       "      <th>340</th>\n",
       "      <td>341</td>\n",
       "      <td>Chinstrap</td>\n",
       "      <td>Dream</td>\n",
       "      <td>43.5</td>\n",
       "      <td>18.1</td>\n",
       "      <td>202.0</td>\n",
       "      <td>3400.0</td>\n",
       "      <td>female</td>\n",
       "      <td>2009</td>\n",
       "    </tr>\n",
       "    <tr>\n",
       "      <th>341</th>\n",
       "      <td>342</td>\n",
       "      <td>Chinstrap</td>\n",
       "      <td>Dream</td>\n",
       "      <td>49.6</td>\n",
       "      <td>18.2</td>\n",
       "      <td>193.0</td>\n",
       "      <td>3775.0</td>\n",
       "      <td>male</td>\n",
       "      <td>2009</td>\n",
       "    </tr>\n",
       "    <tr>\n",
       "      <th>342</th>\n",
       "      <td>343</td>\n",
       "      <td>Chinstrap</td>\n",
       "      <td>Dream</td>\n",
       "      <td>50.8</td>\n",
       "      <td>19.0</td>\n",
       "      <td>210.0</td>\n",
       "      <td>4100.0</td>\n",
       "      <td>male</td>\n",
       "      <td>2009</td>\n",
       "    </tr>\n",
       "    <tr>\n",
       "      <th>343</th>\n",
       "      <td>344</td>\n",
       "      <td>Chinstrap</td>\n",
       "      <td>Dream</td>\n",
       "      <td>50.2</td>\n",
       "      <td>18.7</td>\n",
       "      <td>198.0</td>\n",
       "      <td>3775.0</td>\n",
       "      <td>female</td>\n",
       "      <td>2009</td>\n",
       "    </tr>\n",
       "  </tbody>\n",
       "</table>\n",
       "<p>344 rows × 9 columns</p>\n",
       "</div>"
      ],
      "text/plain": [
       "     rowid    species     island  bill_length_mm  bill_depth_mm  \\\n",
       "0        1     Adelie  Torgersen            39.1           18.7   \n",
       "1        2     Adelie  Torgersen            39.5           17.4   \n",
       "2        3     Adelie  Torgersen            40.3           18.0   \n",
       "3        4     Adelie  Torgersen             NaN            NaN   \n",
       "4        5     Adelie  Torgersen            36.7           19.3   \n",
       "..     ...        ...        ...             ...            ...   \n",
       "339    340  Chinstrap      Dream            55.8           19.8   \n",
       "340    341  Chinstrap      Dream            43.5           18.1   \n",
       "341    342  Chinstrap      Dream            49.6           18.2   \n",
       "342    343  Chinstrap      Dream            50.8           19.0   \n",
       "343    344  Chinstrap      Dream            50.2           18.7   \n",
       "\n",
       "     flipper_length_mm  body_mass_g     sex  year  \n",
       "0                181.0       3750.0    male  2007  \n",
       "1                186.0       3800.0  female  2007  \n",
       "2                195.0       3250.0  female  2007  \n",
       "3                  NaN          NaN     NaN  2007  \n",
       "4                193.0       3450.0  female  2007  \n",
       "..                 ...          ...     ...   ...  \n",
       "339              207.0       4000.0    male  2009  \n",
       "340              202.0       3400.0  female  2009  \n",
       "341              193.0       3775.0    male  2009  \n",
       "342              210.0       4100.0    male  2009  \n",
       "343              198.0       3775.0  female  2009  \n",
       "\n",
       "[344 rows x 9 columns]"
      ]
     },
     "execution_count": 8,
     "metadata": {},
     "output_type": "execute_result"
    }
   ],
   "source": [
    "birds"
   ]
  },
  {
   "cell_type": "code",
   "execution_count": 9,
   "id": "70c1656a-4ee4-4928-877e-0ac5b56e81d7",
   "metadata": {},
   "outputs": [
    {
     "name": "stdout",
     "output_type": "stream",
     "text": [
      "<class 'pandas.core.frame.DataFrame'>\n",
      "RangeIndex: 344 entries, 0 to 343\n",
      "Data columns (total 9 columns):\n",
      " #   Column             Non-Null Count  Dtype  \n",
      "---  ------             --------------  -----  \n",
      " 0   rowid              344 non-null    int64  \n",
      " 1   species            344 non-null    object \n",
      " 2   island             344 non-null    object \n",
      " 3   bill_length_mm     342 non-null    float64\n",
      " 4   bill_depth_mm      342 non-null    float64\n",
      " 5   flipper_length_mm  342 non-null    float64\n",
      " 6   body_mass_g        342 non-null    float64\n",
      " 7   sex                333 non-null    object \n",
      " 8   year               344 non-null    int64  \n",
      "dtypes: float64(4), int64(2), object(3)\n",
      "memory usage: 24.3+ KB\n"
     ]
    }
   ],
   "source": [
    "birds.info()"
   ]
  },
  {
   "cell_type": "code",
   "execution_count": 10,
   "id": "f3047490-0a88-4d7f-9826-e19d4243b6f7",
   "metadata": {},
   "outputs": [
    {
     "data": {
      "text/html": [
       "<div>\n",
       "<style scoped>\n",
       "    .dataframe tbody tr th:only-of-type {\n",
       "        vertical-align: middle;\n",
       "    }\n",
       "\n",
       "    .dataframe tbody tr th {\n",
       "        vertical-align: top;\n",
       "    }\n",
       "\n",
       "    .dataframe thead th {\n",
       "        text-align: right;\n",
       "    }\n",
       "</style>\n",
       "<table border=\"1\" class=\"dataframe\">\n",
       "  <thead>\n",
       "    <tr style=\"text-align: right;\">\n",
       "      <th></th>\n",
       "      <th>rowid</th>\n",
       "      <th>species</th>\n",
       "      <th>island</th>\n",
       "      <th>bill_length_mm</th>\n",
       "      <th>bill_depth_mm</th>\n",
       "      <th>flipper_length_mm</th>\n",
       "      <th>body_mass_g</th>\n",
       "      <th>sex</th>\n",
       "      <th>year</th>\n",
       "    </tr>\n",
       "  </thead>\n",
       "  <tbody>\n",
       "    <tr>\n",
       "      <th>0</th>\n",
       "      <td>False</td>\n",
       "      <td>False</td>\n",
       "      <td>False</td>\n",
       "      <td>False</td>\n",
       "      <td>False</td>\n",
       "      <td>False</td>\n",
       "      <td>False</td>\n",
       "      <td>False</td>\n",
       "      <td>False</td>\n",
       "    </tr>\n",
       "    <tr>\n",
       "      <th>1</th>\n",
       "      <td>False</td>\n",
       "      <td>False</td>\n",
       "      <td>False</td>\n",
       "      <td>False</td>\n",
       "      <td>False</td>\n",
       "      <td>False</td>\n",
       "      <td>False</td>\n",
       "      <td>False</td>\n",
       "      <td>False</td>\n",
       "    </tr>\n",
       "    <tr>\n",
       "      <th>2</th>\n",
       "      <td>False</td>\n",
       "      <td>False</td>\n",
       "      <td>False</td>\n",
       "      <td>False</td>\n",
       "      <td>False</td>\n",
       "      <td>False</td>\n",
       "      <td>False</td>\n",
       "      <td>False</td>\n",
       "      <td>False</td>\n",
       "    </tr>\n",
       "    <tr>\n",
       "      <th>3</th>\n",
       "      <td>False</td>\n",
       "      <td>False</td>\n",
       "      <td>False</td>\n",
       "      <td>True</td>\n",
       "      <td>True</td>\n",
       "      <td>True</td>\n",
       "      <td>True</td>\n",
       "      <td>True</td>\n",
       "      <td>False</td>\n",
       "    </tr>\n",
       "    <tr>\n",
       "      <th>4</th>\n",
       "      <td>False</td>\n",
       "      <td>False</td>\n",
       "      <td>False</td>\n",
       "      <td>False</td>\n",
       "      <td>False</td>\n",
       "      <td>False</td>\n",
       "      <td>False</td>\n",
       "      <td>False</td>\n",
       "      <td>False</td>\n",
       "    </tr>\n",
       "    <tr>\n",
       "      <th>...</th>\n",
       "      <td>...</td>\n",
       "      <td>...</td>\n",
       "      <td>...</td>\n",
       "      <td>...</td>\n",
       "      <td>...</td>\n",
       "      <td>...</td>\n",
       "      <td>...</td>\n",
       "      <td>...</td>\n",
       "      <td>...</td>\n",
       "    </tr>\n",
       "    <tr>\n",
       "      <th>339</th>\n",
       "      <td>False</td>\n",
       "      <td>False</td>\n",
       "      <td>False</td>\n",
       "      <td>False</td>\n",
       "      <td>False</td>\n",
       "      <td>False</td>\n",
       "      <td>False</td>\n",
       "      <td>False</td>\n",
       "      <td>False</td>\n",
       "    </tr>\n",
       "    <tr>\n",
       "      <th>340</th>\n",
       "      <td>False</td>\n",
       "      <td>False</td>\n",
       "      <td>False</td>\n",
       "      <td>False</td>\n",
       "      <td>False</td>\n",
       "      <td>False</td>\n",
       "      <td>False</td>\n",
       "      <td>False</td>\n",
       "      <td>False</td>\n",
       "    </tr>\n",
       "    <tr>\n",
       "      <th>341</th>\n",
       "      <td>False</td>\n",
       "      <td>False</td>\n",
       "      <td>False</td>\n",
       "      <td>False</td>\n",
       "      <td>False</td>\n",
       "      <td>False</td>\n",
       "      <td>False</td>\n",
       "      <td>False</td>\n",
       "      <td>False</td>\n",
       "    </tr>\n",
       "    <tr>\n",
       "      <th>342</th>\n",
       "      <td>False</td>\n",
       "      <td>False</td>\n",
       "      <td>False</td>\n",
       "      <td>False</td>\n",
       "      <td>False</td>\n",
       "      <td>False</td>\n",
       "      <td>False</td>\n",
       "      <td>False</td>\n",
       "      <td>False</td>\n",
       "    </tr>\n",
       "    <tr>\n",
       "      <th>343</th>\n",
       "      <td>False</td>\n",
       "      <td>False</td>\n",
       "      <td>False</td>\n",
       "      <td>False</td>\n",
       "      <td>False</td>\n",
       "      <td>False</td>\n",
       "      <td>False</td>\n",
       "      <td>False</td>\n",
       "      <td>False</td>\n",
       "    </tr>\n",
       "  </tbody>\n",
       "</table>\n",
       "<p>344 rows × 9 columns</p>\n",
       "</div>"
      ],
      "text/plain": [
       "     rowid  species  island  bill_length_mm  bill_depth_mm  flipper_length_mm  \\\n",
       "0    False    False   False           False          False              False   \n",
       "1    False    False   False           False          False              False   \n",
       "2    False    False   False           False          False              False   \n",
       "3    False    False   False            True           True               True   \n",
       "4    False    False   False           False          False              False   \n",
       "..     ...      ...     ...             ...            ...                ...   \n",
       "339  False    False   False           False          False              False   \n",
       "340  False    False   False           False          False              False   \n",
       "341  False    False   False           False          False              False   \n",
       "342  False    False   False           False          False              False   \n",
       "343  False    False   False           False          False              False   \n",
       "\n",
       "     body_mass_g    sex   year  \n",
       "0          False  False  False  \n",
       "1          False  False  False  \n",
       "2          False  False  False  \n",
       "3           True   True  False  \n",
       "4          False  False  False  \n",
       "..           ...    ...    ...  \n",
       "339        False  False  False  \n",
       "340        False  False  False  \n",
       "341        False  False  False  \n",
       "342        False  False  False  \n",
       "343        False  False  False  \n",
       "\n",
       "[344 rows x 9 columns]"
      ]
     },
     "execution_count": 10,
     "metadata": {},
     "output_type": "execute_result"
    }
   ],
   "source": [
    "birds.isnull()"
   ]
  },
  {
   "cell_type": "code",
   "execution_count": 11,
   "id": "48818819-9ff6-47e6-ac24-8227b0a2bc02",
   "metadata": {},
   "outputs": [
    {
     "data": {
      "text/plain": [
       "rowid                 0\n",
       "species               0\n",
       "island                0\n",
       "bill_length_mm        2\n",
       "bill_depth_mm         2\n",
       "flipper_length_mm     2\n",
       "body_mass_g           2\n",
       "sex                  11\n",
       "year                  0\n",
       "dtype: int64"
      ]
     },
     "execution_count": 11,
     "metadata": {},
     "output_type": "execute_result"
    }
   ],
   "source": [
    "birds.isnull().sum()"
   ]
  },
  {
   "cell_type": "markdown",
   "id": "00604482-c5e6-4b48-aebe-408c9d5edac5",
   "metadata": {},
   "source": [
    "<h1>Descriptive Analytics</h1>"
   ]
  },
  {
   "cell_type": "code",
   "execution_count": 12,
   "id": "373fd2bf-bfc4-4587-b41e-8d5069079e5b",
   "metadata": {},
   "outputs": [
    {
     "data": {
      "text/html": [
       "<div>\n",
       "<style scoped>\n",
       "    .dataframe tbody tr th:only-of-type {\n",
       "        vertical-align: middle;\n",
       "    }\n",
       "\n",
       "    .dataframe tbody tr th {\n",
       "        vertical-align: top;\n",
       "    }\n",
       "\n",
       "    .dataframe thead th {\n",
       "        text-align: right;\n",
       "    }\n",
       "</style>\n",
       "<table border=\"1\" class=\"dataframe\">\n",
       "  <thead>\n",
       "    <tr style=\"text-align: right;\">\n",
       "      <th></th>\n",
       "      <th>count</th>\n",
       "      <th>mean</th>\n",
       "      <th>std</th>\n",
       "      <th>min</th>\n",
       "      <th>25%</th>\n",
       "      <th>50%</th>\n",
       "      <th>75%</th>\n",
       "      <th>max</th>\n",
       "    </tr>\n",
       "  </thead>\n",
       "  <tbody>\n",
       "    <tr>\n",
       "      <th>rowid</th>\n",
       "      <td>344.0</td>\n",
       "      <td>172.500000</td>\n",
       "      <td>99.448479</td>\n",
       "      <td>1.0</td>\n",
       "      <td>86.750</td>\n",
       "      <td>172.50</td>\n",
       "      <td>258.25</td>\n",
       "      <td>344.0</td>\n",
       "    </tr>\n",
       "    <tr>\n",
       "      <th>bill_length_mm</th>\n",
       "      <td>342.0</td>\n",
       "      <td>43.921930</td>\n",
       "      <td>5.459584</td>\n",
       "      <td>32.1</td>\n",
       "      <td>39.225</td>\n",
       "      <td>44.45</td>\n",
       "      <td>48.50</td>\n",
       "      <td>59.6</td>\n",
       "    </tr>\n",
       "    <tr>\n",
       "      <th>bill_depth_mm</th>\n",
       "      <td>342.0</td>\n",
       "      <td>17.151170</td>\n",
       "      <td>1.974793</td>\n",
       "      <td>13.1</td>\n",
       "      <td>15.600</td>\n",
       "      <td>17.30</td>\n",
       "      <td>18.70</td>\n",
       "      <td>21.5</td>\n",
       "    </tr>\n",
       "    <tr>\n",
       "      <th>flipper_length_mm</th>\n",
       "      <td>342.0</td>\n",
       "      <td>200.915205</td>\n",
       "      <td>14.061714</td>\n",
       "      <td>172.0</td>\n",
       "      <td>190.000</td>\n",
       "      <td>197.00</td>\n",
       "      <td>213.00</td>\n",
       "      <td>231.0</td>\n",
       "    </tr>\n",
       "    <tr>\n",
       "      <th>body_mass_g</th>\n",
       "      <td>342.0</td>\n",
       "      <td>4201.754386</td>\n",
       "      <td>801.954536</td>\n",
       "      <td>2700.0</td>\n",
       "      <td>3550.000</td>\n",
       "      <td>4050.00</td>\n",
       "      <td>4750.00</td>\n",
       "      <td>6300.0</td>\n",
       "    </tr>\n",
       "    <tr>\n",
       "      <th>year</th>\n",
       "      <td>344.0</td>\n",
       "      <td>2008.029070</td>\n",
       "      <td>0.818356</td>\n",
       "      <td>2007.0</td>\n",
       "      <td>2007.000</td>\n",
       "      <td>2008.00</td>\n",
       "      <td>2009.00</td>\n",
       "      <td>2009.0</td>\n",
       "    </tr>\n",
       "  </tbody>\n",
       "</table>\n",
       "</div>"
      ],
      "text/plain": [
       "                   count         mean         std     min       25%      50%  \\\n",
       "rowid              344.0   172.500000   99.448479     1.0    86.750   172.50   \n",
       "bill_length_mm     342.0    43.921930    5.459584    32.1    39.225    44.45   \n",
       "bill_depth_mm      342.0    17.151170    1.974793    13.1    15.600    17.30   \n",
       "flipper_length_mm  342.0   200.915205   14.061714   172.0   190.000   197.00   \n",
       "body_mass_g        342.0  4201.754386  801.954536  2700.0  3550.000  4050.00   \n",
       "year               344.0  2008.029070    0.818356  2007.0  2007.000  2008.00   \n",
       "\n",
       "                       75%     max  \n",
       "rowid               258.25   344.0  \n",
       "bill_length_mm       48.50    59.6  \n",
       "bill_depth_mm        18.70    21.5  \n",
       "flipper_length_mm   213.00   231.0  \n",
       "body_mass_g        4750.00  6300.0  \n",
       "year               2009.00  2009.0  "
      ]
     },
     "execution_count": 12,
     "metadata": {},
     "output_type": "execute_result"
    }
   ],
   "source": [
    "birds.describe().T"
   ]
  },
  {
   "cell_type": "markdown",
   "id": "46412cc5-f8e4-4664-98c2-b0be1f4a767b",
   "metadata": {},
   "source": [
    "<h1>filtering</h1>"
   ]
  },
  {
   "cell_type": "code",
   "execution_count": 13,
   "id": "2ef7d7ef-0fe9-48c6-a103-bce2ecfe057e",
   "metadata": {},
   "outputs": [
    {
     "data": {
      "text/plain": [
       "0      3750.0\n",
       "1      3800.0\n",
       "2      3250.0\n",
       "3         NaN\n",
       "4      3450.0\n",
       "        ...  \n",
       "339    4000.0\n",
       "340    3400.0\n",
       "341    3775.0\n",
       "342    4100.0\n",
       "343    3775.0\n",
       "Name: body_mass_g, Length: 344, dtype: float64"
      ]
     },
     "execution_count": 13,
     "metadata": {},
     "output_type": "execute_result"
    }
   ],
   "source": [
    "birds['body_mass_g']"
   ]
  },
  {
   "cell_type": "code",
   "execution_count": 14,
   "id": "90bf693c-d78e-41c8-96a2-1774637e82ba",
   "metadata": {},
   "outputs": [
    {
     "data": {
      "text/plain": [
       "0        male\n",
       "1      female\n",
       "2      female\n",
       "3         NaN\n",
       "4      female\n",
       "        ...  \n",
       "339      male\n",
       "340    female\n",
       "341      male\n",
       "342      male\n",
       "343    female\n",
       "Name: sex, Length: 344, dtype: object"
      ]
     },
     "execution_count": 14,
     "metadata": {},
     "output_type": "execute_result"
    }
   ],
   "source": [
    "birds['sex']"
   ]
  },
  {
   "cell_type": "markdown",
   "id": "77f99f82-4807-4327-bafe-337223101036",
   "metadata": {},
   "source": [
    "<h1>HOW TO DEFINE/CREATE YOUR OWN COLUMN</h1>"
   ]
  },
  {
   "cell_type": "code",
   "execution_count": 15,
   "id": "ffd60851-1e2a-4708-9217-cabf0eb8e574",
   "metadata": {},
   "outputs": [],
   "source": [
    "birds['weight'] = np.round(birds['body_mass_g'] / 1000,1)"
   ]
  },
  {
   "cell_type": "code",
   "execution_count": 16,
   "id": "4625e733-ef97-4872-9cff-43324601fac1",
   "metadata": {},
   "outputs": [
    {
     "data": {
      "text/html": [
       "<div>\n",
       "<style scoped>\n",
       "    .dataframe tbody tr th:only-of-type {\n",
       "        vertical-align: middle;\n",
       "    }\n",
       "\n",
       "    .dataframe tbody tr th {\n",
       "        vertical-align: top;\n",
       "    }\n",
       "\n",
       "    .dataframe thead th {\n",
       "        text-align: right;\n",
       "    }\n",
       "</style>\n",
       "<table border=\"1\" class=\"dataframe\">\n",
       "  <thead>\n",
       "    <tr style=\"text-align: right;\">\n",
       "      <th></th>\n",
       "      <th>rowid</th>\n",
       "      <th>species</th>\n",
       "      <th>island</th>\n",
       "      <th>bill_length_mm</th>\n",
       "      <th>bill_depth_mm</th>\n",
       "      <th>flipper_length_mm</th>\n",
       "      <th>body_mass_g</th>\n",
       "      <th>sex</th>\n",
       "      <th>year</th>\n",
       "      <th>weight</th>\n",
       "    </tr>\n",
       "  </thead>\n",
       "  <tbody>\n",
       "    <tr>\n",
       "      <th>0</th>\n",
       "      <td>1</td>\n",
       "      <td>Adelie</td>\n",
       "      <td>Torgersen</td>\n",
       "      <td>39.1</td>\n",
       "      <td>18.7</td>\n",
       "      <td>181.0</td>\n",
       "      <td>3750.0</td>\n",
       "      <td>male</td>\n",
       "      <td>2007</td>\n",
       "      <td>3.8</td>\n",
       "    </tr>\n",
       "    <tr>\n",
       "      <th>1</th>\n",
       "      <td>2</td>\n",
       "      <td>Adelie</td>\n",
       "      <td>Torgersen</td>\n",
       "      <td>39.5</td>\n",
       "      <td>17.4</td>\n",
       "      <td>186.0</td>\n",
       "      <td>3800.0</td>\n",
       "      <td>female</td>\n",
       "      <td>2007</td>\n",
       "      <td>3.8</td>\n",
       "    </tr>\n",
       "    <tr>\n",
       "      <th>2</th>\n",
       "      <td>3</td>\n",
       "      <td>Adelie</td>\n",
       "      <td>Torgersen</td>\n",
       "      <td>40.3</td>\n",
       "      <td>18.0</td>\n",
       "      <td>195.0</td>\n",
       "      <td>3250.0</td>\n",
       "      <td>female</td>\n",
       "      <td>2007</td>\n",
       "      <td>3.2</td>\n",
       "    </tr>\n",
       "    <tr>\n",
       "      <th>3</th>\n",
       "      <td>4</td>\n",
       "      <td>Adelie</td>\n",
       "      <td>Torgersen</td>\n",
       "      <td>NaN</td>\n",
       "      <td>NaN</td>\n",
       "      <td>NaN</td>\n",
       "      <td>NaN</td>\n",
       "      <td>NaN</td>\n",
       "      <td>2007</td>\n",
       "      <td>NaN</td>\n",
       "    </tr>\n",
       "    <tr>\n",
       "      <th>4</th>\n",
       "      <td>5</td>\n",
       "      <td>Adelie</td>\n",
       "      <td>Torgersen</td>\n",
       "      <td>36.7</td>\n",
       "      <td>19.3</td>\n",
       "      <td>193.0</td>\n",
       "      <td>3450.0</td>\n",
       "      <td>female</td>\n",
       "      <td>2007</td>\n",
       "      <td>3.4</td>\n",
       "    </tr>\n",
       "    <tr>\n",
       "      <th>...</th>\n",
       "      <td>...</td>\n",
       "      <td>...</td>\n",
       "      <td>...</td>\n",
       "      <td>...</td>\n",
       "      <td>...</td>\n",
       "      <td>...</td>\n",
       "      <td>...</td>\n",
       "      <td>...</td>\n",
       "      <td>...</td>\n",
       "      <td>...</td>\n",
       "    </tr>\n",
       "    <tr>\n",
       "      <th>339</th>\n",
       "      <td>340</td>\n",
       "      <td>Chinstrap</td>\n",
       "      <td>Dream</td>\n",
       "      <td>55.8</td>\n",
       "      <td>19.8</td>\n",
       "      <td>207.0</td>\n",
       "      <td>4000.0</td>\n",
       "      <td>male</td>\n",
       "      <td>2009</td>\n",
       "      <td>4.0</td>\n",
       "    </tr>\n",
       "    <tr>\n",
       "      <th>340</th>\n",
       "      <td>341</td>\n",
       "      <td>Chinstrap</td>\n",
       "      <td>Dream</td>\n",
       "      <td>43.5</td>\n",
       "      <td>18.1</td>\n",
       "      <td>202.0</td>\n",
       "      <td>3400.0</td>\n",
       "      <td>female</td>\n",
       "      <td>2009</td>\n",
       "      <td>3.4</td>\n",
       "    </tr>\n",
       "    <tr>\n",
       "      <th>341</th>\n",
       "      <td>342</td>\n",
       "      <td>Chinstrap</td>\n",
       "      <td>Dream</td>\n",
       "      <td>49.6</td>\n",
       "      <td>18.2</td>\n",
       "      <td>193.0</td>\n",
       "      <td>3775.0</td>\n",
       "      <td>male</td>\n",
       "      <td>2009</td>\n",
       "      <td>3.8</td>\n",
       "    </tr>\n",
       "    <tr>\n",
       "      <th>342</th>\n",
       "      <td>343</td>\n",
       "      <td>Chinstrap</td>\n",
       "      <td>Dream</td>\n",
       "      <td>50.8</td>\n",
       "      <td>19.0</td>\n",
       "      <td>210.0</td>\n",
       "      <td>4100.0</td>\n",
       "      <td>male</td>\n",
       "      <td>2009</td>\n",
       "      <td>4.1</td>\n",
       "    </tr>\n",
       "    <tr>\n",
       "      <th>343</th>\n",
       "      <td>344</td>\n",
       "      <td>Chinstrap</td>\n",
       "      <td>Dream</td>\n",
       "      <td>50.2</td>\n",
       "      <td>18.7</td>\n",
       "      <td>198.0</td>\n",
       "      <td>3775.0</td>\n",
       "      <td>female</td>\n",
       "      <td>2009</td>\n",
       "      <td>3.8</td>\n",
       "    </tr>\n",
       "  </tbody>\n",
       "</table>\n",
       "<p>344 rows × 10 columns</p>\n",
       "</div>"
      ],
      "text/plain": [
       "     rowid    species     island  bill_length_mm  bill_depth_mm  \\\n",
       "0        1     Adelie  Torgersen            39.1           18.7   \n",
       "1        2     Adelie  Torgersen            39.5           17.4   \n",
       "2        3     Adelie  Torgersen            40.3           18.0   \n",
       "3        4     Adelie  Torgersen             NaN            NaN   \n",
       "4        5     Adelie  Torgersen            36.7           19.3   \n",
       "..     ...        ...        ...             ...            ...   \n",
       "339    340  Chinstrap      Dream            55.8           19.8   \n",
       "340    341  Chinstrap      Dream            43.5           18.1   \n",
       "341    342  Chinstrap      Dream            49.6           18.2   \n",
       "342    343  Chinstrap      Dream            50.8           19.0   \n",
       "343    344  Chinstrap      Dream            50.2           18.7   \n",
       "\n",
       "     flipper_length_mm  body_mass_g     sex  year  weight  \n",
       "0                181.0       3750.0    male  2007     3.8  \n",
       "1                186.0       3800.0  female  2007     3.8  \n",
       "2                195.0       3250.0  female  2007     3.2  \n",
       "3                  NaN          NaN     NaN  2007     NaN  \n",
       "4                193.0       3450.0  female  2007     3.4  \n",
       "..                 ...          ...     ...   ...     ...  \n",
       "339              207.0       4000.0    male  2009     4.0  \n",
       "340              202.0       3400.0  female  2009     3.4  \n",
       "341              193.0       3775.0    male  2009     3.8  \n",
       "342              210.0       4100.0    male  2009     4.1  \n",
       "343              198.0       3775.0  female  2009     3.8  \n",
       "\n",
       "[344 rows x 10 columns]"
      ]
     },
     "execution_count": 16,
     "metadata": {},
     "output_type": "execute_result"
    }
   ],
   "source": [
    "birds"
   ]
  },
  {
   "cell_type": "code",
   "execution_count": 17,
   "id": "26c1cd67-f06b-46a5-85ee-46a44dca7952",
   "metadata": {},
   "outputs": [
    {
     "data": {
      "text/plain": [
       "rowid                 0\n",
       "species               0\n",
       "island                0\n",
       "bill_length_mm        2\n",
       "bill_depth_mm         2\n",
       "flipper_length_mm     2\n",
       "body_mass_g           2\n",
       "sex                  11\n",
       "year                  0\n",
       "weight                2\n",
       "dtype: int64"
      ]
     },
     "execution_count": 17,
     "metadata": {},
     "output_type": "execute_result"
    }
   ],
   "source": [
    "birds.isnull().sum()"
   ]
  },
  {
   "cell_type": "markdown",
   "id": "605bc4f9-c2c1-479a-b5a1-fed703d912b0",
   "metadata": {},
   "source": [
    "<h1>WHAT TO DO WITH NULL VALUES</h1>"
   ]
  },
  {
   "cell_type": "code",
   "execution_count": 18,
   "id": "51c9e0f9-8cdd-4e7e-bf9f-0882cd288a36",
   "metadata": {},
   "outputs": [
    {
     "data": {
      "text/plain": [
       "np.float64(4201.754385964912)"
      ]
     },
     "execution_count": 18,
     "metadata": {},
     "output_type": "execute_result"
    }
   ],
   "source": [
    "birds['body_mass_g'].mean()"
   ]
  },
  {
   "cell_type": "code",
   "execution_count": 19,
   "id": "a05311ed-e589-46fe-a281-faa8eb26226c",
   "metadata": {},
   "outputs": [
    {
     "data": {
      "text/plain": [
       "0    male\n",
       "Name: sex, dtype: object"
      ]
     },
     "execution_count": 19,
     "metadata": {},
     "output_type": "execute_result"
    }
   ],
   "source": [
    "birds['sex'].mode()"
   ]
  },
  {
   "cell_type": "code",
   "execution_count": 20,
   "id": "131e1d54-7491-4680-aaa7-8055cd6a7aa9",
   "metadata": {},
   "outputs": [],
   "source": [
    "birds['bill_length_mm'] = birds['bill_length_mm'].fillna(birds['bill_length_mm'].mean())"
   ]
  },
  {
   "cell_type": "code",
   "execution_count": 21,
   "id": "fa9edbff-bae9-4060-b458-fb7eded7b113",
   "metadata": {},
   "outputs": [],
   "source": [
    "birds['body-mass_g'] = birds['body_mass_g'].fillna(birds['body_mass_g'].mean())"
   ]
  },
  {
   "cell_type": "code",
   "execution_count": 22,
   "id": "62c21dc2-517d-4ad7-a48a-1b969c1b5e04",
   "metadata": {},
   "outputs": [
    {
     "data": {
      "text/plain": [
       "rowid                 0\n",
       "species               0\n",
       "island                0\n",
       "bill_length_mm        0\n",
       "bill_depth_mm         2\n",
       "flipper_length_mm     2\n",
       "body_mass_g           2\n",
       "sex                  11\n",
       "year                  0\n",
       "weight                2\n",
       "body-mass_g           0\n",
       "dtype: int64"
      ]
     },
     "execution_count": 22,
     "metadata": {},
     "output_type": "execute_result"
    }
   ],
   "source": [
    "birds.isnull().sum()"
   ]
  },
  {
   "cell_type": "code",
   "execution_count": 23,
   "id": "4e23129c-974e-4502-a6e0-80ccca53d0d7",
   "metadata": {},
   "outputs": [],
   "source": [
    "birds['sex'] = birds['sex'].fillna(birds['sex'].mode()[0])"
   ]
  },
  {
   "cell_type": "code",
   "execution_count": 24,
   "id": "c77b08fc-291a-4e82-8654-ccab4b9c419c",
   "metadata": {},
   "outputs": [
    {
     "data": {
      "text/plain": [
       "rowid                0\n",
       "species              0\n",
       "island               0\n",
       "bill_length_mm       0\n",
       "bill_depth_mm        2\n",
       "flipper_length_mm    2\n",
       "body_mass_g          2\n",
       "sex                  0\n",
       "year                 0\n",
       "weight               2\n",
       "body-mass_g          0\n",
       "dtype: int64"
      ]
     },
     "execution_count": 24,
     "metadata": {},
     "output_type": "execute_result"
    }
   ],
   "source": [
    "birds.isnull().sum()"
   ]
  },
  {
   "cell_type": "code",
   "execution_count": 25,
   "id": "4222960e-ab20-4cff-9fcb-143202327b15",
   "metadata": {},
   "outputs": [],
   "source": [
    "birds['flipper_length_mm'] = birds['flipper_length_mm'].fillna(birds['flipper_length_mm'].mean())"
   ]
  },
  {
   "cell_type": "code",
   "execution_count": 26,
   "id": "d90c5750-4ba6-445e-a288-5482c0993838",
   "metadata": {},
   "outputs": [
    {
     "data": {
      "text/plain": [
       "rowid                0\n",
       "species              0\n",
       "island               0\n",
       "bill_length_mm       0\n",
       "bill_depth_mm        2\n",
       "flipper_length_mm    0\n",
       "body_mass_g          2\n",
       "sex                  0\n",
       "year                 0\n",
       "weight               2\n",
       "body-mass_g          0\n",
       "dtype: int64"
      ]
     },
     "execution_count": 26,
     "metadata": {},
     "output_type": "execute_result"
    }
   ],
   "source": [
    "birds.isnull().sum()"
   ]
  },
  {
   "cell_type": "code",
   "execution_count": 27,
   "id": "3a0572f6-f283-4988-8e14-bf5ae5467b2c",
   "metadata": {},
   "outputs": [],
   "source": [
    "birds['bill_depth_mm'] = birds['bill_depth_mm'].fillna(birds['bill_depth_mm'].mean())"
   ]
  },
  {
   "cell_type": "code",
   "execution_count": 28,
   "id": "544d3eaf-c7ea-4e4b-b441-e827b4348240",
   "metadata": {},
   "outputs": [
    {
     "data": {
      "text/plain": [
       "rowid                0\n",
       "species              0\n",
       "island               0\n",
       "bill_length_mm       0\n",
       "bill_depth_mm        0\n",
       "flipper_length_mm    0\n",
       "body_mass_g          2\n",
       "sex                  0\n",
       "year                 0\n",
       "weight               2\n",
       "body-mass_g          0\n",
       "dtype: int64"
      ]
     },
     "execution_count": 28,
     "metadata": {},
     "output_type": "execute_result"
    }
   ],
   "source": [
    "birds.isnull().sum()"
   ]
  },
  {
   "cell_type": "code",
   "execution_count": 29,
   "id": "bafb8349-c392-43cb-9fe7-ce7bea7e01f2",
   "metadata": {},
   "outputs": [],
   "source": [
    "birds['weight'] = birds['weight'].fillna(birds['weight'].mean())"
   ]
  },
  {
   "cell_type": "code",
   "execution_count": 30,
   "id": "af1ceb4c-cc85-4e05-b9e4-a8f42592f38c",
   "metadata": {},
   "outputs": [
    {
     "data": {
      "text/plain": [
       "rowid                0\n",
       "species              0\n",
       "island               0\n",
       "bill_length_mm       0\n",
       "bill_depth_mm        0\n",
       "flipper_length_mm    0\n",
       "body_mass_g          2\n",
       "sex                  0\n",
       "year                 0\n",
       "weight               0\n",
       "body-mass_g          0\n",
       "dtype: int64"
      ]
     },
     "execution_count": 30,
     "metadata": {},
     "output_type": "execute_result"
    }
   ],
   "source": [
    "birds.isnull().sum()"
   ]
  },
  {
   "cell_type": "code",
   "execution_count": 31,
   "id": "4037dddf-3ba4-469f-87d8-a6d36f76f563",
   "metadata": {},
   "outputs": [],
   "source": [
    "birds['body_mass_g'] = birds['body_mass_g'].fillna(birds['body_mass_g'].mean())"
   ]
  },
  {
   "cell_type": "code",
   "execution_count": 32,
   "id": "0d17a201-bdd3-4573-8211-6bcc9c1671ce",
   "metadata": {},
   "outputs": [
    {
     "data": {
      "text/plain": [
       "rowid                0\n",
       "species              0\n",
       "island               0\n",
       "bill_length_mm       0\n",
       "bill_depth_mm        0\n",
       "flipper_length_mm    0\n",
       "body_mass_g          0\n",
       "sex                  0\n",
       "year                 0\n",
       "weight               0\n",
       "body-mass_g          0\n",
       "dtype: int64"
      ]
     },
     "execution_count": 32,
     "metadata": {},
     "output_type": "execute_result"
    }
   ],
   "source": [
    "birds.isnull().sum()"
   ]
  },
  {
   "cell_type": "code",
   "execution_count": 33,
   "id": "061b0bdf-5ced-422f-bb37-9a5ff8382391",
   "metadata": {},
   "outputs": [
    {
     "name": "stdout",
     "output_type": "stream",
     "text": [
      "<class 'pandas.core.frame.DataFrame'>\n",
      "RangeIndex: 344 entries, 0 to 343\n",
      "Data columns (total 11 columns):\n",
      " #   Column             Non-Null Count  Dtype  \n",
      "---  ------             --------------  -----  \n",
      " 0   rowid              344 non-null    int64  \n",
      " 1   species            344 non-null    object \n",
      " 2   island             344 non-null    object \n",
      " 3   bill_length_mm     344 non-null    float64\n",
      " 4   bill_depth_mm      344 non-null    float64\n",
      " 5   flipper_length_mm  344 non-null    float64\n",
      " 6   body_mass_g        344 non-null    float64\n",
      " 7   sex                344 non-null    object \n",
      " 8   year               344 non-null    int64  \n",
      " 9   weight             344 non-null    float64\n",
      " 10  body-mass_g        344 non-null    float64\n",
      "dtypes: float64(6), int64(2), object(3)\n",
      "memory usage: 29.7+ KB\n"
     ]
    }
   ],
   "source": [
    "birds.info() "
   ]
  },
  {
   "cell_type": "code",
   "execution_count": 34,
   "id": "30353f77-9293-433a-9f74-5d67ef4ab8de",
   "metadata": {},
   "outputs": [],
   "source": [
    "birds['year'] = birds['year'].astype('category')"
   ]
  },
  {
   "cell_type": "code",
   "execution_count": 35,
   "id": "ccc46e95-5a29-4204-8cf2-f640a4dd79cf",
   "metadata": {},
   "outputs": [],
   "source": [
    "birds['species'] = birds ['species'].astype('category')"
   ]
  },
  {
   "cell_type": "code",
   "execution_count": 36,
   "id": "2adf8d4f-237b-4d44-a346-40951882616f",
   "metadata": {},
   "outputs": [],
   "source": [
    "birds['rowid'] = birds ['rowid'].astype('category')"
   ]
  },
  {
   "cell_type": "code",
   "execution_count": 37,
   "id": "710617e2-88ee-413d-8130-ec35ce017bb5",
   "metadata": {},
   "outputs": [],
   "source": [
    "birds['island'] = birds ['island'].astype('category')"
   ]
  },
  {
   "cell_type": "code",
   "execution_count": 38,
   "id": "9b15a9a1-5742-4393-9ce1-2175b392732d",
   "metadata": {},
   "outputs": [],
   "source": [
    "birds['sex'] = birds ['sex'].astype('category')"
   ]
  },
  {
   "cell_type": "code",
   "execution_count": 39,
   "id": "e7d5ad1d-9e72-4258-ad17-1ff053a40dba",
   "metadata": {},
   "outputs": [
    {
     "name": "stdout",
     "output_type": "stream",
     "text": [
      "<class 'pandas.core.frame.DataFrame'>\n",
      "RangeIndex: 344 entries, 0 to 343\n",
      "Data columns (total 11 columns):\n",
      " #   Column             Non-Null Count  Dtype   \n",
      "---  ------             --------------  -----   \n",
      " 0   rowid              344 non-null    category\n",
      " 1   species            344 non-null    category\n",
      " 2   island             344 non-null    category\n",
      " 3   bill_length_mm     344 non-null    float64 \n",
      " 4   bill_depth_mm      344 non-null    float64 \n",
      " 5   flipper_length_mm  344 non-null    float64 \n",
      " 6   body_mass_g        344 non-null    float64 \n",
      " 7   sex                344 non-null    category\n",
      " 8   year               344 non-null    category\n",
      " 9   weight             344 non-null    float64 \n",
      " 10  body-mass_g        344 non-null    float64 \n",
      "dtypes: category(5), float64(6)\n",
      "memory usage: 29.6 KB\n"
     ]
    }
   ],
   "source": [
    "birds.info() "
   ]
  },
  {
   "cell_type": "markdown",
   "id": "b1ef5b7b-de3a-43a5-890c-99bb5ed35546",
   "metadata": {},
   "source": [
    "<h1>conditional operators</h1>"
   ]
  },
  {
   "cell_type": "code",
   "execution_count": 40,
   "id": "151a7bfe-ebfb-411c-aa29-e818a927fc89",
   "metadata": {},
   "outputs": [
    {
     "data": {
      "text/plain": [
       "rowid                152\n",
       "species              152\n",
       "island               152\n",
       "bill_length_mm       152\n",
       "bill_depth_mm        152\n",
       "flipper_length_mm    152\n",
       "body_mass_g          152\n",
       "sex                  152\n",
       "year                 152\n",
       "weight               152\n",
       "body-mass_g          152\n",
       "dtype: int64"
      ]
     },
     "execution_count": 40,
     "metadata": {},
     "output_type": "execute_result"
    }
   ],
   "source": [
    "birds[birds['species'] == 'Adelie' ].count()"
   ]
  },
  {
   "cell_type": "code",
   "execution_count": 41,
   "id": "059018fc-a863-42ad-82b6-36a25f6c54b9",
   "metadata": {},
   "outputs": [
    {
     "data": {
      "text/plain": [
       "rowid                124\n",
       "species              124\n",
       "island               124\n",
       "bill_length_mm       124\n",
       "bill_depth_mm        124\n",
       "flipper_length_mm    124\n",
       "body_mass_g          124\n",
       "sex                  124\n",
       "year                 124\n",
       "weight               124\n",
       "body-mass_g          124\n",
       "dtype: int64"
      ]
     },
     "execution_count": 41,
     "metadata": {},
     "output_type": "execute_result"
    }
   ],
   "source": [
    "birds[birds['species'] == 'Gentoo' ].count()"
   ]
  },
  {
   "cell_type": "code",
   "execution_count": 42,
   "id": "d66cd007-5b16-426f-9cfe-7d972c931209",
   "metadata": {},
   "outputs": [
    {
     "data": {
      "text/plain": [
       "rowid                68\n",
       "species              68\n",
       "island               68\n",
       "bill_length_mm       68\n",
       "bill_depth_mm        68\n",
       "flipper_length_mm    68\n",
       "body_mass_g          68\n",
       "sex                  68\n",
       "year                 68\n",
       "weight               68\n",
       "body-mass_g          68\n",
       "dtype: int64"
      ]
     },
     "execution_count": 42,
     "metadata": {},
     "output_type": "execute_result"
    }
   ],
   "source": [
    "birds[birds['species'] == 'Chinstrap' ].count()"
   ]
  },
  {
   "cell_type": "code",
   "execution_count": 43,
   "id": "365f56c8-45e0-4b05-a79f-28319948ac42",
   "metadata": {},
   "outputs": [],
   "source": [
    "A =birds[birds['species'] == 'Chinstrap' ].count()\n",
    "B =birds[birds['species'] == 'Adelie' ].count()\n",
    "C =birds[birds['species'] == 'Gentoo' ].count()"
   ]
  },
  {
   "cell_type": "markdown",
   "id": "82234d4a-3d3c-45ad-9596-3f76404036ea",
   "metadata": {},
   "source": [
    "<h1>HOW MANY GENTOO SPECIES HAVE WEIHT MORE THAN 3KG"
   ]
  },
  {
   "cell_type": "code",
   "execution_count": 44,
   "id": "002f1816-6409-426e-a3c8-68bb595589d6",
   "metadata": {},
   "outputs": [
    {
     "data": {
      "text/plain": [
       "0      True\n",
       "1      True\n",
       "2      True\n",
       "3      True\n",
       "4      True\n",
       "       ... \n",
       "339    True\n",
       "340    True\n",
       "341    True\n",
       "342    True\n",
       "343    True\n",
       "Name: weight, Length: 344, dtype: bool"
      ]
     },
     "execution_count": 44,
     "metadata": {},
     "output_type": "execute_result"
    }
   ],
   "source": [
    "birds['weight'] > 3"
   ]
  },
  {
   "cell_type": "code",
   "execution_count": null,
   "id": "f519a2a9-1282-48c4-9b74-1293a87c5538",
   "metadata": {},
   "outputs": [],
   "source": []
  },
  {
   "cell_type": "code",
   "execution_count": 45,
   "id": "9dffd8f5-14ca-4492-a412-1181d593a8f7",
   "metadata": {},
   "outputs": [
    {
     "data": {
      "text/plain": [
       "species\n",
       "Adelie       152\n",
       "Gentoo       124\n",
       "Chinstrap     68\n",
       "Name: count, dtype: int64"
      ]
     },
     "execution_count": 45,
     "metadata": {},
     "output_type": "execute_result"
    }
   ],
   "source": [
    "birds['species'].value_counts()"
   ]
  },
  {
   "cell_type": "code",
   "execution_count": 46,
   "id": "fd51138d-e12e-4e19-8a3a-207fe03bd91b",
   "metadata": {},
   "outputs": [
    {
     "data": {
      "text/plain": [
       "island\n",
       "Biscoe       168\n",
       "Dream        124\n",
       "Torgersen     52\n",
       "Name: count, dtype: int64"
      ]
     },
     "execution_count": 46,
     "metadata": {},
     "output_type": "execute_result"
    }
   ],
   "source": [
    "birds['island'].value_counts()"
   ]
  },
  {
   "cell_type": "code",
   "execution_count": 47,
   "id": "c06d6e48-1827-49fa-b668-3b367ea61176",
   "metadata": {},
   "outputs": [
    {
     "data": {
      "text/plain": [
       "0      False\n",
       "1      False\n",
       "2      False\n",
       "3      False\n",
       "4      False\n",
       "       ...  \n",
       "339    False\n",
       "340    False\n",
       "341    False\n",
       "342    False\n",
       "343    False\n",
       "Name: species, Length: 344, dtype: bool"
      ]
     },
     "execution_count": 47,
     "metadata": {},
     "output_type": "execute_result"
    }
   ],
   "source": [
    "birds['species'] == 'Gentoo'"
   ]
  },
  {
   "cell_type": "markdown",
   "id": "7de5dab7-4050-4f13-aeab-150205f5fe5a",
   "metadata": {},
   "source": [
    "<h1>insight no 1</h1>"
   ]
  },
  {
   "cell_type": "code",
   "execution_count": 48,
   "id": "fd6d7cb7-463b-44eb-a163-163f02d91368",
   "metadata": {},
   "outputs": [
    {
     "data": {
      "text/plain": [
       "0      37.50\n",
       "1      38.00\n",
       "2      32.50\n",
       "3      42.02\n",
       "4      34.50\n",
       "       ...  \n",
       "339    40.00\n",
       "340    34.00\n",
       "341    37.75\n",
       "342    41.00\n",
       "343    37.75\n",
       "Name: wkilo, Length: 344, dtype: float64"
      ]
     },
     "execution_count": 48,
     "metadata": {},
     "output_type": "execute_result"
    }
   ],
   "source": [
    "birds['wkilo'] = np.round(birds['body_mass_g']/ 100,2)\n",
    "birds['wkilo']\n"
   ]
  },
  {
   "cell_type": "code",
   "execution_count": 49,
   "id": "50ccbca9-07c9-4eff-81ff-13d97cb9ccea",
   "metadata": {},
   "outputs": [
    {
     "data": {
      "text/html": [
       "<div>\n",
       "<style scoped>\n",
       "    .dataframe tbody tr th:only-of-type {\n",
       "        vertical-align: middle;\n",
       "    }\n",
       "\n",
       "    .dataframe tbody tr th {\n",
       "        vertical-align: top;\n",
       "    }\n",
       "\n",
       "    .dataframe thead th {\n",
       "        text-align: right;\n",
       "    }\n",
       "</style>\n",
       "<table border=\"1\" class=\"dataframe\">\n",
       "  <thead>\n",
       "    <tr style=\"text-align: right;\">\n",
       "      <th></th>\n",
       "      <th>rowid</th>\n",
       "      <th>species</th>\n",
       "      <th>island</th>\n",
       "      <th>bill_length_mm</th>\n",
       "      <th>bill_depth_mm</th>\n",
       "      <th>flipper_length_mm</th>\n",
       "      <th>body_mass_g</th>\n",
       "      <th>sex</th>\n",
       "      <th>year</th>\n",
       "      <th>weight</th>\n",
       "      <th>body-mass_g</th>\n",
       "      <th>wkilo</th>\n",
       "    </tr>\n",
       "  </thead>\n",
       "  <tbody>\n",
       "    <tr>\n",
       "      <th>20</th>\n",
       "      <td>21</td>\n",
       "      <td>Adelie</td>\n",
       "      <td>Biscoe</td>\n",
       "      <td>37.8</td>\n",
       "      <td>18.3</td>\n",
       "      <td>174.0</td>\n",
       "      <td>3400.0</td>\n",
       "      <td>female</td>\n",
       "      <td>2007</td>\n",
       "      <td>3.4</td>\n",
       "      <td>3400.0</td>\n",
       "      <td>34.00</td>\n",
       "    </tr>\n",
       "    <tr>\n",
       "      <th>21</th>\n",
       "      <td>22</td>\n",
       "      <td>Adelie</td>\n",
       "      <td>Biscoe</td>\n",
       "      <td>37.7</td>\n",
       "      <td>18.7</td>\n",
       "      <td>180.0</td>\n",
       "      <td>3600.0</td>\n",
       "      <td>male</td>\n",
       "      <td>2007</td>\n",
       "      <td>3.6</td>\n",
       "      <td>3600.0</td>\n",
       "      <td>36.00</td>\n",
       "    </tr>\n",
       "    <tr>\n",
       "      <th>22</th>\n",
       "      <td>23</td>\n",
       "      <td>Adelie</td>\n",
       "      <td>Biscoe</td>\n",
       "      <td>35.9</td>\n",
       "      <td>19.2</td>\n",
       "      <td>189.0</td>\n",
       "      <td>3800.0</td>\n",
       "      <td>female</td>\n",
       "      <td>2007</td>\n",
       "      <td>3.8</td>\n",
       "      <td>3800.0</td>\n",
       "      <td>38.00</td>\n",
       "    </tr>\n",
       "    <tr>\n",
       "      <th>23</th>\n",
       "      <td>24</td>\n",
       "      <td>Adelie</td>\n",
       "      <td>Biscoe</td>\n",
       "      <td>38.2</td>\n",
       "      <td>18.1</td>\n",
       "      <td>185.0</td>\n",
       "      <td>3950.0</td>\n",
       "      <td>male</td>\n",
       "      <td>2007</td>\n",
       "      <td>4.0</td>\n",
       "      <td>3950.0</td>\n",
       "      <td>39.50</td>\n",
       "    </tr>\n",
       "    <tr>\n",
       "      <th>24</th>\n",
       "      <td>25</td>\n",
       "      <td>Adelie</td>\n",
       "      <td>Biscoe</td>\n",
       "      <td>38.8</td>\n",
       "      <td>17.2</td>\n",
       "      <td>180.0</td>\n",
       "      <td>3800.0</td>\n",
       "      <td>male</td>\n",
       "      <td>2007</td>\n",
       "      <td>3.8</td>\n",
       "      <td>3800.0</td>\n",
       "      <td>38.00</td>\n",
       "    </tr>\n",
       "    <tr>\n",
       "      <th>25</th>\n",
       "      <td>26</td>\n",
       "      <td>Adelie</td>\n",
       "      <td>Biscoe</td>\n",
       "      <td>35.3</td>\n",
       "      <td>18.9</td>\n",
       "      <td>187.0</td>\n",
       "      <td>3800.0</td>\n",
       "      <td>female</td>\n",
       "      <td>2007</td>\n",
       "      <td>3.8</td>\n",
       "      <td>3800.0</td>\n",
       "      <td>38.00</td>\n",
       "    </tr>\n",
       "    <tr>\n",
       "      <th>26</th>\n",
       "      <td>27</td>\n",
       "      <td>Adelie</td>\n",
       "      <td>Biscoe</td>\n",
       "      <td>40.6</td>\n",
       "      <td>18.6</td>\n",
       "      <td>183.0</td>\n",
       "      <td>3550.0</td>\n",
       "      <td>male</td>\n",
       "      <td>2007</td>\n",
       "      <td>3.6</td>\n",
       "      <td>3550.0</td>\n",
       "      <td>35.50</td>\n",
       "    </tr>\n",
       "    <tr>\n",
       "      <th>27</th>\n",
       "      <td>28</td>\n",
       "      <td>Adelie</td>\n",
       "      <td>Biscoe</td>\n",
       "      <td>40.5</td>\n",
       "      <td>17.9</td>\n",
       "      <td>187.0</td>\n",
       "      <td>3200.0</td>\n",
       "      <td>female</td>\n",
       "      <td>2007</td>\n",
       "      <td>3.2</td>\n",
       "      <td>3200.0</td>\n",
       "      <td>32.00</td>\n",
       "    </tr>\n",
       "    <tr>\n",
       "      <th>28</th>\n",
       "      <td>29</td>\n",
       "      <td>Adelie</td>\n",
       "      <td>Biscoe</td>\n",
       "      <td>37.9</td>\n",
       "      <td>18.6</td>\n",
       "      <td>172.0</td>\n",
       "      <td>3150.0</td>\n",
       "      <td>female</td>\n",
       "      <td>2007</td>\n",
       "      <td>3.2</td>\n",
       "      <td>3150.0</td>\n",
       "      <td>31.50</td>\n",
       "    </tr>\n",
       "    <tr>\n",
       "      <th>29</th>\n",
       "      <td>30</td>\n",
       "      <td>Adelie</td>\n",
       "      <td>Biscoe</td>\n",
       "      <td>40.5</td>\n",
       "      <td>18.9</td>\n",
       "      <td>180.0</td>\n",
       "      <td>3950.0</td>\n",
       "      <td>male</td>\n",
       "      <td>2007</td>\n",
       "      <td>4.0</td>\n",
       "      <td>3950.0</td>\n",
       "      <td>39.50</td>\n",
       "    </tr>\n",
       "    <tr>\n",
       "      <th>50</th>\n",
       "      <td>51</td>\n",
       "      <td>Adelie</td>\n",
       "      <td>Biscoe</td>\n",
       "      <td>39.6</td>\n",
       "      <td>17.7</td>\n",
       "      <td>186.0</td>\n",
       "      <td>3500.0</td>\n",
       "      <td>female</td>\n",
       "      <td>2008</td>\n",
       "      <td>3.5</td>\n",
       "      <td>3500.0</td>\n",
       "      <td>35.00</td>\n",
       "    </tr>\n",
       "    <tr>\n",
       "      <th>51</th>\n",
       "      <td>52</td>\n",
       "      <td>Adelie</td>\n",
       "      <td>Biscoe</td>\n",
       "      <td>40.1</td>\n",
       "      <td>18.9</td>\n",
       "      <td>188.0</td>\n",
       "      <td>4300.0</td>\n",
       "      <td>male</td>\n",
       "      <td>2008</td>\n",
       "      <td>4.3</td>\n",
       "      <td>4300.0</td>\n",
       "      <td>43.00</td>\n",
       "    </tr>\n",
       "    <tr>\n",
       "      <th>52</th>\n",
       "      <td>53</td>\n",
       "      <td>Adelie</td>\n",
       "      <td>Biscoe</td>\n",
       "      <td>35.0</td>\n",
       "      <td>17.9</td>\n",
       "      <td>190.0</td>\n",
       "      <td>3450.0</td>\n",
       "      <td>female</td>\n",
       "      <td>2008</td>\n",
       "      <td>3.4</td>\n",
       "      <td>3450.0</td>\n",
       "      <td>34.50</td>\n",
       "    </tr>\n",
       "    <tr>\n",
       "      <th>53</th>\n",
       "      <td>54</td>\n",
       "      <td>Adelie</td>\n",
       "      <td>Biscoe</td>\n",
       "      <td>42.0</td>\n",
       "      <td>19.5</td>\n",
       "      <td>200.0</td>\n",
       "      <td>4050.0</td>\n",
       "      <td>male</td>\n",
       "      <td>2008</td>\n",
       "      <td>4.0</td>\n",
       "      <td>4050.0</td>\n",
       "      <td>40.50</td>\n",
       "    </tr>\n",
       "    <tr>\n",
       "      <th>54</th>\n",
       "      <td>55</td>\n",
       "      <td>Adelie</td>\n",
       "      <td>Biscoe</td>\n",
       "      <td>34.5</td>\n",
       "      <td>18.1</td>\n",
       "      <td>187.0</td>\n",
       "      <td>2900.0</td>\n",
       "      <td>female</td>\n",
       "      <td>2008</td>\n",
       "      <td>2.9</td>\n",
       "      <td>2900.0</td>\n",
       "      <td>29.00</td>\n",
       "    </tr>\n",
       "    <tr>\n",
       "      <th>55</th>\n",
       "      <td>56</td>\n",
       "      <td>Adelie</td>\n",
       "      <td>Biscoe</td>\n",
       "      <td>41.4</td>\n",
       "      <td>18.6</td>\n",
       "      <td>191.0</td>\n",
       "      <td>3700.0</td>\n",
       "      <td>male</td>\n",
       "      <td>2008</td>\n",
       "      <td>3.7</td>\n",
       "      <td>3700.0</td>\n",
       "      <td>37.00</td>\n",
       "    </tr>\n",
       "    <tr>\n",
       "      <th>56</th>\n",
       "      <td>57</td>\n",
       "      <td>Adelie</td>\n",
       "      <td>Biscoe</td>\n",
       "      <td>39.0</td>\n",
       "      <td>17.5</td>\n",
       "      <td>186.0</td>\n",
       "      <td>3550.0</td>\n",
       "      <td>female</td>\n",
       "      <td>2008</td>\n",
       "      <td>3.6</td>\n",
       "      <td>3550.0</td>\n",
       "      <td>35.50</td>\n",
       "    </tr>\n",
       "    <tr>\n",
       "      <th>57</th>\n",
       "      <td>58</td>\n",
       "      <td>Adelie</td>\n",
       "      <td>Biscoe</td>\n",
       "      <td>40.6</td>\n",
       "      <td>18.8</td>\n",
       "      <td>193.0</td>\n",
       "      <td>3800.0</td>\n",
       "      <td>male</td>\n",
       "      <td>2008</td>\n",
       "      <td>3.8</td>\n",
       "      <td>3800.0</td>\n",
       "      <td>38.00</td>\n",
       "    </tr>\n",
       "    <tr>\n",
       "      <th>58</th>\n",
       "      <td>59</td>\n",
       "      <td>Adelie</td>\n",
       "      <td>Biscoe</td>\n",
       "      <td>36.5</td>\n",
       "      <td>16.6</td>\n",
       "      <td>181.0</td>\n",
       "      <td>2850.0</td>\n",
       "      <td>female</td>\n",
       "      <td>2008</td>\n",
       "      <td>2.8</td>\n",
       "      <td>2850.0</td>\n",
       "      <td>28.50</td>\n",
       "    </tr>\n",
       "    <tr>\n",
       "      <th>59</th>\n",
       "      <td>60</td>\n",
       "      <td>Adelie</td>\n",
       "      <td>Biscoe</td>\n",
       "      <td>37.6</td>\n",
       "      <td>19.1</td>\n",
       "      <td>194.0</td>\n",
       "      <td>3750.0</td>\n",
       "      <td>male</td>\n",
       "      <td>2008</td>\n",
       "      <td>3.8</td>\n",
       "      <td>3750.0</td>\n",
       "      <td>37.50</td>\n",
       "    </tr>\n",
       "    <tr>\n",
       "      <th>60</th>\n",
       "      <td>61</td>\n",
       "      <td>Adelie</td>\n",
       "      <td>Biscoe</td>\n",
       "      <td>35.7</td>\n",
       "      <td>16.9</td>\n",
       "      <td>185.0</td>\n",
       "      <td>3150.0</td>\n",
       "      <td>female</td>\n",
       "      <td>2008</td>\n",
       "      <td>3.2</td>\n",
       "      <td>3150.0</td>\n",
       "      <td>31.50</td>\n",
       "    </tr>\n",
       "    <tr>\n",
       "      <th>61</th>\n",
       "      <td>62</td>\n",
       "      <td>Adelie</td>\n",
       "      <td>Biscoe</td>\n",
       "      <td>41.3</td>\n",
       "      <td>21.1</td>\n",
       "      <td>195.0</td>\n",
       "      <td>4400.0</td>\n",
       "      <td>male</td>\n",
       "      <td>2008</td>\n",
       "      <td>4.4</td>\n",
       "      <td>4400.0</td>\n",
       "      <td>44.00</td>\n",
       "    </tr>\n",
       "    <tr>\n",
       "      <th>62</th>\n",
       "      <td>63</td>\n",
       "      <td>Adelie</td>\n",
       "      <td>Biscoe</td>\n",
       "      <td>37.6</td>\n",
       "      <td>17.0</td>\n",
       "      <td>185.0</td>\n",
       "      <td>3600.0</td>\n",
       "      <td>female</td>\n",
       "      <td>2008</td>\n",
       "      <td>3.6</td>\n",
       "      <td>3600.0</td>\n",
       "      <td>36.00</td>\n",
       "    </tr>\n",
       "    <tr>\n",
       "      <th>63</th>\n",
       "      <td>64</td>\n",
       "      <td>Adelie</td>\n",
       "      <td>Biscoe</td>\n",
       "      <td>41.1</td>\n",
       "      <td>18.2</td>\n",
       "      <td>192.0</td>\n",
       "      <td>4050.0</td>\n",
       "      <td>male</td>\n",
       "      <td>2008</td>\n",
       "      <td>4.0</td>\n",
       "      <td>4050.0</td>\n",
       "      <td>40.50</td>\n",
       "    </tr>\n",
       "    <tr>\n",
       "      <th>64</th>\n",
       "      <td>65</td>\n",
       "      <td>Adelie</td>\n",
       "      <td>Biscoe</td>\n",
       "      <td>36.4</td>\n",
       "      <td>17.1</td>\n",
       "      <td>184.0</td>\n",
       "      <td>2850.0</td>\n",
       "      <td>female</td>\n",
       "      <td>2008</td>\n",
       "      <td>2.8</td>\n",
       "      <td>2850.0</td>\n",
       "      <td>28.50</td>\n",
       "    </tr>\n",
       "    <tr>\n",
       "      <th>65</th>\n",
       "      <td>66</td>\n",
       "      <td>Adelie</td>\n",
       "      <td>Biscoe</td>\n",
       "      <td>41.6</td>\n",
       "      <td>18.0</td>\n",
       "      <td>192.0</td>\n",
       "      <td>3950.0</td>\n",
       "      <td>male</td>\n",
       "      <td>2008</td>\n",
       "      <td>4.0</td>\n",
       "      <td>3950.0</td>\n",
       "      <td>39.50</td>\n",
       "    </tr>\n",
       "    <tr>\n",
       "      <th>66</th>\n",
       "      <td>67</td>\n",
       "      <td>Adelie</td>\n",
       "      <td>Biscoe</td>\n",
       "      <td>35.5</td>\n",
       "      <td>16.2</td>\n",
       "      <td>195.0</td>\n",
       "      <td>3350.0</td>\n",
       "      <td>female</td>\n",
       "      <td>2008</td>\n",
       "      <td>3.4</td>\n",
       "      <td>3350.0</td>\n",
       "      <td>33.50</td>\n",
       "    </tr>\n",
       "    <tr>\n",
       "      <th>67</th>\n",
       "      <td>68</td>\n",
       "      <td>Adelie</td>\n",
       "      <td>Biscoe</td>\n",
       "      <td>41.1</td>\n",
       "      <td>19.1</td>\n",
       "      <td>188.0</td>\n",
       "      <td>4100.0</td>\n",
       "      <td>male</td>\n",
       "      <td>2008</td>\n",
       "      <td>4.1</td>\n",
       "      <td>4100.0</td>\n",
       "      <td>41.00</td>\n",
       "    </tr>\n",
       "    <tr>\n",
       "      <th>100</th>\n",
       "      <td>101</td>\n",
       "      <td>Adelie</td>\n",
       "      <td>Biscoe</td>\n",
       "      <td>35.0</td>\n",
       "      <td>17.9</td>\n",
       "      <td>192.0</td>\n",
       "      <td>3725.0</td>\n",
       "      <td>female</td>\n",
       "      <td>2009</td>\n",
       "      <td>3.7</td>\n",
       "      <td>3725.0</td>\n",
       "      <td>37.25</td>\n",
       "    </tr>\n",
       "    <tr>\n",
       "      <th>101</th>\n",
       "      <td>102</td>\n",
       "      <td>Adelie</td>\n",
       "      <td>Biscoe</td>\n",
       "      <td>41.0</td>\n",
       "      <td>20.0</td>\n",
       "      <td>203.0</td>\n",
       "      <td>4725.0</td>\n",
       "      <td>male</td>\n",
       "      <td>2009</td>\n",
       "      <td>4.7</td>\n",
       "      <td>4725.0</td>\n",
       "      <td>47.25</td>\n",
       "    </tr>\n",
       "    <tr>\n",
       "      <th>102</th>\n",
       "      <td>103</td>\n",
       "      <td>Adelie</td>\n",
       "      <td>Biscoe</td>\n",
       "      <td>37.7</td>\n",
       "      <td>16.0</td>\n",
       "      <td>183.0</td>\n",
       "      <td>3075.0</td>\n",
       "      <td>female</td>\n",
       "      <td>2009</td>\n",
       "      <td>3.1</td>\n",
       "      <td>3075.0</td>\n",
       "      <td>30.75</td>\n",
       "    </tr>\n",
       "    <tr>\n",
       "      <th>103</th>\n",
       "      <td>104</td>\n",
       "      <td>Adelie</td>\n",
       "      <td>Biscoe</td>\n",
       "      <td>37.8</td>\n",
       "      <td>20.0</td>\n",
       "      <td>190.0</td>\n",
       "      <td>4250.0</td>\n",
       "      <td>male</td>\n",
       "      <td>2009</td>\n",
       "      <td>4.2</td>\n",
       "      <td>4250.0</td>\n",
       "      <td>42.50</td>\n",
       "    </tr>\n",
       "    <tr>\n",
       "      <th>104</th>\n",
       "      <td>105</td>\n",
       "      <td>Adelie</td>\n",
       "      <td>Biscoe</td>\n",
       "      <td>37.9</td>\n",
       "      <td>18.6</td>\n",
       "      <td>193.0</td>\n",
       "      <td>2925.0</td>\n",
       "      <td>female</td>\n",
       "      <td>2009</td>\n",
       "      <td>2.9</td>\n",
       "      <td>2925.0</td>\n",
       "      <td>29.25</td>\n",
       "    </tr>\n",
       "    <tr>\n",
       "      <th>105</th>\n",
       "      <td>106</td>\n",
       "      <td>Adelie</td>\n",
       "      <td>Biscoe</td>\n",
       "      <td>39.7</td>\n",
       "      <td>18.9</td>\n",
       "      <td>184.0</td>\n",
       "      <td>3550.0</td>\n",
       "      <td>male</td>\n",
       "      <td>2009</td>\n",
       "      <td>3.6</td>\n",
       "      <td>3550.0</td>\n",
       "      <td>35.50</td>\n",
       "    </tr>\n",
       "    <tr>\n",
       "      <th>106</th>\n",
       "      <td>107</td>\n",
       "      <td>Adelie</td>\n",
       "      <td>Biscoe</td>\n",
       "      <td>38.6</td>\n",
       "      <td>17.2</td>\n",
       "      <td>199.0</td>\n",
       "      <td>3750.0</td>\n",
       "      <td>female</td>\n",
       "      <td>2009</td>\n",
       "      <td>3.8</td>\n",
       "      <td>3750.0</td>\n",
       "      <td>37.50</td>\n",
       "    </tr>\n",
       "    <tr>\n",
       "      <th>107</th>\n",
       "      <td>108</td>\n",
       "      <td>Adelie</td>\n",
       "      <td>Biscoe</td>\n",
       "      <td>38.2</td>\n",
       "      <td>20.0</td>\n",
       "      <td>190.0</td>\n",
       "      <td>3900.0</td>\n",
       "      <td>male</td>\n",
       "      <td>2009</td>\n",
       "      <td>3.9</td>\n",
       "      <td>3900.0</td>\n",
       "      <td>39.00</td>\n",
       "    </tr>\n",
       "    <tr>\n",
       "      <th>108</th>\n",
       "      <td>109</td>\n",
       "      <td>Adelie</td>\n",
       "      <td>Biscoe</td>\n",
       "      <td>38.1</td>\n",
       "      <td>17.0</td>\n",
       "      <td>181.0</td>\n",
       "      <td>3175.0</td>\n",
       "      <td>female</td>\n",
       "      <td>2009</td>\n",
       "      <td>3.2</td>\n",
       "      <td>3175.0</td>\n",
       "      <td>31.75</td>\n",
       "    </tr>\n",
       "    <tr>\n",
       "      <th>109</th>\n",
       "      <td>110</td>\n",
       "      <td>Adelie</td>\n",
       "      <td>Biscoe</td>\n",
       "      <td>43.2</td>\n",
       "      <td>19.0</td>\n",
       "      <td>197.0</td>\n",
       "      <td>4775.0</td>\n",
       "      <td>male</td>\n",
       "      <td>2009</td>\n",
       "      <td>4.8</td>\n",
       "      <td>4775.0</td>\n",
       "      <td>47.75</td>\n",
       "    </tr>\n",
       "    <tr>\n",
       "      <th>110</th>\n",
       "      <td>111</td>\n",
       "      <td>Adelie</td>\n",
       "      <td>Biscoe</td>\n",
       "      <td>38.1</td>\n",
       "      <td>16.5</td>\n",
       "      <td>198.0</td>\n",
       "      <td>3825.0</td>\n",
       "      <td>female</td>\n",
       "      <td>2009</td>\n",
       "      <td>3.8</td>\n",
       "      <td>3825.0</td>\n",
       "      <td>38.25</td>\n",
       "    </tr>\n",
       "    <tr>\n",
       "      <th>111</th>\n",
       "      <td>112</td>\n",
       "      <td>Adelie</td>\n",
       "      <td>Biscoe</td>\n",
       "      <td>45.6</td>\n",
       "      <td>20.3</td>\n",
       "      <td>191.0</td>\n",
       "      <td>4600.0</td>\n",
       "      <td>male</td>\n",
       "      <td>2009</td>\n",
       "      <td>4.6</td>\n",
       "      <td>4600.0</td>\n",
       "      <td>46.00</td>\n",
       "    </tr>\n",
       "    <tr>\n",
       "      <th>112</th>\n",
       "      <td>113</td>\n",
       "      <td>Adelie</td>\n",
       "      <td>Biscoe</td>\n",
       "      <td>39.7</td>\n",
       "      <td>17.7</td>\n",
       "      <td>193.0</td>\n",
       "      <td>3200.0</td>\n",
       "      <td>female</td>\n",
       "      <td>2009</td>\n",
       "      <td>3.2</td>\n",
       "      <td>3200.0</td>\n",
       "      <td>32.00</td>\n",
       "    </tr>\n",
       "    <tr>\n",
       "      <th>113</th>\n",
       "      <td>114</td>\n",
       "      <td>Adelie</td>\n",
       "      <td>Biscoe</td>\n",
       "      <td>42.2</td>\n",
       "      <td>19.5</td>\n",
       "      <td>197.0</td>\n",
       "      <td>4275.0</td>\n",
       "      <td>male</td>\n",
       "      <td>2009</td>\n",
       "      <td>4.3</td>\n",
       "      <td>4275.0</td>\n",
       "      <td>42.75</td>\n",
       "    </tr>\n",
       "    <tr>\n",
       "      <th>114</th>\n",
       "      <td>115</td>\n",
       "      <td>Adelie</td>\n",
       "      <td>Biscoe</td>\n",
       "      <td>39.6</td>\n",
       "      <td>20.7</td>\n",
       "      <td>191.0</td>\n",
       "      <td>3900.0</td>\n",
       "      <td>female</td>\n",
       "      <td>2009</td>\n",
       "      <td>3.9</td>\n",
       "      <td>3900.0</td>\n",
       "      <td>39.00</td>\n",
       "    </tr>\n",
       "    <tr>\n",
       "      <th>115</th>\n",
       "      <td>116</td>\n",
       "      <td>Adelie</td>\n",
       "      <td>Biscoe</td>\n",
       "      <td>42.7</td>\n",
       "      <td>18.3</td>\n",
       "      <td>196.0</td>\n",
       "      <td>4075.0</td>\n",
       "      <td>male</td>\n",
       "      <td>2009</td>\n",
       "      <td>4.1</td>\n",
       "      <td>4075.0</td>\n",
       "      <td>40.75</td>\n",
       "    </tr>\n",
       "  </tbody>\n",
       "</table>\n",
       "</div>"
      ],
      "text/plain": [
       "    rowid species  island  bill_length_mm  bill_depth_mm  flipper_length_mm  \\\n",
       "20     21  Adelie  Biscoe            37.8           18.3              174.0   \n",
       "21     22  Adelie  Biscoe            37.7           18.7              180.0   \n",
       "22     23  Adelie  Biscoe            35.9           19.2              189.0   \n",
       "23     24  Adelie  Biscoe            38.2           18.1              185.0   \n",
       "24     25  Adelie  Biscoe            38.8           17.2              180.0   \n",
       "25     26  Adelie  Biscoe            35.3           18.9              187.0   \n",
       "26     27  Adelie  Biscoe            40.6           18.6              183.0   \n",
       "27     28  Adelie  Biscoe            40.5           17.9              187.0   \n",
       "28     29  Adelie  Biscoe            37.9           18.6              172.0   \n",
       "29     30  Adelie  Biscoe            40.5           18.9              180.0   \n",
       "50     51  Adelie  Biscoe            39.6           17.7              186.0   \n",
       "51     52  Adelie  Biscoe            40.1           18.9              188.0   \n",
       "52     53  Adelie  Biscoe            35.0           17.9              190.0   \n",
       "53     54  Adelie  Biscoe            42.0           19.5              200.0   \n",
       "54     55  Adelie  Biscoe            34.5           18.1              187.0   \n",
       "55     56  Adelie  Biscoe            41.4           18.6              191.0   \n",
       "56     57  Adelie  Biscoe            39.0           17.5              186.0   \n",
       "57     58  Adelie  Biscoe            40.6           18.8              193.0   \n",
       "58     59  Adelie  Biscoe            36.5           16.6              181.0   \n",
       "59     60  Adelie  Biscoe            37.6           19.1              194.0   \n",
       "60     61  Adelie  Biscoe            35.7           16.9              185.0   \n",
       "61     62  Adelie  Biscoe            41.3           21.1              195.0   \n",
       "62     63  Adelie  Biscoe            37.6           17.0              185.0   \n",
       "63     64  Adelie  Biscoe            41.1           18.2              192.0   \n",
       "64     65  Adelie  Biscoe            36.4           17.1              184.0   \n",
       "65     66  Adelie  Biscoe            41.6           18.0              192.0   \n",
       "66     67  Adelie  Biscoe            35.5           16.2              195.0   \n",
       "67     68  Adelie  Biscoe            41.1           19.1              188.0   \n",
       "100   101  Adelie  Biscoe            35.0           17.9              192.0   \n",
       "101   102  Adelie  Biscoe            41.0           20.0              203.0   \n",
       "102   103  Adelie  Biscoe            37.7           16.0              183.0   \n",
       "103   104  Adelie  Biscoe            37.8           20.0              190.0   \n",
       "104   105  Adelie  Biscoe            37.9           18.6              193.0   \n",
       "105   106  Adelie  Biscoe            39.7           18.9              184.0   \n",
       "106   107  Adelie  Biscoe            38.6           17.2              199.0   \n",
       "107   108  Adelie  Biscoe            38.2           20.0              190.0   \n",
       "108   109  Adelie  Biscoe            38.1           17.0              181.0   \n",
       "109   110  Adelie  Biscoe            43.2           19.0              197.0   \n",
       "110   111  Adelie  Biscoe            38.1           16.5              198.0   \n",
       "111   112  Adelie  Biscoe            45.6           20.3              191.0   \n",
       "112   113  Adelie  Biscoe            39.7           17.7              193.0   \n",
       "113   114  Adelie  Biscoe            42.2           19.5              197.0   \n",
       "114   115  Adelie  Biscoe            39.6           20.7              191.0   \n",
       "115   116  Adelie  Biscoe            42.7           18.3              196.0   \n",
       "\n",
       "     body_mass_g     sex  year  weight  body-mass_g  wkilo  \n",
       "20        3400.0  female  2007     3.4       3400.0  34.00  \n",
       "21        3600.0    male  2007     3.6       3600.0  36.00  \n",
       "22        3800.0  female  2007     3.8       3800.0  38.00  \n",
       "23        3950.0    male  2007     4.0       3950.0  39.50  \n",
       "24        3800.0    male  2007     3.8       3800.0  38.00  \n",
       "25        3800.0  female  2007     3.8       3800.0  38.00  \n",
       "26        3550.0    male  2007     3.6       3550.0  35.50  \n",
       "27        3200.0  female  2007     3.2       3200.0  32.00  \n",
       "28        3150.0  female  2007     3.2       3150.0  31.50  \n",
       "29        3950.0    male  2007     4.0       3950.0  39.50  \n",
       "50        3500.0  female  2008     3.5       3500.0  35.00  \n",
       "51        4300.0    male  2008     4.3       4300.0  43.00  \n",
       "52        3450.0  female  2008     3.4       3450.0  34.50  \n",
       "53        4050.0    male  2008     4.0       4050.0  40.50  \n",
       "54        2900.0  female  2008     2.9       2900.0  29.00  \n",
       "55        3700.0    male  2008     3.7       3700.0  37.00  \n",
       "56        3550.0  female  2008     3.6       3550.0  35.50  \n",
       "57        3800.0    male  2008     3.8       3800.0  38.00  \n",
       "58        2850.0  female  2008     2.8       2850.0  28.50  \n",
       "59        3750.0    male  2008     3.8       3750.0  37.50  \n",
       "60        3150.0  female  2008     3.2       3150.0  31.50  \n",
       "61        4400.0    male  2008     4.4       4400.0  44.00  \n",
       "62        3600.0  female  2008     3.6       3600.0  36.00  \n",
       "63        4050.0    male  2008     4.0       4050.0  40.50  \n",
       "64        2850.0  female  2008     2.8       2850.0  28.50  \n",
       "65        3950.0    male  2008     4.0       3950.0  39.50  \n",
       "66        3350.0  female  2008     3.4       3350.0  33.50  \n",
       "67        4100.0    male  2008     4.1       4100.0  41.00  \n",
       "100       3725.0  female  2009     3.7       3725.0  37.25  \n",
       "101       4725.0    male  2009     4.7       4725.0  47.25  \n",
       "102       3075.0  female  2009     3.1       3075.0  30.75  \n",
       "103       4250.0    male  2009     4.2       4250.0  42.50  \n",
       "104       2925.0  female  2009     2.9       2925.0  29.25  \n",
       "105       3550.0    male  2009     3.6       3550.0  35.50  \n",
       "106       3750.0  female  2009     3.8       3750.0  37.50  \n",
       "107       3900.0    male  2009     3.9       3900.0  39.00  \n",
       "108       3175.0  female  2009     3.2       3175.0  31.75  \n",
       "109       4775.0    male  2009     4.8       4775.0  47.75  \n",
       "110       3825.0  female  2009     3.8       3825.0  38.25  \n",
       "111       4600.0    male  2009     4.6       4600.0  46.00  \n",
       "112       3200.0  female  2009     3.2       3200.0  32.00  \n",
       "113       4275.0    male  2009     4.3       4275.0  42.75  \n",
       "114       3900.0  female  2009     3.9       3900.0  39.00  \n",
       "115       4075.0    male  2009     4.1       4075.0  40.75  "
      ]
     },
     "execution_count": 49,
     "metadata": {},
     "output_type": "execute_result"
    }
   ],
   "source": [
    "adelie_biscoe = birds[(birds['species'] == 'Adelie') & (birds['island'] == 'Biscoe')] \n",
    "adelie_biscoe"
   ]
  },
  {
   "cell_type": "code",
   "execution_count": 50,
   "id": "4185d16d-0ff4-48d5-bbd7-07b203c662da",
   "metadata": {},
   "outputs": [
    {
     "data": {
      "text/plain": [
       "rowid                44\n",
       "species              44\n",
       "island               44\n",
       "bill_length_mm       44\n",
       "bill_depth_mm        44\n",
       "flipper_length_mm    44\n",
       "body_mass_g          44\n",
       "sex                  44\n",
       "year                 44\n",
       "weight               44\n",
       "body-mass_g          44\n",
       "wkilo                44\n",
       "dtype: int64"
      ]
     },
     "execution_count": 50,
     "metadata": {},
     "output_type": "execute_result"
    }
   ],
   "source": [
    "birds[(birds['species'] == 'Adelie') & (birds['island'] == 'Biscoe')].count()"
   ]
  },
  {
   "cell_type": "code",
   "execution_count": 51,
   "id": "45ace111-b71a-4ae1-abc7-1708ada8bc62",
   "metadata": {},
   "outputs": [
    {
     "data": {
      "text/plain": [
       "island\n",
       "Biscoe       168\n",
       "Dream        124\n",
       "Torgersen     52\n",
       "Name: count, dtype: int64"
      ]
     },
     "execution_count": 51,
     "metadata": {},
     "output_type": "execute_result"
    }
   ],
   "source": [
    "birds['island'].value_counts()"
   ]
  },
  {
   "cell_type": "markdown",
   "id": "83fde5ff-1fd4-402d-8c5c-6572af919e54",
   "metadata": {},
   "source": [
    "<h2> Adelie on Biscoe Dream"
   ]
  },
  {
   "cell_type": "code",
   "execution_count": 52,
   "id": "b718c4d5-577c-4734-9c25-4511e9a4d968",
   "metadata": {},
   "outputs": [],
   "source": [
    "adelie_dream = birds[(birds['species'] == 'Adelie') & (birds['island'] == 'Dream')]"
   ]
  },
  {
   "cell_type": "code",
   "execution_count": 53,
   "id": "2ddc2b73-f1de-4a45-a994-be5290f4e5a8",
   "metadata": {},
   "outputs": [
    {
     "data": {
      "text/plain": [
       "rowid                56\n",
       "species              56\n",
       "island               56\n",
       "bill_length_mm       56\n",
       "bill_depth_mm        56\n",
       "flipper_length_mm    56\n",
       "body_mass_g          56\n",
       "sex                  56\n",
       "year                 56\n",
       "weight               56\n",
       "body-mass_g          56\n",
       "wkilo                56\n",
       "dtype: int64"
      ]
     },
     "execution_count": 53,
     "metadata": {},
     "output_type": "execute_result"
    }
   ],
   "source": [
    "birds[(birds['species'] == 'Adelie') & (birds['island'] == 'Dream')].count()"
   ]
  },
  {
   "cell_type": "code",
   "execution_count": 54,
   "id": "51492948-4b70-4175-890b-773ffadb590b",
   "metadata": {},
   "outputs": [],
   "source": [
    "adelie_torgersen = birds[(birds['species'] == 'Adelie') & (birds['island'] == 'Torgersen')]"
   ]
  },
  {
   "cell_type": "code",
   "execution_count": 55,
   "id": "2ef6b253-2973-41f5-8638-a6b762f47ddc",
   "metadata": {},
   "outputs": [
    {
     "data": {
      "text/plain": [
       "rowid                52\n",
       "species              52\n",
       "island               52\n",
       "bill_length_mm       52\n",
       "bill_depth_mm        52\n",
       "flipper_length_mm    52\n",
       "body_mass_g          52\n",
       "sex                  52\n",
       "year                 52\n",
       "weight               52\n",
       "body-mass_g          52\n",
       "wkilo                52\n",
       "dtype: int64"
      ]
     },
     "execution_count": 55,
     "metadata": {},
     "output_type": "execute_result"
    }
   ],
   "source": [
    "birds[(birds['species'] == 'Adelie') & (birds['island'] == 'Torgersen')].count()"
   ]
  },
  {
   "cell_type": "code",
   "execution_count": 56,
   "id": "8f882654-9152-43c5-b85e-9eb2430e889e",
   "metadata": {},
   "outputs": [
    {
     "data": {
      "text/plain": [
       "species\n",
       "Adelie       152\n",
       "Gentoo       124\n",
       "Chinstrap     68\n",
       "Name: count, dtype: int64"
      ]
     },
     "execution_count": 56,
     "metadata": {},
     "output_type": "execute_result"
    }
   ],
   "source": [
    "birds['species'].value_counts()"
   ]
  },
  {
   "cell_type": "markdown",
   "id": "57282361-4fa6-4a30-8c6e-7070a935bf43",
   "metadata": {},
   "source": [
    "<h1> Insight No. 2 Gentoo only live in Gentoo Island"
   ]
  },
  {
   "cell_type": "code",
   "execution_count": 57,
   "id": "cd3ab5cc-9202-4be9-ba14-cf8801748e83",
   "metadata": {},
   "outputs": [],
   "source": [
    "gentoo_biscoe = birds[(birds['species'] == 'Gentoo') & (birds['island'] == 'Biscoe')].count()"
   ]
  },
  {
   "cell_type": "code",
   "execution_count": 58,
   "id": "2af95193-4213-493d-a5af-f036c00b95f3",
   "metadata": {},
   "outputs": [
    {
     "data": {
      "text/plain": [
       "rowid                124\n",
       "species              124\n",
       "island               124\n",
       "bill_length_mm       124\n",
       "bill_depth_mm        124\n",
       "flipper_length_mm    124\n",
       "body_mass_g          124\n",
       "sex                  124\n",
       "year                 124\n",
       "weight               124\n",
       "body-mass_g          124\n",
       "wkilo                124\n",
       "dtype: int64"
      ]
     },
     "execution_count": 58,
     "metadata": {},
     "output_type": "execute_result"
    }
   ],
   "source": [
    "birds[(birds['species'] == 'Gentoo') & (birds['island'] == 'Biscoe')].count()"
   ]
  },
  {
   "cell_type": "code",
   "execution_count": 59,
   "id": "1210328f-f135-4b2f-bf8d-69b4159e6f12",
   "metadata": {},
   "outputs": [],
   "source": [
    "gentoo_dream = birds[(birds['species'] == 'Gentoo') & (birds['island'] == 'Dream')].count()"
   ]
  },
  {
   "cell_type": "code",
   "execution_count": 60,
   "id": "7e9d2bd3-e643-42c5-bf0d-b4db4d79b5e2",
   "metadata": {},
   "outputs": [],
   "source": [
    "gentoo_torgersen = birds[(birds['species'] == 'Gentoo') & (birds['island'] == 'Torgersen')].count()"
   ]
  },
  {
   "cell_type": "code",
   "execution_count": 61,
   "id": "b2b6c046-de70-419a-a468-7618b7678632",
   "metadata": {},
   "outputs": [
    {
     "data": {
      "text/plain": [
       "rowid                0\n",
       "species              0\n",
       "island               0\n",
       "bill_length_mm       0\n",
       "bill_depth_mm        0\n",
       "flipper_length_mm    0\n",
       "body_mass_g          0\n",
       "sex                  0\n",
       "year                 0\n",
       "weight               0\n",
       "body-mass_g          0\n",
       "wkilo                0\n",
       "dtype: int64"
      ]
     },
     "execution_count": 61,
     "metadata": {},
     "output_type": "execute_result"
    }
   ],
   "source": [
    "birds[(birds['species'] == 'Gentoo') & (birds['island'] == 'Dream')].count()"
   ]
  },
  {
   "cell_type": "code",
   "execution_count": 62,
   "id": "6bb1e15b-f70f-4b0c-8afc-06f474171b2f",
   "metadata": {},
   "outputs": [],
   "source": [
    "chinstrap_biscoe = birds[(birds['species'] == 'Chinstrap') & (birds['island'] == 'Biscoe')].count()"
   ]
  },
  {
   "cell_type": "code",
   "execution_count": 63,
   "id": "ea985640-21bd-4223-881e-0fac0d51b59c",
   "metadata": {},
   "outputs": [
    {
     "data": {
      "text/plain": [
       "rowid                0\n",
       "species              0\n",
       "island               0\n",
       "bill_length_mm       0\n",
       "bill_depth_mm        0\n",
       "flipper_length_mm    0\n",
       "body_mass_g          0\n",
       "sex                  0\n",
       "year                 0\n",
       "weight               0\n",
       "body-mass_g          0\n",
       "wkilo                0\n",
       "dtype: int64"
      ]
     },
     "execution_count": 63,
     "metadata": {},
     "output_type": "execute_result"
    }
   ],
   "source": [
    "birds[(birds['species'] == 'Chinstrap') & (birds['island'] == 'Biscoe')].count()"
   ]
  },
  {
   "cell_type": "code",
   "execution_count": 64,
   "id": "c0b2e416-75a8-4470-9e05-779bf56021be",
   "metadata": {},
   "outputs": [],
   "source": [
    "chinstrap_dream = birds[(birds['species'] == 'Chinstrap') & (birds['island'] == 'Dream')].count()"
   ]
  },
  {
   "cell_type": "code",
   "execution_count": 65,
   "id": "27941c27-2d8b-434f-8ee5-3d96c2a42001",
   "metadata": {},
   "outputs": [
    {
     "data": {
      "text/plain": [
       "rowid                68\n",
       "species              68\n",
       "island               68\n",
       "bill_length_mm       68\n",
       "bill_depth_mm        68\n",
       "flipper_length_mm    68\n",
       "body_mass_g          68\n",
       "sex                  68\n",
       "year                 68\n",
       "weight               68\n",
       "body-mass_g          68\n",
       "wkilo                68\n",
       "dtype: int64"
      ]
     },
     "execution_count": 65,
     "metadata": {},
     "output_type": "execute_result"
    }
   ],
   "source": [
    "birds[(birds['species'] == 'Chinstrap') & (birds['island'] == 'Dream')].count()"
   ]
  },
  {
   "cell_type": "code",
   "execution_count": 66,
   "id": "60b3829d-eb60-410b-a3a3-949bc88ace0b",
   "metadata": {},
   "outputs": [],
   "source": [
    "chinstrap_torgersen = birds[(birds['species'] == 'Chinstrap') & (birds['island'] == 'Torgersen')].count()"
   ]
  },
  {
   "cell_type": "code",
   "execution_count": 67,
   "id": "23341b36-101a-4d3f-92b1-82ea6b6feec0",
   "metadata": {},
   "outputs": [
    {
     "data": {
      "text/plain": [
       "rowid                0\n",
       "species              0\n",
       "island               0\n",
       "bill_length_mm       0\n",
       "bill_depth_mm        0\n",
       "flipper_length_mm    0\n",
       "body_mass_g          0\n",
       "sex                  0\n",
       "year                 0\n",
       "weight               0\n",
       "body-mass_g          0\n",
       "wkilo                0\n",
       "dtype: int64"
      ]
     },
     "execution_count": 67,
     "metadata": {},
     "output_type": "execute_result"
    }
   ],
   "source": [
    "birds[(birds['species'] == 'Chinstrap') & (birds['island'] == 'Torgersen')].count()"
   ]
  },
  {
   "cell_type": "markdown",
   "id": "016f8b50-9dfa-4ba2-aa34-f3c6c7064dfa",
   "metadata": {},
   "source": [
    "<h1> Insight No. 3 Majority of penguins live in Biscoe Island"
   ]
  },
  {
   "cell_type": "code",
   "execution_count": 68,
   "id": "96463014-5983-461a-be63-a4e1d9ab3d44",
   "metadata": {},
   "outputs": [],
   "source": [
    "birds['wkilo'] = np.round(birds['body_mass_g']/ 100,2)"
   ]
  },
  {
   "cell_type": "code",
   "execution_count": 69,
   "id": "9a395dec-af51-4df7-9312-42015dfab5a7",
   "metadata": {},
   "outputs": [],
   "source": [
    "adelie_biscoe = birds[(birds['species'] == 'Adelie') & (birds['island'] == 'Biscoe')] "
   ]
  },
  {
   "cell_type": "code",
   "execution_count": null,
   "id": "519ee2ec-a3cb-4bc5-990b-ab041274cb3d",
   "metadata": {},
   "outputs": [],
   "source": []
  },
  {
   "cell_type": "code",
   "execution_count": 70,
   "id": "afb202d5-d51b-42bb-8165-a1373eb1d3b8",
   "metadata": {},
   "outputs": [
    {
     "data": {
      "text/plain": [
       "np.float64(37.1)"
      ]
     },
     "execution_count": 70,
     "metadata": {},
     "output_type": "execute_result"
    }
   ],
   "source": [
    "adelie_biscoe_w = np.round(adelie_biscoe['wkilo'].mean(),1)\n",
    "adelie_biscoe_w"
   ]
  },
  {
   "cell_type": "code",
   "execution_count": 71,
   "id": "29cbc1f3-4f53-4275-8a33-0c7b7c7a8942",
   "metadata": {},
   "outputs": [],
   "source": [
    "adelie_dream = birds[(birds['species'] == 'Adelie') & (birds['island'] == 'Dream')]"
   ]
  },
  {
   "cell_type": "code",
   "execution_count": 72,
   "id": "6865170e-1a0d-4f2b-9a53-e230c962dc55",
   "metadata": {},
   "outputs": [
    {
     "data": {
      "text/plain": [
       "np.float64(36.9)"
      ]
     },
     "execution_count": 72,
     "metadata": {},
     "output_type": "execute_result"
    }
   ],
   "source": [
    "adelie_dream_w = np.round(adelie_dream['wkilo'].mean(),1)\n",
    "adelie_dream_w"
   ]
  },
  {
   "cell_type": "code",
   "execution_count": null,
   "id": "e9cc4402-9c27-4ac2-b3d0-6893c43da0d4",
   "metadata": {},
   "outputs": [],
   "source": []
  },
  {
   "cell_type": "code",
   "execution_count": 73,
   "id": "1d69d19c-aae9-4ecc-a525-3379d490b644",
   "metadata": {},
   "outputs": [
    {
     "data": {
      "text/plain": [
       "np.float64(37.2)"
      ]
     },
     "execution_count": 73,
     "metadata": {},
     "output_type": "execute_result"
    }
   ],
   "source": [
    "adelie_torg_w = np.round(adelie_torgersen['wkilo'].mean(),1)\n",
    "adelie_torg_w"
   ]
  },
  {
   "cell_type": "code",
   "execution_count": 74,
   "id": "ec2bfe1c-dd21-40b5-b503-31b9d4e4f739",
   "metadata": {},
   "outputs": [
    {
     "data": {
      "text/plain": [
       "np.float64(124.0)"
      ]
     },
     "execution_count": 74,
     "metadata": {},
     "output_type": "execute_result"
    }
   ],
   "source": [
    "gentoo_bis_w = np.round(gentoo_biscoe['wkilo'].mean(), 1)\n",
    "gentoo_bis_w"
   ]
  },
  {
   "cell_type": "code",
   "execution_count": 75,
   "id": "6360d1d1-9723-417d-9210-dff2f016d246",
   "metadata": {},
   "outputs": [
    {
     "data": {
      "text/plain": [
       "np.float64(0.0)"
      ]
     },
     "execution_count": 75,
     "metadata": {},
     "output_type": "execute_result"
    }
   ],
   "source": [
    "gentoo_dream_w = np.round(gentoo_dream['wkilo'].mean(),1)\n",
    "gentoo_dream_w\n"
   ]
  },
  {
   "cell_type": "code",
   "execution_count": 76,
   "id": "17b4b390-2616-4c1b-a3db-401943caee94",
   "metadata": {},
   "outputs": [
    {
     "data": {
      "text/plain": [
       "np.float64(0.0)"
      ]
     },
     "execution_count": 76,
     "metadata": {},
     "output_type": "execute_result"
    }
   ],
   "source": [
    "gentoo_torg_w = np.round(gentoo_torgersen['wkilo'].mean(),1)\n",
    "gentoo_torg_w"
   ]
  },
  {
   "cell_type": "code",
   "execution_count": 77,
   "id": "5294d315-4211-4abe-868f-37f20b386412",
   "metadata": {},
   "outputs": [
    {
     "data": {
      "text/plain": [
       "np.float64(0.0)"
      ]
     },
     "execution_count": 77,
     "metadata": {},
     "output_type": "execute_result"
    }
   ],
   "source": [
    "chin_bis_w =  np.round(chinstrap_biscoe['wkilo'].mean(),1)\n",
    "chin_bis_w"
   ]
  },
  {
   "cell_type": "code",
   "execution_count": 78,
   "id": "244a2bb5-20ee-4231-af53-24381d70835f",
   "metadata": {},
   "outputs": [
    {
     "data": {
      "text/plain": [
       "np.float64(68.0)"
      ]
     },
     "execution_count": 78,
     "metadata": {},
     "output_type": "execute_result"
    }
   ],
   "source": [
    "chin_dream_w = np.round(chinstrap_dream['wkilo'].mean(),1)\n",
    "chin_dream_w\n"
   ]
  },
  {
   "cell_type": "code",
   "execution_count": 79,
   "id": "766a8b6b-42dd-4016-9118-944645498a18",
   "metadata": {},
   "outputs": [
    {
     "data": {
      "text/plain": [
       "np.float64(0.0)"
      ]
     },
     "execution_count": 79,
     "metadata": {},
     "output_type": "execute_result"
    }
   ],
   "source": [
    "chin_torg_w = np.round(chinstrap_torgersen['wkilo'].mean(),1)\n",
    "chin_torg_w"
   ]
  },
  {
   "cell_type": "markdown",
   "id": "179cca42-e722-4490-8287-84193b8a46c2",
   "metadata": {},
   "source": [
    "<h1> Insight No. 4 The Average Kilo Adelie regardless of island is 3.7 "
   ]
  },
  {
   "cell_type": "markdown",
   "id": "0f780a3a-b119-4477-8049-ec52ee8c6c01",
   "metadata": {},
   "source": [
    "<h1> Insight No. 5 The Average Kilo of Gentoo on Biscoe Island is 124.0"
   ]
  },
  {
   "cell_type": "markdown",
   "id": "774d7bae-fd81-4fa3-9876-4672d1434550",
   "metadata": {},
   "source": [
    "<h1> Insight No. 6 The Average Kilo of Chinstrap on Torgersen and Dream Islan is 68.0"
   ]
  },
  {
   "cell_type": "markdown",
   "id": "ff15df54-a8b0-4d0c-8e8b-d3de104446c9",
   "metadata": {},
   "source": [
    "<h1>insignht n0.7</h1>"
   ]
  },
  {
   "cell_type": "markdown",
   "id": "3b084f85-d9bc-45ca-b7f8-bd944c161ac0",
   "metadata": {},
   "source": [
    "<h1>How to use group by</h1>"
   ]
  },
  {
   "cell_type": "code",
   "execution_count": 80,
   "id": "5fc552c9-7398-476a-9531-3299286cad56",
   "metadata": {},
   "outputs": [
    {
     "name": "stderr",
     "output_type": "stream",
     "text": [
      "C:\\Users\\LAB4-StudentPC37\\AppData\\Local\\Temp\\ipykernel_16196\\2588003792.py:1: FutureWarning: The default of observed=False is deprecated and will be changed to True in a future version of pandas. Pass observed=False to retain current behavior or observed=True to adopt the future default and silence this warning.\n",
      "  birds_agg = birds.groupby(['species']).count()\n"
     ]
    }
   ],
   "source": [
    "birds_agg = birds.groupby(['species']).count()"
   ]
  },
  {
   "cell_type": "code",
   "execution_count": 81,
   "id": "c52c68b3-0185-4f7f-9197-159703872acd",
   "metadata": {},
   "outputs": [
    {
     "data": {
      "text/html": [
       "<div>\n",
       "<style scoped>\n",
       "    .dataframe tbody tr th:only-of-type {\n",
       "        vertical-align: middle;\n",
       "    }\n",
       "\n",
       "    .dataframe tbody tr th {\n",
       "        vertical-align: top;\n",
       "    }\n",
       "\n",
       "    .dataframe thead th {\n",
       "        text-align: right;\n",
       "    }\n",
       "</style>\n",
       "<table border=\"1\" class=\"dataframe\">\n",
       "  <thead>\n",
       "    <tr style=\"text-align: right;\">\n",
       "      <th></th>\n",
       "      <th>rowid</th>\n",
       "      <th>island</th>\n",
       "      <th>bill_length_mm</th>\n",
       "      <th>bill_depth_mm</th>\n",
       "      <th>flipper_length_mm</th>\n",
       "      <th>body_mass_g</th>\n",
       "      <th>sex</th>\n",
       "      <th>year</th>\n",
       "      <th>weight</th>\n",
       "      <th>body-mass_g</th>\n",
       "      <th>wkilo</th>\n",
       "    </tr>\n",
       "    <tr>\n",
       "      <th>species</th>\n",
       "      <th></th>\n",
       "      <th></th>\n",
       "      <th></th>\n",
       "      <th></th>\n",
       "      <th></th>\n",
       "      <th></th>\n",
       "      <th></th>\n",
       "      <th></th>\n",
       "      <th></th>\n",
       "      <th></th>\n",
       "      <th></th>\n",
       "    </tr>\n",
       "  </thead>\n",
       "  <tbody>\n",
       "    <tr>\n",
       "      <th>Adelie</th>\n",
       "      <td>152</td>\n",
       "      <td>152</td>\n",
       "      <td>152</td>\n",
       "      <td>152</td>\n",
       "      <td>152</td>\n",
       "      <td>152</td>\n",
       "      <td>152</td>\n",
       "      <td>152</td>\n",
       "      <td>152</td>\n",
       "      <td>152</td>\n",
       "      <td>152</td>\n",
       "    </tr>\n",
       "    <tr>\n",
       "      <th>Chinstrap</th>\n",
       "      <td>68</td>\n",
       "      <td>68</td>\n",
       "      <td>68</td>\n",
       "      <td>68</td>\n",
       "      <td>68</td>\n",
       "      <td>68</td>\n",
       "      <td>68</td>\n",
       "      <td>68</td>\n",
       "      <td>68</td>\n",
       "      <td>68</td>\n",
       "      <td>68</td>\n",
       "    </tr>\n",
       "    <tr>\n",
       "      <th>Gentoo</th>\n",
       "      <td>124</td>\n",
       "      <td>124</td>\n",
       "      <td>124</td>\n",
       "      <td>124</td>\n",
       "      <td>124</td>\n",
       "      <td>124</td>\n",
       "      <td>124</td>\n",
       "      <td>124</td>\n",
       "      <td>124</td>\n",
       "      <td>124</td>\n",
       "      <td>124</td>\n",
       "    </tr>\n",
       "  </tbody>\n",
       "</table>\n",
       "</div>"
      ],
      "text/plain": [
       "           rowid  island  bill_length_mm  bill_depth_mm  flipper_length_mm  \\\n",
       "species                                                                      \n",
       "Adelie       152     152             152            152                152   \n",
       "Chinstrap     68      68              68             68                 68   \n",
       "Gentoo       124     124             124            124                124   \n",
       "\n",
       "           body_mass_g  sex  year  weight  body-mass_g  wkilo  \n",
       "species                                                        \n",
       "Adelie             152  152   152     152          152    152  \n",
       "Chinstrap           68   68    68      68           68     68  \n",
       "Gentoo             124  124   124     124          124    124  "
      ]
     },
     "execution_count": 81,
     "metadata": {},
     "output_type": "execute_result"
    }
   ],
   "source": [
    "birds_agg"
   ]
  },
  {
   "cell_type": "code",
   "execution_count": 82,
   "id": "96fc9c36-b82c-4c55-93f6-49af27ee86ad",
   "metadata": {},
   "outputs": [
    {
     "name": "stderr",
     "output_type": "stream",
     "text": [
      "C:\\Users\\LAB4-StudentPC37\\AppData\\Local\\Temp\\ipykernel_16196\\2357907477.py:1: FutureWarning: The default of observed=False is deprecated and will be changed to True in a future version of pandas. Pass observed=False to retain current behavior or observed=True to adopt the future default and silence this warning.\n",
      "  birds_agg2 = np.round(birds.groupby(['species','island'])['wkilo'].mean(),1)\n"
     ]
    }
   ],
   "source": [
    "birds_agg2 = np.round(birds.groupby(['species','island'])['wkilo'].mean(),1)"
   ]
  },
  {
   "cell_type": "code",
   "execution_count": 83,
   "id": "3658ff4f-bd54-415d-b1e9-03fdf2f96412",
   "metadata": {},
   "outputs": [
    {
     "data": {
      "text/plain": [
       "species    island   \n",
       "Adelie     Biscoe       37.1\n",
       "           Dream        36.9\n",
       "           Torgersen    37.2\n",
       "Chinstrap  Biscoe        NaN\n",
       "           Dream        37.3\n",
       "           Torgersen     NaN\n",
       "Gentoo     Biscoe       50.7\n",
       "           Dream         NaN\n",
       "           Torgersen     NaN\n",
       "Name: wkilo, dtype: float64"
      ]
     },
     "execution_count": 83,
     "metadata": {},
     "output_type": "execute_result"
    }
   ],
   "source": [
    "birds_agg2"
   ]
  },
  {
   "cell_type": "code",
   "execution_count": 84,
   "id": "1f34cc5b-d9fa-4d62-ac7f-86fe4001399f",
   "metadata": {},
   "outputs": [
    {
     "name": "stderr",
     "output_type": "stream",
     "text": [
      "C:\\Users\\LAB4-StudentPC37\\AppData\\Local\\Temp\\ipykernel_16196\\3026250021.py:1: FutureWarning: The default of observed=False is deprecated and will be changed to True in a future version of pandas. Pass observed=False to retain current behavior or observed=True to adopt the future default and silence this warning.\n",
      "  birds_agg3 = birds.groupby(['species','island','year','sex']).size()\n"
     ]
    }
   ],
   "source": [
    "birds_agg3 = birds.groupby(['species','island','year','sex']).size()"
   ]
  },
  {
   "cell_type": "markdown",
   "id": "1e4f4bf7-2fc7-43cd-956c-2c11efcbf4db",
   "metadata": {},
   "source": [
    "<h1> Insight No. 8  2007 has the most recorded data of male adelie."
   ]
  },
  {
   "cell_type": "code",
   "execution_count": 85,
   "id": "6e53a405-c984-4e09-8f25-a72afee34c5f",
   "metadata": {},
   "outputs": [
    {
     "data": {
      "text/html": [
       "<div>\n",
       "<style scoped>\n",
       "    .dataframe tbody tr th:only-of-type {\n",
       "        vertical-align: middle;\n",
       "    }\n",
       "\n",
       "    .dataframe tbody tr th {\n",
       "        vertical-align: top;\n",
       "    }\n",
       "\n",
       "    .dataframe thead th {\n",
       "        text-align: right;\n",
       "    }\n",
       "</style>\n",
       "<table border=\"1\" class=\"dataframe\">\n",
       "  <thead>\n",
       "    <tr style=\"text-align: right;\">\n",
       "      <th></th>\n",
       "      <th></th>\n",
       "      <th>sex</th>\n",
       "      <th>female</th>\n",
       "      <th>male</th>\n",
       "    </tr>\n",
       "    <tr>\n",
       "      <th>species</th>\n",
       "      <th>island</th>\n",
       "      <th>year</th>\n",
       "      <th></th>\n",
       "      <th></th>\n",
       "    </tr>\n",
       "  </thead>\n",
       "  <tbody>\n",
       "    <tr>\n",
       "      <th rowspan=\"9\" valign=\"top\">Adelie</th>\n",
       "      <th rowspan=\"3\" valign=\"top\">Biscoe</th>\n",
       "      <th>2007</th>\n",
       "      <td>5</td>\n",
       "      <td>5</td>\n",
       "    </tr>\n",
       "    <tr>\n",
       "      <th>2008</th>\n",
       "      <td>9</td>\n",
       "      <td>9</td>\n",
       "    </tr>\n",
       "    <tr>\n",
       "      <th>2009</th>\n",
       "      <td>8</td>\n",
       "      <td>8</td>\n",
       "    </tr>\n",
       "    <tr>\n",
       "      <th rowspan=\"3\" valign=\"top\">Dream</th>\n",
       "      <th>2007</th>\n",
       "      <td>9</td>\n",
       "      <td>11</td>\n",
       "    </tr>\n",
       "    <tr>\n",
       "      <th>2008</th>\n",
       "      <td>8</td>\n",
       "      <td>8</td>\n",
       "    </tr>\n",
       "    <tr>\n",
       "      <th>2009</th>\n",
       "      <td>10</td>\n",
       "      <td>10</td>\n",
       "    </tr>\n",
       "    <tr>\n",
       "      <th rowspan=\"3\" valign=\"top\">Torgersen</th>\n",
       "      <th>2007</th>\n",
       "      <td>8</td>\n",
       "      <td>12</td>\n",
       "    </tr>\n",
       "    <tr>\n",
       "      <th>2008</th>\n",
       "      <td>8</td>\n",
       "      <td>8</td>\n",
       "    </tr>\n",
       "    <tr>\n",
       "      <th>2009</th>\n",
       "      <td>8</td>\n",
       "      <td>8</td>\n",
       "    </tr>\n",
       "    <tr>\n",
       "      <th rowspan=\"9\" valign=\"top\">Chinstrap</th>\n",
       "      <th rowspan=\"3\" valign=\"top\">Biscoe</th>\n",
       "      <th>2007</th>\n",
       "      <td>0</td>\n",
       "      <td>0</td>\n",
       "    </tr>\n",
       "    <tr>\n",
       "      <th>2008</th>\n",
       "      <td>0</td>\n",
       "      <td>0</td>\n",
       "    </tr>\n",
       "    <tr>\n",
       "      <th>2009</th>\n",
       "      <td>0</td>\n",
       "      <td>0</td>\n",
       "    </tr>\n",
       "    <tr>\n",
       "      <th rowspan=\"3\" valign=\"top\">Dream</th>\n",
       "      <th>2007</th>\n",
       "      <td>13</td>\n",
       "      <td>13</td>\n",
       "    </tr>\n",
       "    <tr>\n",
       "      <th>2008</th>\n",
       "      <td>9</td>\n",
       "      <td>9</td>\n",
       "    </tr>\n",
       "    <tr>\n",
       "      <th>2009</th>\n",
       "      <td>12</td>\n",
       "      <td>12</td>\n",
       "    </tr>\n",
       "    <tr>\n",
       "      <th rowspan=\"3\" valign=\"top\">Torgersen</th>\n",
       "      <th>2007</th>\n",
       "      <td>0</td>\n",
       "      <td>0</td>\n",
       "    </tr>\n",
       "    <tr>\n",
       "      <th>2008</th>\n",
       "      <td>0</td>\n",
       "      <td>0</td>\n",
       "    </tr>\n",
       "    <tr>\n",
       "      <th>2009</th>\n",
       "      <td>0</td>\n",
       "      <td>0</td>\n",
       "    </tr>\n",
       "    <tr>\n",
       "      <th rowspan=\"9\" valign=\"top\">Gentoo</th>\n",
       "      <th rowspan=\"3\" valign=\"top\">Biscoe</th>\n",
       "      <th>2007</th>\n",
       "      <td>16</td>\n",
       "      <td>18</td>\n",
       "    </tr>\n",
       "    <tr>\n",
       "      <th>2008</th>\n",
       "      <td>22</td>\n",
       "      <td>24</td>\n",
       "    </tr>\n",
       "    <tr>\n",
       "      <th>2009</th>\n",
       "      <td>20</td>\n",
       "      <td>24</td>\n",
       "    </tr>\n",
       "    <tr>\n",
       "      <th rowspan=\"3\" valign=\"top\">Dream</th>\n",
       "      <th>2007</th>\n",
       "      <td>0</td>\n",
       "      <td>0</td>\n",
       "    </tr>\n",
       "    <tr>\n",
       "      <th>2008</th>\n",
       "      <td>0</td>\n",
       "      <td>0</td>\n",
       "    </tr>\n",
       "    <tr>\n",
       "      <th>2009</th>\n",
       "      <td>0</td>\n",
       "      <td>0</td>\n",
       "    </tr>\n",
       "    <tr>\n",
       "      <th rowspan=\"3\" valign=\"top\">Torgersen</th>\n",
       "      <th>2007</th>\n",
       "      <td>0</td>\n",
       "      <td>0</td>\n",
       "    </tr>\n",
       "    <tr>\n",
       "      <th>2008</th>\n",
       "      <td>0</td>\n",
       "      <td>0</td>\n",
       "    </tr>\n",
       "    <tr>\n",
       "      <th>2009</th>\n",
       "      <td>0</td>\n",
       "      <td>0</td>\n",
       "    </tr>\n",
       "  </tbody>\n",
       "</table>\n",
       "</div>"
      ],
      "text/plain": [
       "sex                       female  male\n",
       "species   island    year              \n",
       "Adelie    Biscoe    2007       5     5\n",
       "                    2008       9     9\n",
       "                    2009       8     8\n",
       "          Dream     2007       9    11\n",
       "                    2008       8     8\n",
       "                    2009      10    10\n",
       "          Torgersen 2007       8    12\n",
       "                    2008       8     8\n",
       "                    2009       8     8\n",
       "Chinstrap Biscoe    2007       0     0\n",
       "                    2008       0     0\n",
       "                    2009       0     0\n",
       "          Dream     2007      13    13\n",
       "                    2008       9     9\n",
       "                    2009      12    12\n",
       "          Torgersen 2007       0     0\n",
       "                    2008       0     0\n",
       "                    2009       0     0\n",
       "Gentoo    Biscoe    2007      16    18\n",
       "                    2008      22    24\n",
       "                    2009      20    24\n",
       "          Dream     2007       0     0\n",
       "                    2008       0     0\n",
       "                    2009       0     0\n",
       "          Torgersen 2007       0     0\n",
       "                    2008       0     0\n",
       "                    2009       0     0"
      ]
     },
     "execution_count": 85,
     "metadata": {},
     "output_type": "execute_result"
    }
   ],
   "source": [
    "birds_agg3.unstack()"
   ]
  },
  {
   "cell_type": "markdown",
   "id": "81299c7b-39d6-4060-9556-f301bd4044dd",
   "metadata": {},
   "source": [
    "<h1> Insight No.9 The male penguins are heavier than females. "
   ]
  },
  {
   "cell_type": "code",
   "execution_count": 86,
   "id": "f3530a70-3a1e-448a-957e-6287dc06f411",
   "metadata": {},
   "outputs": [
    {
     "name": "stderr",
     "output_type": "stream",
     "text": [
      "C:\\Users\\LAB4-StudentPC37\\AppData\\Local\\Temp\\ipykernel_16196\\312506435.py:1: FutureWarning: The default of observed=False is deprecated and will be changed to True in a future version of pandas. Pass observed=False to retain current behavior or observed=True to adopt the future default and silence this warning.\n",
      "  weight_year_sx = np.round(birds.groupby(['species', 'sex', 'year' ])['wkilo'].mean() , 1)\n"
     ]
    },
    {
     "data": {
      "text/plain": [
       "species    sex     year\n",
       "Adelie     female  2007    33.9\n",
       "                   2008    33.9\n",
       "                   2009    33.3\n",
       "           male    2007    39.6\n",
       "                   2008    41.0\n",
       "                   2009    40.0\n",
       "Chinstrap  female  2007    35.7\n",
       "                   2008    34.7\n",
       "                   2009    35.2\n",
       "           male    2007    38.2\n",
       "                   2008    41.3\n",
       "                   2009    39.3\n",
       "Gentoo     female  2007    46.2\n",
       "                   2008    46.3\n",
       "                   2009    47.9\n",
       "           male    2007    54.7\n",
       "                   2008    53.8\n",
       "                   2009    54.0\n",
       "Name: wkilo, dtype: float64"
      ]
     },
     "execution_count": 86,
     "metadata": {},
     "output_type": "execute_result"
    }
   ],
   "source": [
    "weight_year_sx = np.round(birds.groupby(['species', 'sex', 'year' ])['wkilo'].mean() , 1)\n",
    "weight_year_sx"
   ]
  },
  {
   "cell_type": "markdown",
   "id": "3d0bdb8f-fd19-47f2-81e6-e481aade37cf",
   "metadata": {},
   "source": [
    "<h1> Insight No. 10 2009 has the highest recorded weight for female while 2007 has the highest weight recorded for male."
   ]
  },
  {
   "cell_type": "code",
   "execution_count": 87,
   "id": "078cc433-db5d-4c1f-82a0-9cf8b2ea645c",
   "metadata": {},
   "outputs": [
    {
     "data": {
      "text/html": [
       "<div>\n",
       "<style scoped>\n",
       "    .dataframe tbody tr th:only-of-type {\n",
       "        vertical-align: middle;\n",
       "    }\n",
       "\n",
       "    .dataframe tbody tr th {\n",
       "        vertical-align: top;\n",
       "    }\n",
       "\n",
       "    .dataframe thead th {\n",
       "        text-align: right;\n",
       "    }\n",
       "</style>\n",
       "<table border=\"1\" class=\"dataframe\">\n",
       "  <thead>\n",
       "    <tr style=\"text-align: right;\">\n",
       "      <th></th>\n",
       "      <th>year</th>\n",
       "      <th>2007</th>\n",
       "      <th>2008</th>\n",
       "      <th>2009</th>\n",
       "    </tr>\n",
       "    <tr>\n",
       "      <th>species</th>\n",
       "      <th>sex</th>\n",
       "      <th></th>\n",
       "      <th></th>\n",
       "      <th></th>\n",
       "    </tr>\n",
       "  </thead>\n",
       "  <tbody>\n",
       "    <tr>\n",
       "      <th rowspan=\"2\" valign=\"top\">Adelie</th>\n",
       "      <th>female</th>\n",
       "      <td>33.9</td>\n",
       "      <td>33.9</td>\n",
       "      <td>33.3</td>\n",
       "    </tr>\n",
       "    <tr>\n",
       "      <th>male</th>\n",
       "      <td>39.6</td>\n",
       "      <td>41.0</td>\n",
       "      <td>40.0</td>\n",
       "    </tr>\n",
       "    <tr>\n",
       "      <th rowspan=\"2\" valign=\"top\">Chinstrap</th>\n",
       "      <th>female</th>\n",
       "      <td>35.7</td>\n",
       "      <td>34.7</td>\n",
       "      <td>35.2</td>\n",
       "    </tr>\n",
       "    <tr>\n",
       "      <th>male</th>\n",
       "      <td>38.2</td>\n",
       "      <td>41.3</td>\n",
       "      <td>39.3</td>\n",
       "    </tr>\n",
       "    <tr>\n",
       "      <th rowspan=\"2\" valign=\"top\">Gentoo</th>\n",
       "      <th>female</th>\n",
       "      <td>46.2</td>\n",
       "      <td>46.3</td>\n",
       "      <td>47.9</td>\n",
       "    </tr>\n",
       "    <tr>\n",
       "      <th>male</th>\n",
       "      <td>54.7</td>\n",
       "      <td>53.8</td>\n",
       "      <td>54.0</td>\n",
       "    </tr>\n",
       "  </tbody>\n",
       "</table>\n",
       "</div>"
      ],
      "text/plain": [
       "year              2007  2008  2009\n",
       "species   sex                     \n",
       "Adelie    female  33.9  33.9  33.3\n",
       "          male    39.6  41.0  40.0\n",
       "Chinstrap female  35.7  34.7  35.2\n",
       "          male    38.2  41.3  39.3\n",
       "Gentoo    female  46.2  46.3  47.9\n",
       "          male    54.7  53.8  54.0"
      ]
     },
     "execution_count": 87,
     "metadata": {},
     "output_type": "execute_result"
    }
   ],
   "source": [
    "weight_year_sx.unstack()"
   ]
  },
  {
   "cell_type": "markdown",
   "id": "7825742b-f2ff-4983-993f-5eb78894ca12",
   "metadata": {},
   "source": [
    "<h1>what is the result of a correlation</h1>\n",
    "<h1>what is the p value</h1>\n",
    "<h2> requirement for correlation</h2>\n",
    "<ul>\n",
    "    <li>\n",
    "        Name the correlation\n",
    "    </li>\n",
    "    <li>call the column</li>\n",
    "    <li>test correlation using the .corr() function</li>\n",
    "    <li>call the second column</li>\n",
    "</ul>"
   ]
  },
  {
   "cell_type": "code",
   "execution_count": 88,
   "id": "b0401bda-ff17-4951-9729-527287ef9c7e",
   "metadata": {},
   "outputs": [
    {
     "name": "stdout",
     "output_type": "stream",
     "text": [
      "<class 'pandas.core.frame.DataFrame'>\n",
      "RangeIndex: 344 entries, 0 to 343\n",
      "Data columns (total 12 columns):\n",
      " #   Column             Non-Null Count  Dtype   \n",
      "---  ------             --------------  -----   \n",
      " 0   rowid              344 non-null    category\n",
      " 1   species            344 non-null    category\n",
      " 2   island             344 non-null    category\n",
      " 3   bill_length_mm     344 non-null    float64 \n",
      " 4   bill_depth_mm      344 non-null    float64 \n",
      " 5   flipper_length_mm  344 non-null    float64 \n",
      " 6   body_mass_g        344 non-null    float64 \n",
      " 7   sex                344 non-null    category\n",
      " 8   year               344 non-null    category\n",
      " 9   weight             344 non-null    float64 \n",
      " 10  body-mass_g        344 non-null    float64 \n",
      " 11  wkilo              344 non-null    float64 \n",
      "dtypes: category(5), float64(7)\n",
      "memory usage: 32.3 KB\n"
     ]
    }
   ],
   "source": [
    "birds.info()"
   ]
  },
  {
   "cell_type": "markdown",
   "id": "716ddf89-dd08-4440-8ebd-6c1e7826c823",
   "metadata": {},
   "source": [
    "<h1>Insignht no11</h1>"
   ]
  },
  {
   "cell_type": "code",
   "execution_count": 89,
   "id": "7fc39de5-b554-45aa-990e-0a6a21feefd9",
   "metadata": {},
   "outputs": [],
   "source": [
    "b_dep_lenght_cor = birds['bill_length_mm'].corr(birds['bill_depth_mm'])"
   ]
  },
  {
   "cell_type": "code",
   "execution_count": 90,
   "id": "35279131-b3f8-4292-80e0-6fb933846f77",
   "metadata": {},
   "outputs": [
    {
     "data": {
      "text/plain": [
       "np.float64(-0.23505287035553282)"
      ]
     },
     "execution_count": 90,
     "metadata": {},
     "output_type": "execute_result"
    }
   ],
   "source": [
    "b_dep_lenght_cor"
   ]
  },
  {
   "cell_type": "markdown",
   "id": "122ff79f-e514-4e57-a43c-76c8eb703be4",
   "metadata": {},
   "source": [
    "<h1>Insignht no12 - 15 </h1>"
   ]
  },
  {
   "cell_type": "markdown",
   "id": "4e95c71e-e228-47f5-9f39-2fdaba3fdf45",
   "metadata": {},
   "source": [
    "<h2>Bill lenght has no Correlation with bill Depth</h2>"
   ]
  },
  {
   "cell_type": "code",
   "execution_count": 91,
   "id": "bacc8f5a-11cf-47a0-8f35-0298486ae436",
   "metadata": {},
   "outputs": [],
   "source": [
    "body_dep_cor = birds['body-mass_g'].corr(birds['bill_depth_mm'])"
   ]
  },
  {
   "cell_type": "code",
   "execution_count": 92,
   "id": "138af87e-b617-4a92-836a-dd5cd8a5dc6b",
   "metadata": {},
   "outputs": [
    {
     "data": {
      "text/plain": [
       "np.float64(-0.47191562118606645)"
      ]
     },
     "execution_count": 92,
     "metadata": {},
     "output_type": "execute_result"
    }
   ],
   "source": [
    "body_dep_cor"
   ]
  },
  {
   "cell_type": "code",
   "execution_count": 93,
   "id": "7887b3cc-bde7-4939-9fdf-6e8080088b92",
   "metadata": {},
   "outputs": [],
   "source": [
    "body_flip_cor = birds['body-mass_g'].corr(birds['flipper_length_mm'])"
   ]
  },
  {
   "cell_type": "code",
   "execution_count": 94,
   "id": "06c2d09e-62d1-40a1-8621-6bcf17ae6be6",
   "metadata": {},
   "outputs": [
    {
     "data": {
      "text/plain": [
       "np.float64(0.8712017673060114)"
      ]
     },
     "execution_count": 94,
     "metadata": {},
     "output_type": "execute_result"
    }
   ],
   "source": [
    "body_flip_cor"
   ]
  },
  {
   "cell_type": "code",
   "execution_count": 95,
   "id": "98b86a54-eb65-48b9-bf0d-e0246000a092",
   "metadata": {},
   "outputs": [],
   "source": [
    "bill_flip_cor = birds['bill_depth_mm'].corr(birds['flipper_length_mm'])"
   ]
  },
  {
   "cell_type": "code",
   "execution_count": 96,
   "id": "1cbd593a-b234-4313-a325-9162e198ddd5",
   "metadata": {},
   "outputs": [
    {
     "data": {
      "text/plain": [
       "np.float64(-0.5838512164654122)"
      ]
     },
     "execution_count": 96,
     "metadata": {},
     "output_type": "execute_result"
    }
   ],
   "source": [
    "bill_flip_cor"
   ]
  },
  {
   "cell_type": "code",
   "execution_count": 97,
   "id": "b6fa84bb-1836-47f7-88e4-7983753b7aff",
   "metadata": {},
   "outputs": [],
   "source": [
    "bill_bill_cor = birds['bill_depth_mm'].corr(birds['bill_length_mm'])"
   ]
  },
  {
   "cell_type": "code",
   "execution_count": 98,
   "id": "6a35dbf5-a977-4c79-85ce-52682c728cbd",
   "metadata": {},
   "outputs": [
    {
     "data": {
      "text/plain": [
       "np.float64(-0.23505287035553285)"
      ]
     },
     "execution_count": 98,
     "metadata": {},
     "output_type": "execute_result"
    }
   ],
   "source": [
    "bill_bill_cor"
   ]
  },
  {
   "cell_type": "code",
   "execution_count": 101,
   "id": "08f58e07-f9b2-40d9-9883-6fe79aad0a4c",
   "metadata": {},
   "outputs": [],
   "source": [
    "bill_bill_cor = birds['bill_depth_mm'].corr(birds['bill_length_mm'])"
   ]
  },
  {
   "cell_type": "markdown",
   "id": "e7d75638-b531-4e3e-8c63-da39d6585b94",
   "metadata": {},
   "source": [
    "<h1>Correlation between Qualitative and Quantitative</h1>\n",
    "<h3>Sex and Body Mass</h3>\n",
    "<h3>Library for one way ANOVA</h3>"
   ]
  },
  {
   "cell_type": "code",
   "execution_count": 100,
   "id": "e656639a-ef5c-484b-9f35-ef8cb3ab45ab",
   "metadata": {},
   "outputs": [
    {
     "name": "stdout",
     "output_type": "stream",
     "text": [
      "Defaulting to user installation because normal site-packages is not writeable\n",
      "Requirement already satisfied: scipy in c:\\users\\lab4-studentpc37\\appdata\\local\\packages\\pythonsoftwarefoundation.python.3.13_qbz5n2kfra8p0\\localcache\\local-packages\\python313\\site-packages (1.15.2)\n",
      "Requirement already satisfied: numpy<2.5,>=1.23.5 in c:\\users\\lab4-studentpc37\\appdata\\local\\packages\\pythonsoftwarefoundation.python.3.13_qbz5n2kfra8p0\\localcache\\local-packages\\python313\\site-packages (from scipy) (2.2.2)\n",
      "Note: you may need to restart the kernel to use updated packages.\n"
     ]
    },
    {
     "name": "stderr",
     "output_type": "stream",
     "text": [
      "\n",
      "[notice] A new release of pip is available: 24.3.1 -> 25.0.1\n",
      "[notice] To update, run: C:\\Users\\LAB4-StudentPC37\\AppData\\Local\\Microsoft\\WindowsApps\\PythonSoftwareFoundation.Python.3.13_qbz5n2kfra8p0\\python.exe -m pip install --upgrade pip\n"
     ]
    }
   ],
   "source": [
    "pip install scipy\n"
   ]
  },
  {
   "cell_type": "code",
   "execution_count": 103,
   "id": "2e059dd6-7096-4fe3-9ff9-cd06149f2f4c",
   "metadata": {},
   "outputs": [],
   "source": [
    "from scipy.stats import f_oneway"
   ]
  },
  {
   "cell_type": "markdown",
   "id": "80ffd20f-a52a-4c0f-88ef-38f09167cf9b",
   "metadata": {},
   "source": [
    "<h2>requirements for one way ANNOVA</h2>\n",
    "<h3>Filter columns and its data</h3>"
   ]
  },
  {
   "cell_type": "code",
   "execution_count": 104,
   "id": "5d48c4d7-0148-4eb9-9cc0-373c5d478fca",
   "metadata": {},
   "outputs": [
    {
     "data": {
      "text/plain": [
       "0      3750.000000\n",
       "3      4201.754386\n",
       "5      3650.000000\n",
       "7      4675.000000\n",
       "8      3475.000000\n",
       "          ...     \n",
       "334    3800.000000\n",
       "336    3950.000000\n",
       "339    4000.000000\n",
       "341    3775.000000\n",
       "342    4100.000000\n",
       "Name: body_mass_g, Length: 179, dtype: float64"
      ]
     },
     "execution_count": 104,
     "metadata": {},
     "output_type": "execute_result"
    }
   ],
   "source": [
    "birds[birds['sex'] == 'male']['body_mass_g']"
   ]
  },
  {
   "cell_type": "code",
   "execution_count": 105,
   "id": "c0a1927e-768c-4737-8211-6994994c8dd8",
   "metadata": {},
   "outputs": [
    {
     "data": {
      "text/plain": [
       "1      3800.0\n",
       "2      3250.0\n",
       "4      3450.0\n",
       "6      3625.0\n",
       "12     3200.0\n",
       "        ...  \n",
       "335    3525.0\n",
       "337    3650.0\n",
       "338    3650.0\n",
       "340    3400.0\n",
       "343    3775.0\n",
       "Name: body_mass_g, Length: 165, dtype: float64"
      ]
     },
     "execution_count": 105,
     "metadata": {},
     "output_type": "execute_result"
    }
   ],
   "source": [
    "birds[birds['sex'] == 'female']['body_mass_g']"
   ]
  },
  {
   "cell_type": "code",
   "execution_count": null,
   "id": "43578181-107c-447b-963b-6828b8345ae2",
   "metadata": {},
   "outputs": [],
   "source": []
  },
  {
   "cell_type": "code",
   "execution_count": 108,
   "id": "73384cda-2888-483e-be36-687142ac9ac9",
   "metadata": {},
   "outputs": [
    {
     "name": "stdout",
     "output_type": "stream",
     "text": [
      "3.0226600487050246e-15\n"
     ]
    }
   ],
   "source": [
    "f_stats, p_value = f_oneway(birds[birds['sex'] == 'female']['body_mass_g'],\n",
    "                            birds[birds['sex'] == 'male']['body_mass_g'])\n",
    "print(p_value)"
   ]
  },
  {
   "cell_type": "markdown",
   "id": "f59e904e-7e4e-4cbe-a856-3fc64a4f5938",
   "metadata": {},
   "source": [
    "<h1>Insight 16.</h1>\n",
    "<h2>There is a correlation between sex and body mass</h2>"
   ]
  },
  {
   "cell_type": "code",
   "execution_count": null,
   "id": "beba740f-80ba-4043-8a64-390acebf605d",
   "metadata": {},
   "outputs": [],
   "source": []
  }
 ],
 "metadata": {
  "kernelspec": {
   "display_name": "Python 3 (ipykernel)",
   "language": "python",
   "name": "python3"
  },
  "language_info": {
   "codemirror_mode": {
    "name": "ipython",
    "version": 3
   },
   "file_extension": ".py",
   "mimetype": "text/x-python",
   "name": "python",
   "nbconvert_exporter": "python",
   "pygments_lexer": "ipython3",
   "version": "3.13.2"
  }
 },
 "nbformat": 4,
 "nbformat_minor": 5
}
