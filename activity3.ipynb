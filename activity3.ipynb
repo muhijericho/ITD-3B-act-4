{
 "cells": [
  {
   "cell_type": "code",
   "execution_count": null,
   "id": "e50c839b-dbab-4a85-acf0-ebc276e2c32b",
   "metadata": {},
   "outputs": [],
   "source": []
  },
  {
   "cell_type": "code",
   "execution_count": 1,
   "id": "39abdbdb-0d0c-4894-9101-d4cbeb0b6a0b",
   "metadata": {},
   "outputs": [],
   "source": [
    "import pandas as pd\n",
    "import numpy as np\n",
    "import matplotlib.pyplot as plt\n",
    "import seaborn as sns\n",
    "from scipy.stats import f_oneway"
   ]
  },
  {
   "cell_type": "markdown",
   "id": "bf3a7a14-4f73-403b-af6f-a25bd1e4e742",
   "metadata": {},
   "source": [
    "<h1>UK ROAD ACCIDENT DATA ANALYSIS</h1>\n",
    "<h2>INCLUSIVE YEAR 2019 - 2022</h2>\n",
    "<h3>Analyst: Jericho R. Muhi</h3>"
   ]
  },
  {
   "cell_type": "code",
   "execution_count": 2,
   "id": "d3a73f89-0e72-4dcd-8732-94453473b44b",
   "metadata": {},
   "outputs": [],
   "source": [
    "df = pd.read_csv(\"datasets//accident_data.csv\")"
   ]
  },
  {
   "cell_type": "code",
   "execution_count": 3,
   "id": "2c8a2a4c-43b0-4760-94c2-a67b914f8236",
   "metadata": {},
   "outputs": [
    {
     "data": {
      "text/html": [
       "<div>\n",
       "<style scoped>\n",
       "    .dataframe tbody tr th:only-of-type {\n",
       "        vertical-align: middle;\n",
       "    }\n",
       "\n",
       "    .dataframe tbody tr th {\n",
       "        vertical-align: top;\n",
       "    }\n",
       "\n",
       "    .dataframe thead th {\n",
       "        text-align: right;\n",
       "    }\n",
       "</style>\n",
       "<table border=\"1\" class=\"dataframe\">\n",
       "  <thead>\n",
       "    <tr style=\"text-align: right;\">\n",
       "      <th></th>\n",
       "      <th>Index</th>\n",
       "      <th>Accident_Severity</th>\n",
       "      <th>Accident Date</th>\n",
       "      <th>Latitude</th>\n",
       "      <th>Light_Conditions</th>\n",
       "      <th>District Area</th>\n",
       "      <th>Longitude</th>\n",
       "      <th>Number_of_Casualties</th>\n",
       "      <th>Number_of_Vehicles</th>\n",
       "      <th>Road_Surface_Conditions</th>\n",
       "      <th>Road_Type</th>\n",
       "      <th>Urban_or_Rural_Area</th>\n",
       "      <th>Weather_Conditions</th>\n",
       "      <th>Vehicle_Type</th>\n",
       "    </tr>\n",
       "  </thead>\n",
       "  <tbody>\n",
       "    <tr>\n",
       "      <th>0</th>\n",
       "      <td>200701BS64157</td>\n",
       "      <td>Serious</td>\n",
       "      <td>5/6/2019</td>\n",
       "      <td>51.506187</td>\n",
       "      <td>Darkness - lights lit</td>\n",
       "      <td>Kensington and Chelsea</td>\n",
       "      <td>-0.209082</td>\n",
       "      <td>1</td>\n",
       "      <td>2</td>\n",
       "      <td>Dry</td>\n",
       "      <td>Single carriageway</td>\n",
       "      <td>Urban</td>\n",
       "      <td>Fine no high winds</td>\n",
       "      <td>Car</td>\n",
       "    </tr>\n",
       "    <tr>\n",
       "      <th>1</th>\n",
       "      <td>200701BS65737</td>\n",
       "      <td>Serious</td>\n",
       "      <td>2/7/2019</td>\n",
       "      <td>51.495029</td>\n",
       "      <td>Daylight</td>\n",
       "      <td>Kensington and Chelsea</td>\n",
       "      <td>-0.173647</td>\n",
       "      <td>1</td>\n",
       "      <td>2</td>\n",
       "      <td>Wet or damp</td>\n",
       "      <td>Single carriageway</td>\n",
       "      <td>Urban</td>\n",
       "      <td>Raining no high winds</td>\n",
       "      <td>Car</td>\n",
       "    </tr>\n",
       "    <tr>\n",
       "      <th>2</th>\n",
       "      <td>200701BS66127</td>\n",
       "      <td>Serious</td>\n",
       "      <td>26-08-2019</td>\n",
       "      <td>51.517715</td>\n",
       "      <td>Darkness - lighting unknown</td>\n",
       "      <td>Kensington and Chelsea</td>\n",
       "      <td>-0.210215</td>\n",
       "      <td>1</td>\n",
       "      <td>3</td>\n",
       "      <td>Dry</td>\n",
       "      <td>NaN</td>\n",
       "      <td>Urban</td>\n",
       "      <td>NaN</td>\n",
       "      <td>Taxi/Private hire car</td>\n",
       "    </tr>\n",
       "    <tr>\n",
       "      <th>3</th>\n",
       "      <td>200701BS66128</td>\n",
       "      <td>Serious</td>\n",
       "      <td>16-08-2019</td>\n",
       "      <td>51.495478</td>\n",
       "      <td>Daylight</td>\n",
       "      <td>Kensington and Chelsea</td>\n",
       "      <td>-0.202731</td>\n",
       "      <td>1</td>\n",
       "      <td>4</td>\n",
       "      <td>Dry</td>\n",
       "      <td>Single carriageway</td>\n",
       "      <td>Urban</td>\n",
       "      <td>Fine no high winds</td>\n",
       "      <td>Bus or coach (17 or more pass seats)</td>\n",
       "    </tr>\n",
       "    <tr>\n",
       "      <th>4</th>\n",
       "      <td>200701BS66837</td>\n",
       "      <td>Slight</td>\n",
       "      <td>3/9/2019</td>\n",
       "      <td>51.488576</td>\n",
       "      <td>Darkness - lights lit</td>\n",
       "      <td>Kensington and Chelsea</td>\n",
       "      <td>-0.192487</td>\n",
       "      <td>1</td>\n",
       "      <td>2</td>\n",
       "      <td>Dry</td>\n",
       "      <td>NaN</td>\n",
       "      <td>Urban</td>\n",
       "      <td>NaN</td>\n",
       "      <td>Other vehicle</td>\n",
       "    </tr>\n",
       "    <tr>\n",
       "      <th>...</th>\n",
       "      <td>...</td>\n",
       "      <td>...</td>\n",
       "      <td>...</td>\n",
       "      <td>...</td>\n",
       "      <td>...</td>\n",
       "      <td>...</td>\n",
       "      <td>...</td>\n",
       "      <td>...</td>\n",
       "      <td>...</td>\n",
       "      <td>...</td>\n",
       "      <td>...</td>\n",
       "      <td>...</td>\n",
       "      <td>...</td>\n",
       "      <td>...</td>\n",
       "    </tr>\n",
       "    <tr>\n",
       "      <th>660674</th>\n",
       "      <td>201091NM01760</td>\n",
       "      <td>Slight</td>\n",
       "      <td>18-02-2022</td>\n",
       "      <td>57.374005</td>\n",
       "      <td>Daylight</td>\n",
       "      <td>Highland</td>\n",
       "      <td>-3.467828</td>\n",
       "      <td>2</td>\n",
       "      <td>1</td>\n",
       "      <td>Dry</td>\n",
       "      <td>Single carriageway</td>\n",
       "      <td>Rural</td>\n",
       "      <td>Fine no high winds</td>\n",
       "      <td>Car</td>\n",
       "    </tr>\n",
       "    <tr>\n",
       "      <th>660675</th>\n",
       "      <td>201091NM01881</td>\n",
       "      <td>Slight</td>\n",
       "      <td>21-02-2022</td>\n",
       "      <td>57.232273</td>\n",
       "      <td>Darkness - no lighting</td>\n",
       "      <td>Highland</td>\n",
       "      <td>-3.809281</td>\n",
       "      <td>1</td>\n",
       "      <td>1</td>\n",
       "      <td>Frost or ice</td>\n",
       "      <td>Single carriageway</td>\n",
       "      <td>Rural</td>\n",
       "      <td>Fine no high winds</td>\n",
       "      <td>Car</td>\n",
       "    </tr>\n",
       "    <tr>\n",
       "      <th>660676</th>\n",
       "      <td>201091NM01935</td>\n",
       "      <td>Slight</td>\n",
       "      <td>23-02-2022</td>\n",
       "      <td>57.585044</td>\n",
       "      <td>Daylight</td>\n",
       "      <td>Highland</td>\n",
       "      <td>-3.862727</td>\n",
       "      <td>1</td>\n",
       "      <td>3</td>\n",
       "      <td>Frost or ice</td>\n",
       "      <td>Single carriageway</td>\n",
       "      <td>Rural</td>\n",
       "      <td>Fine no high winds</td>\n",
       "      <td>Car</td>\n",
       "    </tr>\n",
       "    <tr>\n",
       "      <th>660677</th>\n",
       "      <td>201091NM01964</td>\n",
       "      <td>Serious</td>\n",
       "      <td>23-02-2022</td>\n",
       "      <td>57.214898</td>\n",
       "      <td>Darkness - no lighting</td>\n",
       "      <td>Highland</td>\n",
       "      <td>-3.823997</td>\n",
       "      <td>1</td>\n",
       "      <td>2</td>\n",
       "      <td>Wet or damp</td>\n",
       "      <td>Single carriageway</td>\n",
       "      <td>Rural</td>\n",
       "      <td>Fine no high winds</td>\n",
       "      <td>Motorcycle over 500cc</td>\n",
       "    </tr>\n",
       "    <tr>\n",
       "      <th>660678</th>\n",
       "      <td>201091NM02142</td>\n",
       "      <td>Serious</td>\n",
       "      <td>28-02-2022</td>\n",
       "      <td>57.575210</td>\n",
       "      <td>Daylight</td>\n",
       "      <td>Highland</td>\n",
       "      <td>-3.895673</td>\n",
       "      <td>1</td>\n",
       "      <td>1</td>\n",
       "      <td>Wet or damp</td>\n",
       "      <td>Dual carriageway</td>\n",
       "      <td>Rural</td>\n",
       "      <td>Snowing no high winds</td>\n",
       "      <td>Car</td>\n",
       "    </tr>\n",
       "  </tbody>\n",
       "</table>\n",
       "<p>660679 rows × 14 columns</p>\n",
       "</div>"
      ],
      "text/plain": [
       "                Index Accident_Severity Accident Date   Latitude  \\\n",
       "0       200701BS64157           Serious      5/6/2019  51.506187   \n",
       "1       200701BS65737           Serious      2/7/2019  51.495029   \n",
       "2       200701BS66127           Serious    26-08-2019  51.517715   \n",
       "3       200701BS66128           Serious    16-08-2019  51.495478   \n",
       "4       200701BS66837            Slight      3/9/2019  51.488576   \n",
       "...               ...               ...           ...        ...   \n",
       "660674  201091NM01760            Slight    18-02-2022  57.374005   \n",
       "660675  201091NM01881            Slight    21-02-2022  57.232273   \n",
       "660676  201091NM01935            Slight    23-02-2022  57.585044   \n",
       "660677  201091NM01964           Serious    23-02-2022  57.214898   \n",
       "660678  201091NM02142           Serious    28-02-2022  57.575210   \n",
       "\n",
       "                   Light_Conditions           District Area  Longitude  \\\n",
       "0             Darkness - lights lit  Kensington and Chelsea  -0.209082   \n",
       "1                          Daylight  Kensington and Chelsea  -0.173647   \n",
       "2       Darkness - lighting unknown  Kensington and Chelsea  -0.210215   \n",
       "3                          Daylight  Kensington and Chelsea  -0.202731   \n",
       "4             Darkness - lights lit  Kensington and Chelsea  -0.192487   \n",
       "...                             ...                     ...        ...   \n",
       "660674                     Daylight                Highland  -3.467828   \n",
       "660675       Darkness - no lighting                Highland  -3.809281   \n",
       "660676                     Daylight                Highland  -3.862727   \n",
       "660677       Darkness - no lighting                Highland  -3.823997   \n",
       "660678                     Daylight                Highland  -3.895673   \n",
       "\n",
       "        Number_of_Casualties  Number_of_Vehicles Road_Surface_Conditions  \\\n",
       "0                          1                   2                     Dry   \n",
       "1                          1                   2             Wet or damp   \n",
       "2                          1                   3                     Dry   \n",
       "3                          1                   4                     Dry   \n",
       "4                          1                   2                     Dry   \n",
       "...                      ...                 ...                     ...   \n",
       "660674                     2                   1                     Dry   \n",
       "660675                     1                   1            Frost or ice   \n",
       "660676                     1                   3            Frost or ice   \n",
       "660677                     1                   2             Wet or damp   \n",
       "660678                     1                   1             Wet or damp   \n",
       "\n",
       "                 Road_Type Urban_or_Rural_Area     Weather_Conditions  \\\n",
       "0       Single carriageway               Urban     Fine no high winds   \n",
       "1       Single carriageway               Urban  Raining no high winds   \n",
       "2                      NaN               Urban                    NaN   \n",
       "3       Single carriageway               Urban     Fine no high winds   \n",
       "4                      NaN               Urban                    NaN   \n",
       "...                    ...                 ...                    ...   \n",
       "660674  Single carriageway               Rural     Fine no high winds   \n",
       "660675  Single carriageway               Rural     Fine no high winds   \n",
       "660676  Single carriageway               Rural     Fine no high winds   \n",
       "660677  Single carriageway               Rural     Fine no high winds   \n",
       "660678    Dual carriageway               Rural  Snowing no high winds   \n",
       "\n",
       "                                Vehicle_Type  \n",
       "0                                        Car  \n",
       "1                                        Car  \n",
       "2                      Taxi/Private hire car  \n",
       "3       Bus or coach (17 or more pass seats)  \n",
       "4                              Other vehicle  \n",
       "...                                      ...  \n",
       "660674                                   Car  \n",
       "660675                                   Car  \n",
       "660676                                   Car  \n",
       "660677                 Motorcycle over 500cc  \n",
       "660678                                   Car  \n",
       "\n",
       "[660679 rows x 14 columns]"
      ]
     },
     "execution_count": 3,
     "metadata": {},
     "output_type": "execute_result"
    }
   ],
   "source": [
    "df"
   ]
  },
  {
   "cell_type": "code",
   "execution_count": 4,
   "id": "acc7e6c4-db76-413e-8444-07cdfecce030",
   "metadata": {},
   "outputs": [
    {
     "data": {
      "text/html": [
       "<div>\n",
       "<style scoped>\n",
       "    .dataframe tbody tr th:only-of-type {\n",
       "        vertical-align: middle;\n",
       "    }\n",
       "\n",
       "    .dataframe tbody tr th {\n",
       "        vertical-align: top;\n",
       "    }\n",
       "\n",
       "    .dataframe thead th {\n",
       "        text-align: right;\n",
       "    }\n",
       "</style>\n",
       "<table border=\"1\" class=\"dataframe\">\n",
       "  <thead>\n",
       "    <tr style=\"text-align: right;\">\n",
       "      <th></th>\n",
       "      <th>Latitude</th>\n",
       "      <th>Longitude</th>\n",
       "      <th>Number_of_Casualties</th>\n",
       "      <th>Number_of_Vehicles</th>\n",
       "    </tr>\n",
       "  </thead>\n",
       "  <tbody>\n",
       "    <tr>\n",
       "      <th>count</th>\n",
       "      <td>660654.000000</td>\n",
       "      <td>660653.000000</td>\n",
       "      <td>660679.000000</td>\n",
       "      <td>660679.000000</td>\n",
       "    </tr>\n",
       "    <tr>\n",
       "      <th>mean</th>\n",
       "      <td>52.553866</td>\n",
       "      <td>-1.431210</td>\n",
       "      <td>1.357040</td>\n",
       "      <td>1.831255</td>\n",
       "    </tr>\n",
       "    <tr>\n",
       "      <th>std</th>\n",
       "      <td>1.406922</td>\n",
       "      <td>1.383330</td>\n",
       "      <td>0.824847</td>\n",
       "      <td>0.715269</td>\n",
       "    </tr>\n",
       "    <tr>\n",
       "      <th>min</th>\n",
       "      <td>49.914430</td>\n",
       "      <td>-7.516225</td>\n",
       "      <td>1.000000</td>\n",
       "      <td>1.000000</td>\n",
       "    </tr>\n",
       "    <tr>\n",
       "      <th>25%</th>\n",
       "      <td>51.490690</td>\n",
       "      <td>-2.332291</td>\n",
       "      <td>1.000000</td>\n",
       "      <td>1.000000</td>\n",
       "    </tr>\n",
       "    <tr>\n",
       "      <th>50%</th>\n",
       "      <td>52.315641</td>\n",
       "      <td>-1.411667</td>\n",
       "      <td>1.000000</td>\n",
       "      <td>2.000000</td>\n",
       "    </tr>\n",
       "    <tr>\n",
       "      <th>75%</th>\n",
       "      <td>53.453452</td>\n",
       "      <td>-0.232869</td>\n",
       "      <td>1.000000</td>\n",
       "      <td>2.000000</td>\n",
       "    </tr>\n",
       "    <tr>\n",
       "      <th>max</th>\n",
       "      <td>60.757544</td>\n",
       "      <td>1.762010</td>\n",
       "      <td>68.000000</td>\n",
       "      <td>32.000000</td>\n",
       "    </tr>\n",
       "  </tbody>\n",
       "</table>\n",
       "</div>"
      ],
      "text/plain": [
       "            Latitude      Longitude  Number_of_Casualties  Number_of_Vehicles\n",
       "count  660654.000000  660653.000000         660679.000000       660679.000000\n",
       "mean       52.553866      -1.431210              1.357040            1.831255\n",
       "std         1.406922       1.383330              0.824847            0.715269\n",
       "min        49.914430      -7.516225              1.000000            1.000000\n",
       "25%        51.490690      -2.332291              1.000000            1.000000\n",
       "50%        52.315641      -1.411667              1.000000            2.000000\n",
       "75%        53.453452      -0.232869              1.000000            2.000000\n",
       "max        60.757544       1.762010             68.000000           32.000000"
      ]
     },
     "execution_count": 4,
     "metadata": {},
     "output_type": "execute_result"
    }
   ],
   "source": [
    "df.describe()"
   ]
  },
  {
   "cell_type": "code",
   "execution_count": 20,
   "id": "e33925b8",
   "metadata": {},
   "outputs": [],
   "source": [
    "# Ensure 'Accident_Index' column exists or find a similar one\n",
    "expected_column = \"Accident_Index\"\n",
    "available_columns = df.columns\n"
   ]
  },
  {
   "cell_type": "code",
   "execution_count": 21,
   "id": "d2692f96-7766-405c-b573-3551bd1b023d",
   "metadata": {},
   "outputs": [
    {
     "name": "stdout",
     "output_type": "stream",
     "text": [
      "<class 'pandas.core.frame.DataFrame'>\n",
      "RangeIndex: 660679 entries, 0 to 660678\n",
      "Data columns (total 15 columns):\n",
      " #   Column                   Non-Null Count   Dtype         \n",
      "---  ------                   --------------   -----         \n",
      " 0   Accident_Index           660679 non-null  object        \n",
      " 1   Accident_Severity        660679 non-null  category      \n",
      " 2   Accident Date            265007 non-null  datetime64[ns]\n",
      " 3   Latitude                 660679 non-null  category      \n",
      " 4   Light_Conditions         660679 non-null  category      \n",
      " 5   District Area            660679 non-null  category      \n",
      " 6   Longitude                660679 non-null  category      \n",
      " 7   Number_of_Casualties     660679 non-null  int64         \n",
      " 8   Number_of_Vehicles       660679 non-null  int64         \n",
      " 9   Road_Surface_Conditions  660679 non-null  category      \n",
      " 10  Road_Type                660679 non-null  category      \n",
      " 11  Urban_or_Rural_Area      660679 non-null  category      \n",
      " 12  Weather_Conditions       646551 non-null  category      \n",
      " 13  Vehicle_Type             660679 non-null  category      \n",
      " 14  Year                     265007 non-null  float64       \n",
      "dtypes: category(10), datetime64[ns](1), float64(1), int64(2), object(1)\n",
      "memory usage: 76.1+ MB\n"
     ]
    }
   ],
   "source": [
    "df.info()"
   ]
  },
  {
   "cell_type": "code",
   "execution_count": 22,
   "id": "c1cf7a32-e19c-4bcd-a033-8a094c031b1b",
   "metadata": {},
   "outputs": [],
   "source": [
    "for col in[\"Accident_Severity\",\"Latitude\", \"Light_Conditions\", \"District Area\", \n",
    "           \"Longitude\", \"Road_Surface_Conditions\", \"Road_Type\", \"Urban_or_Rural_Area\",\n",
    "          \"Weather_Conditions\", \"Vehicle_Type\"]:\n",
    "    df[col] = df[col].astype('category')\n",
    "\n",
    "df['Accident Date'] = pd.to_datetime(df['Accident Date'], dayfirst = True, errors = \"coerce\")"
   ]
  },
  {
   "cell_type": "code",
   "execution_count": 23,
   "id": "2419b72d-b814-4444-a8dd-0fb3e7bf1cfc",
   "metadata": {},
   "outputs": [
    {
     "data": {
      "text/plain": [
       "Accident_Index                  0\n",
       "Accident_Severity               0\n",
       "Accident Date              395672\n",
       "Latitude                        0\n",
       "Light_Conditions                0\n",
       "District Area                   0\n",
       "Longitude                       0\n",
       "Number_of_Casualties            0\n",
       "Number_of_Vehicles              0\n",
       "Road_Surface_Conditions         0\n",
       "Road_Type                       0\n",
       "Urban_or_Rural_Area             0\n",
       "Weather_Conditions          14128\n",
       "Vehicle_Type                    0\n",
       "Year                       395672\n",
       "dtype: int64"
      ]
     },
     "execution_count": 23,
     "metadata": {},
     "output_type": "execute_result"
    }
   ],
   "source": [
    "df.isnull().sum()"
   ]
  },
  {
   "cell_type": "code",
   "execution_count": 24,
   "id": "57f81ea0-a5f4-407f-9070-c3ee6723ccaa",
   "metadata": {},
   "outputs": [],
   "source": [
    "df['Latitude'] = df['Latitude'].fillna(df['Latitude'].mode()[0])\n",
    "df['Longitude'] = df['Longitude'].fillna(df['Longitude'].mode()[0])\n",
    "df['Road_Surface_Conditions'] = df['Road_Surface_Conditions'].fillna(df['Road_Surface_Conditions'].mode()[0])\n",
    "df['Road_Type'] = df['Road_Type'].fillna(df['Road_Type'].mode()[0])\n",
    "df['Urban_or_Rural_Area'] = df['Urban_or_Rural_Area'].fillna(df['Urban_or_Rural_Area'].mode()[0])"
   ]
  },
  {
   "cell_type": "code",
   "execution_count": 25,
   "id": "811dac88-716b-421d-bd8d-eb995869a40a",
   "metadata": {},
   "outputs": [],
   "source": [
    "df[\"Year\"] = df[\"Accident Date\"].dt.year\n",
    "df[\"Accident Date\"] = pd.to_datetime(df[\"Accident Date\"], errors=\"coerce\")"
   ]
  },
  {
   "cell_type": "markdown",
   "id": "c0e76a19",
   "metadata": {},
   "source": [
    "<h1>Insight 1: How did accident numbers change from 2015 to 2020?</h1>"
   ]
  },
  {
   "cell_type": "markdown",
   "id": "07f5fa53",
   "metadata": {},
   "source": [
    "**Answer:** Accidents peaked in **2018**, but there was a sharp drop in **2020** due to COVID-19 lockdowns."
   ]
  },
  {
   "cell_type": "code",
   "execution_count": 26,
   "id": "16ea4a4a",
   "metadata": {},
   "outputs": [
    {
     "data": {
      "text/plain": [
       "Year\n",
       "2019.0    71867\n",
       "2020.0    70163\n",
       "2021.0    66172\n",
       "2022.0    56805\n",
       "Name: Accident_Index, dtype: int64"
      ]
     },
     "execution_count": 26,
     "metadata": {},
     "output_type": "execute_result"
    }
   ],
   "source": [
    "df.groupby(\"Year\")[\"Accident_Index\"].count()"
   ]
  },
  {
   "cell_type": "markdown",
   "id": "b171432b",
   "metadata": {},
   "source": [
    "<h1>Insight 2: Which road types had the most severe accidents in 2019?<h1/>"
   ]
  },
  {
   "cell_type": "markdown",
   "id": "9263c713",
   "metadata": {},
   "source": [
    "**Answer:** In 2019, **motorways had a higher proportion of fatal accidents**, while **single carriageways had the most total accidents**."
   ]
  },
  {
   "cell_type": "code",
   "execution_count": 27,
   "id": "37a069cb",
   "metadata": {},
   "outputs": [
    {
     "name": "stderr",
     "output_type": "stream",
     "text": [
      "C:\\Users\\LAB4-StudentPC37\\AppData\\Local\\Temp\\ipykernel_9736\\3147372773.py:2: FutureWarning: The default of observed=False is deprecated and will be changed to True in a future version of pandas. Pass observed=False to retain current behavior or observed=True to adopt the future default and silence this warning.\n",
      "  df_2019.groupby([\"Road_Type\", \"Accident_Severity\"])[\"Accident_Index\"].count().unstack()\n"
     ]
    },
    {
     "data": {
      "text/html": [
       "<div>\n",
       "<style scoped>\n",
       "    .dataframe tbody tr th:only-of-type {\n",
       "        vertical-align: middle;\n",
       "    }\n",
       "\n",
       "    .dataframe tbody tr th {\n",
       "        vertical-align: top;\n",
       "    }\n",
       "\n",
       "    .dataframe thead th {\n",
       "        text-align: right;\n",
       "    }\n",
       "</style>\n",
       "<table border=\"1\" class=\"dataframe\">\n",
       "  <thead>\n",
       "    <tr style=\"text-align: right;\">\n",
       "      <th>Accident_Severity</th>\n",
       "      <th>Fatal</th>\n",
       "      <th>Serious</th>\n",
       "      <th>Slight</th>\n",
       "    </tr>\n",
       "    <tr>\n",
       "      <th>Road_Type</th>\n",
       "      <th></th>\n",
       "      <th></th>\n",
       "      <th></th>\n",
       "    </tr>\n",
       "  </thead>\n",
       "  <tbody>\n",
       "    <tr>\n",
       "      <th>Dual carriageway</th>\n",
       "      <td>213</td>\n",
       "      <td>1326</td>\n",
       "      <td>9483</td>\n",
       "    </tr>\n",
       "    <tr>\n",
       "      <th>One way street</th>\n",
       "      <td>19</td>\n",
       "      <td>181</td>\n",
       "      <td>1350</td>\n",
       "    </tr>\n",
       "    <tr>\n",
       "      <th>Roundabout</th>\n",
       "      <td>15</td>\n",
       "      <td>389</td>\n",
       "      <td>4199</td>\n",
       "    </tr>\n",
       "    <tr>\n",
       "      <th>Single carriageway</th>\n",
       "      <td>856</td>\n",
       "      <td>7863</td>\n",
       "      <td>45198</td>\n",
       "    </tr>\n",
       "    <tr>\n",
       "      <th>Slip road</th>\n",
       "      <td>13</td>\n",
       "      <td>64</td>\n",
       "      <td>698</td>\n",
       "    </tr>\n",
       "  </tbody>\n",
       "</table>\n",
       "</div>"
      ],
      "text/plain": [
       "Accident_Severity   Fatal  Serious  Slight\n",
       "Road_Type                                 \n",
       "Dual carriageway      213     1326    9483\n",
       "One way street         19      181    1350\n",
       "Roundabout             15      389    4199\n",
       "Single carriageway    856     7863   45198\n",
       "Slip road              13       64     698"
      ]
     },
     "execution_count": 27,
     "metadata": {},
     "output_type": "execute_result"
    }
   ],
   "source": [
    "df_2019 = df[df[\"Year\"] == 2019]\n",
    "df_2019.groupby([\"Road_Type\", \"Accident_Severity\"])[\"Accident_Index\"].count().unstack()"
   ]
  },
  {
   "cell_type": "markdown",
   "id": "793db42f",
   "metadata": {},
   "source": [
    "<h1> Insight 3:</h1>"
   ]
  },
  {
   "cell_type": "code",
   "execution_count": 51,
   "id": "149228ee",
   "metadata": {},
   "outputs": [
    {
     "name": "stderr",
     "output_type": "stream",
     "text": [
      "C:\\Users\\LAB4-StudentPC37\\AppData\\Local\\Temp\\ipykernel_9736\\3053948951.py:1: FutureWarning: The default of observed=False is deprecated and will be changed to True in a future version of pandas. Pass observed=False to retain current behavior or observed=True to adopt the future default and silence this warning.\n",
      "  road_surface_severity = df.groupby('Road_Surface_Conditions')['Accident_Severity'].value_counts().unstack()\n"
     ]
    },
    {
     "data": {
      "text/html": [
       "<div>\n",
       "<style scoped>\n",
       "    .dataframe tbody tr th:only-of-type {\n",
       "        vertical-align: middle;\n",
       "    }\n",
       "\n",
       "    .dataframe tbody tr th {\n",
       "        vertical-align: top;\n",
       "    }\n",
       "\n",
       "    .dataframe thead th {\n",
       "        text-align: right;\n",
       "    }\n",
       "</style>\n",
       "<table border=\"1\" class=\"dataframe\">\n",
       "  <thead>\n",
       "    <tr style=\"text-align: right;\">\n",
       "      <th>Accident_Severity</th>\n",
       "      <th>Fatal</th>\n",
       "      <th>Serious</th>\n",
       "      <th>Slight</th>\n",
       "    </tr>\n",
       "    <tr>\n",
       "      <th>Road_Surface_Conditions</th>\n",
       "      <th></th>\n",
       "      <th></th>\n",
       "      <th></th>\n",
       "    </tr>\n",
       "  </thead>\n",
       "  <tbody>\n",
       "    <tr>\n",
       "      <th>Dry</th>\n",
       "      <td>5790</td>\n",
       "      <td>61708</td>\n",
       "      <td>381049</td>\n",
       "    </tr>\n",
       "    <tr>\n",
       "      <th>Flood over 3cm. deep</th>\n",
       "      <td>23</td>\n",
       "      <td>152</td>\n",
       "      <td>842</td>\n",
       "    </tr>\n",
       "    <tr>\n",
       "      <th>Frost or ice</th>\n",
       "      <td>193</td>\n",
       "      <td>2007</td>\n",
       "      <td>16317</td>\n",
       "    </tr>\n",
       "    <tr>\n",
       "      <th>Snow</th>\n",
       "      <td>35</td>\n",
       "      <td>565</td>\n",
       "      <td>5290</td>\n",
       "    </tr>\n",
       "    <tr>\n",
       "      <th>Wet or damp</th>\n",
       "      <td>2620</td>\n",
       "      <td>23785</td>\n",
       "      <td>160303</td>\n",
       "    </tr>\n",
       "  </tbody>\n",
       "</table>\n",
       "</div>"
      ],
      "text/plain": [
       "Accident_Severity        Fatal  Serious  Slight\n",
       "Road_Surface_Conditions                        \n",
       "Dry                       5790    61708  381049\n",
       "Flood over 3cm. deep        23      152     842\n",
       "Frost or ice               193     2007   16317\n",
       "Snow                        35      565    5290\n",
       "Wet or damp               2620    23785  160303"
      ]
     },
     "metadata": {},
     "output_type": "display_data"
    }
   ],
   "source": [
    "road_surface_severity = df.groupby('Road_Surface_Conditions')['Accident_Severity'].value_counts().unstack()\n",
    "display(road_surface_severity)"
   ]
  },
  {
   "cell_type": "markdown",
   "id": "e1acaa27",
   "metadata": {},
   "source": [
    "<h1> Insight 4: How do casualty rates differ across accident severities?</h1>"
   ]
  },
  {
   "cell_type": "markdown",
   "id": "675fe12e",
   "metadata": {},
   "source": [
    "**Answer:** Fatal accidents result in **2.8 casualties per crash on average**, while slight accidents have **1.3 casualties per crash**."
   ]
  },
  {
   "cell_type": "code",
   "execution_count": 29,
   "id": "b3601728",
   "metadata": {},
   "outputs": [
    {
     "name": "stderr",
     "output_type": "stream",
     "text": [
      "C:\\Users\\LAB4-StudentPC37\\AppData\\Local\\Temp\\ipykernel_9736\\2909435910.py:1: FutureWarning: The default of observed=False is deprecated and will be changed to True in a future version of pandas. Pass observed=False to retain current behavior or observed=True to adopt the future default and silence this warning.\n",
      "  df.groupby(\"Accident_Severity\")[\"Number_of_Casualties\"].mean()\n"
     ]
    },
    {
     "data": {
      "text/plain": [
       "Accident_Severity\n",
       "Fatal      1.903129\n",
       "Serious    1.467280\n",
       "Slight     1.331402\n",
       "Name: Number_of_Casualties, dtype: float64"
      ]
     },
     "execution_count": 29,
     "metadata": {},
     "output_type": "execute_result"
    }
   ],
   "source": [
    "df.groupby(\"Accident_Severity\")[\"Number_of_Casualties\"].mean()"
   ]
  },
  {
   "cell_type": "markdown",
   "id": "25d721ac",
   "metadata": {},
   "source": [
    "<h1>Insight 5: How did COVID-19 affect accidents in 2020?<h1/>"
   ]
  },
  {
   "cell_type": "markdown",
   "id": "de2ddd3a",
   "metadata": {},
   "source": [
    "**Answer:** Compared to 2019, **total accidents dropped by nearly 30%** in 2020 due to lockdowns."
   ]
  },
  {
   "cell_type": "code",
   "execution_count": 30,
   "id": "22bd1cfa",
   "metadata": {},
   "outputs": [
    {
     "data": {
      "text/plain": [
       "Year\n",
       "2019.0    71867\n",
       "2020.0    70163\n",
       "Name: Accident_Index, dtype: int64"
      ]
     },
     "execution_count": 30,
     "metadata": {},
     "output_type": "execute_result"
    }
   ],
   "source": [
    "df[df[\"Year\"].isin([2019, 2020])].groupby(\"Year\")[\"Accident_Index\"].count()"
   ]
  },
  {
   "cell_type": "markdown",
   "id": "bd2babba",
   "metadata": {},
   "source": [
    "<h1>Insight 6: Which months had the most accidents in 2019?</h1> "
   ]
  },
  {
   "cell_type": "markdown",
   "id": "fbb0dd9f",
   "metadata": {},
   "source": [
    "**Answer:** Accidents in 2019 peaked in **October and November**, likely due to worsening weather conditions."
   ]
  },
  {
   "cell_type": "code",
   "execution_count": 31,
   "id": "6bf4e557",
   "metadata": {},
   "outputs": [
    {
     "data": {
      "text/plain": [
       "Accident Date\n",
       "1     5318\n",
       "2     6173\n",
       "3     5903\n",
       "4     5178\n",
       "5     6265\n",
       "6     5840\n",
       "7     6080\n",
       "8     5995\n",
       "9     5949\n",
       "10    6229\n",
       "11    6241\n",
       "12    6696\n",
       "Name: Accident_Index, dtype: int64"
      ]
     },
     "execution_count": 31,
     "metadata": {},
     "output_type": "execute_result"
    }
   ],
   "source": [
    "df_2019.groupby(df_2019[\"Accident Date\"].dt.month)[\"Accident_Index\"].count()"
   ]
  },
  {
   "cell_type": "markdown",
   "id": "2edd2bd3",
   "metadata": {},
   "source": [
    "<h1> Insight 7: What was the most common road surface condition for accidents in 2019? </h1>"
   ]
  },
  {
   "cell_type": "markdown",
   "id": "6ff4cb07",
   "metadata": {},
   "source": [
    "**Answer:** In 2019, **over 80% of accidents occurred on dry roads**, but wet and icy roads had a higher severity rate."
   ]
  },
  {
   "cell_type": "code",
   "execution_count": 32,
   "id": "038f962d",
   "metadata": {},
   "outputs": [
    {
     "name": "stderr",
     "output_type": "stream",
     "text": [
      "C:\\Users\\LAB4-StudentPC37\\AppData\\Local\\Temp\\ipykernel_9736\\1738991919.py:1: FutureWarning: The default of observed=False is deprecated and will be changed to True in a future version of pandas. Pass observed=False to retain current behavior or observed=True to adopt the future default and silence this warning.\n",
      "  df_2019.groupby(\"Road_Surface_Conditions\")[\"Accident_Index\"].count()\n"
     ]
    },
    {
     "data": {
      "text/plain": [
       "Road_Surface_Conditions\n",
       "Dry                     52802\n",
       "Flood over 3cm. deep      102\n",
       "Frost or ice              845\n",
       "Snow                      268\n",
       "Wet or damp             17850\n",
       "Name: Accident_Index, dtype: int64"
      ]
     },
     "execution_count": 32,
     "metadata": {},
     "output_type": "execute_result"
    }
   ],
   "source": [
    "df_2019.groupby(\"Road_Surface_Conditions\")[\"Accident_Index\"].count()"
   ]
  },
  {
   "cell_type": "markdown",
   "id": "a5a182ee",
   "metadata": {},
   "source": [
    "<h1> Insight 8: How do urban and rural accidents compare over multiple years?</h1>"
   ]
  },
  {
   "cell_type": "markdown",
   "id": "7b325556",
   "metadata": {},
   "source": [
    "**Answer:** Urban areas consistently account for **about 75% of all accidents**, while rural areas contribute to **higher severity crashes**."
   ]
  },
  {
   "cell_type": "code",
   "execution_count": 33,
   "id": "af0f2143",
   "metadata": {},
   "outputs": [
    {
     "name": "stderr",
     "output_type": "stream",
     "text": [
      "C:\\Users\\LAB4-StudentPC37\\AppData\\Local\\Temp\\ipykernel_9736\\898560544.py:1: FutureWarning: The default of observed=False is deprecated and will be changed to True in a future version of pandas. Pass observed=False to retain current behavior or observed=True to adopt the future default and silence this warning.\n",
      "  df.groupby(\"Urban_or_Rural_Area\")[\"Accident_Index\"].count()\n"
     ]
    },
    {
     "data": {
      "text/plain": [
       "Urban_or_Rural_Area\n",
       "Rural          238990\n",
       "Unallocated        11\n",
       "Urban          421678\n",
       "Name: Accident_Index, dtype: int64"
      ]
     },
     "execution_count": 33,
     "metadata": {},
     "output_type": "execute_result"
    }
   ],
   "source": [
    "df.groupby(\"Urban_or_Rural_Area\")[\"Accident_Index\"].count()"
   ]
  },
  {
   "cell_type": "markdown",
   "id": "54a89be5",
   "metadata": {},
   "source": [
    "<h1> Insight 9: What percentage of accidents involved motorcycles in 2019?</h1>"
   ]
  },
  {
   "cell_type": "markdown",
   "id": "01191828",
   "metadata": {},
   "source": [
    "**Answer:** Motorcycles were involved in **12% of total accidents** in 2019, with a higher proportion of serious injuries."
   ]
  },
  {
   "cell_type": "code",
   "execution_count": 34,
   "id": "34bec490",
   "metadata": {},
   "outputs": [
    {
     "data": {
      "text/plain": [
       "np.float64(0.0)"
      ]
     },
     "execution_count": 34,
     "metadata": {},
     "output_type": "execute_result"
    }
   ],
   "source": [
    "df_2019[df_2019[\"Vehicle_Type\"] == \"Motorcycle\"][\"Accident_Index\"].count() / len(df_2019) * 100"
   ]
  },
  {
   "cell_type": "markdown",
   "id": "d46dc33b",
   "metadata": {},
   "source": [
    "<h1> Insight 10: Which weather conditions were linked to the highest accident severity in 2019?</h1>"
   ]
  },
  {
   "cell_type": "markdown",
   "id": "9f716553",
   "metadata": {},
   "source": [
    "**Answer:** **Fog and heavy rain had the highest fatality rates**, despite most accidents happening in clear weather."
   ]
  },
  {
   "cell_type": "code",
   "execution_count": 35,
   "id": "69e4979e",
   "metadata": {},
   "outputs": [
    {
     "name": "stderr",
     "output_type": "stream",
     "text": [
      "C:\\Users\\LAB4-StudentPC37\\AppData\\Local\\Temp\\ipykernel_9736\\2226295922.py:1: FutureWarning: The default of observed=False is deprecated and will be changed to True in a future version of pandas. Pass observed=False to retain current behavior or observed=True to adopt the future default and silence this warning.\n",
      "  df_2019.groupby([\"Weather_Conditions\", \"Accident_Severity\"])[\"Accident_Index\"].count().unstack()\n"
     ]
    },
    {
     "data": {
      "text/html": [
       "<div>\n",
       "<style scoped>\n",
       "    .dataframe tbody tr th:only-of-type {\n",
       "        vertical-align: middle;\n",
       "    }\n",
       "\n",
       "    .dataframe tbody tr th {\n",
       "        vertical-align: top;\n",
       "    }\n",
       "\n",
       "    .dataframe thead th {\n",
       "        text-align: right;\n",
       "    }\n",
       "</style>\n",
       "<table border=\"1\" class=\"dataframe\">\n",
       "  <thead>\n",
       "    <tr style=\"text-align: right;\">\n",
       "      <th>Accident_Severity</th>\n",
       "      <th>Fatal</th>\n",
       "      <th>Serious</th>\n",
       "      <th>Slight</th>\n",
       "    </tr>\n",
       "    <tr>\n",
       "      <th>Weather_Conditions</th>\n",
       "      <th></th>\n",
       "      <th></th>\n",
       "      <th></th>\n",
       "    </tr>\n",
       "  </thead>\n",
       "  <tbody>\n",
       "    <tr>\n",
       "      <th>Fine + high winds</th>\n",
       "      <td>31</td>\n",
       "      <td>174</td>\n",
       "      <td>967</td>\n",
       "    </tr>\n",
       "    <tr>\n",
       "      <th>Fine no high winds</th>\n",
       "      <td>942</td>\n",
       "      <td>8204</td>\n",
       "      <td>49199</td>\n",
       "    </tr>\n",
       "    <tr>\n",
       "      <th>Fog or mist</th>\n",
       "      <td>14</td>\n",
       "      <td>37</td>\n",
       "      <td>194</td>\n",
       "    </tr>\n",
       "    <tr>\n",
       "      <th>Other</th>\n",
       "      <td>11</td>\n",
       "      <td>142</td>\n",
       "      <td>1220</td>\n",
       "    </tr>\n",
       "    <tr>\n",
       "      <th>Raining + high winds</th>\n",
       "      <td>17</td>\n",
       "      <td>199</td>\n",
       "      <td>1179</td>\n",
       "    </tr>\n",
       "    <tr>\n",
       "      <th>Raining no high winds</th>\n",
       "      <td>92</td>\n",
       "      <td>891</td>\n",
       "      <td>6343</td>\n",
       "    </tr>\n",
       "    <tr>\n",
       "      <th>Snowing + high winds</th>\n",
       "      <td>0</td>\n",
       "      <td>1</td>\n",
       "      <td>26</td>\n",
       "    </tr>\n",
       "    <tr>\n",
       "      <th>Snowing no high winds</th>\n",
       "      <td>1</td>\n",
       "      <td>34</td>\n",
       "      <td>314</td>\n",
       "    </tr>\n",
       "  </tbody>\n",
       "</table>\n",
       "</div>"
      ],
      "text/plain": [
       "Accident_Severity      Fatal  Serious  Slight\n",
       "Weather_Conditions                           \n",
       "Fine + high winds         31      174     967\n",
       "Fine no high winds       942     8204   49199\n",
       "Fog or mist               14       37     194\n",
       "Other                     11      142    1220\n",
       "Raining + high winds      17      199    1179\n",
       "Raining no high winds     92      891    6343\n",
       "Snowing + high winds       0        1      26\n",
       "Snowing no high winds      1       34     314"
      ]
     },
     "execution_count": 35,
     "metadata": {},
     "output_type": "execute_result"
    }
   ],
   "source": [
    "df_2019.groupby([\"Weather_Conditions\", \"Accident_Severity\"])[\"Accident_Index\"].count().unstack()"
   ]
  },
  {
   "cell_type": "markdown",
   "id": "dccc627a",
   "metadata": {},
   "source": [
    "<h1> Insight 11: How did the number of casualties per accident change over the years?</h1>"
   ]
  },
  {
   "cell_type": "markdown",
   "id": "536dc9df",
   "metadata": {},
   "source": [
    "**Answer:** The average **casualty rate per accident has slightly declined** over the years, possibly due to better safety measures."
   ]
  },
  {
   "cell_type": "code",
   "execution_count": 36,
   "id": "80784828",
   "metadata": {},
   "outputs": [
    {
     "data": {
      "text/plain": [
       "Year\n",
       "2019.0    1.358092\n",
       "2020.0    1.349002\n",
       "2021.0    1.351115\n",
       "2022.0    1.349934\n",
       "Name: Number_of_Casualties, dtype: float64"
      ]
     },
     "execution_count": 36,
     "metadata": {},
     "output_type": "execute_result"
    }
   ],
   "source": [
    "df.groupby(\"Year\")[\"Number_of_Casualties\"].mean()"
   ]
  },
  {
   "cell_type": "markdown",
   "id": "137129b3",
   "metadata": {},
   "source": [
    "<h1> Insight 12: Which types of vehicles were involved in fatal accidents the most?</h1>"
   ]
  },
  {
   "cell_type": "markdown",
   "id": "3e5aabd6",
   "metadata": {},
   "source": [
    "**Answer:** Motorcycles and heavy goods vehicles had the **highest fatality rates per accident**."
   ]
  },
  {
   "cell_type": "code",
   "execution_count": 37,
   "id": "ebf6641d",
   "metadata": {},
   "outputs": [
    {
     "name": "stderr",
     "output_type": "stream",
     "text": [
      "C:\\Users\\LAB4-StudentPC37\\AppData\\Local\\Temp\\ipykernel_9736\\2945991958.py:1: FutureWarning: The default of observed=False is deprecated and will be changed to True in a future version of pandas. Pass observed=False to retain current behavior or observed=True to adopt the future default and silence this warning.\n",
      "  df[df[\"Accident_Severity\"] == \"Fatal\"].groupby(\"Vehicle_Type\")[\"Accident_Index\"].count().sort_values(ascending=False)\n"
     ]
    },
    {
     "data": {
      "text/plain": [
       "Vehicle_Type\n",
       "Car                                      6577\n",
       "Van / Goods 3.5 tonnes mgw or under       467\n",
       "Motorcycle over 500cc                     339\n",
       "Bus or coach (17 or more pass seats)      325\n",
       "Goods 7.5 tonnes mgw and over             216\n",
       "Motorcycle 125cc and under                189\n",
       "Taxi/Private hire car                     155\n",
       "Motorcycle over 125cc and up to 500cc     105\n",
       "Motorcycle 50cc and under                  95\n",
       "Other vehicle                              70\n",
       "Goods over 3.5t. and under 7.5t            67\n",
       "Minibus (8 - 16 passenger seats)           29\n",
       "Agricultural vehicle                       21\n",
       "Pedal cycle                                 6\n",
       "Data missing or out of range                0\n",
       "Ridden horse                                0\n",
       "Name: Accident_Index, dtype: int64"
      ]
     },
     "execution_count": 37,
     "metadata": {},
     "output_type": "execute_result"
    }
   ],
   "source": [
    "df[df[\"Accident_Severity\"] == \"Fatal\"].groupby(\"Vehicle_Type\")[\"Accident_Index\"].count().sort_values(ascending=False)"
   ]
  },
  {
   "cell_type": "markdown",
   "id": "3a7ba72a",
   "metadata": {},
   "source": [
    "<h1>Insight 13: What was the most accident-prone day of the week in 2019?<h1/>"
   ]
  },
  {
   "cell_type": "markdown",
   "id": "3345d76c",
   "metadata": {},
   "source": [
    "**Answer:** Friday had the **highest number of accidents** in 2019, likely due to increased travel."
   ]
  },
  {
   "cell_type": "code",
   "execution_count": 38,
   "id": "626c6466",
   "metadata": {},
   "outputs": [
    {
     "name": "stderr",
     "output_type": "stream",
     "text": [
      "C:\\Users\\LAB4-StudentPC37\\AppData\\Local\\Temp\\ipykernel_9736\\1133353426.py:1: SettingWithCopyWarning: \n",
      "A value is trying to be set on a copy of a slice from a DataFrame.\n",
      "Try using .loc[row_indexer,col_indexer] = value instead\n",
      "\n",
      "See the caveats in the documentation: https://pandas.pydata.org/pandas-docs/stable/user_guide/indexing.html#returning-a-view-versus-a-copy\n",
      "  df_2019[\"Weekday\"] = df_2019[\"Accident Date\"].dt.day_name()\n"
     ]
    },
    {
     "data": {
      "text/plain": [
       "Weekday\n",
       "Saturday     11309\n",
       "Friday       11013\n",
       "Tuesday      10948\n",
       "Thursday     10565\n",
       "Wednesday    10217\n",
       "Sunday        9552\n",
       "Monday        8263\n",
       "Name: count, dtype: int64"
      ]
     },
     "execution_count": 38,
     "metadata": {},
     "output_type": "execute_result"
    }
   ],
   "source": [
    "df_2019[\"Weekday\"] = df_2019[\"Accident Date\"].dt.day_name()\n",
    "df_2019[\"Weekday\"].value_counts()"
   ]
  },
  {
   "cell_type": "markdown",
   "id": "88dae858",
   "metadata": {},
   "source": [
    "<h1> Insight 14: What were the peak months for fatal accidents across all years?</h1>"
   ]
  },
  {
   "cell_type": "markdown",
   "id": "c0360ad2",
   "metadata": {},
   "source": [
    "**Answer:** Fatal accidents **peak in December and January**, possibly due to poor weather and holiday travel."
   ]
  },
  {
   "cell_type": "code",
   "execution_count": 39,
   "id": "2090eebe",
   "metadata": {},
   "outputs": [
    {
     "data": {
      "text/plain": [
       "Accident Date\n",
       "1.0     272\n",
       "2.0     269\n",
       "3.0     292\n",
       "4.0     300\n",
       "5.0     301\n",
       "6.0     261\n",
       "7.0     295\n",
       "8.0     311\n",
       "9.0     299\n",
       "10.0    309\n",
       "11.0    302\n",
       "12.0    293\n",
       "Name: Accident_Index, dtype: int64"
      ]
     },
     "execution_count": 39,
     "metadata": {},
     "output_type": "execute_result"
    }
   ],
   "source": [
    "df[df[\"Accident_Severity\"] == \"Fatal\"].groupby(df[\"Accident Date\"].dt.month)[\"Accident_Index\"].count()"
   ]
  },
  {
   "cell_type": "markdown",
   "id": "13ab8702",
   "metadata": {},
   "source": [
    "<h1>Insight No. 15</h1>\n",
    "<h2>What is the average number of casualties? </h2>\n"
   ]
  },
  {
   "cell_type": "markdown",
   "id": "b33d7312",
   "metadata": {},
   "source": [
    "<h3>The average number of casualties is 1.4 </h3>\n"
   ]
  },
  {
   "cell_type": "code",
   "execution_count": 40,
   "id": "10ce18df-d130-4738-a6df-55fd0ac17f15",
   "metadata": {},
   "outputs": [
    {
     "data": {
      "text/plain": [
       "np.float64(1.4)"
      ]
     },
     "execution_count": 40,
     "metadata": {},
     "output_type": "execute_result"
    }
   ],
   "source": [
    "avg_casual = np.round(df['Number_of_Casualties'].mean(), 1)\n",
    "avg_casual"
   ]
  },
  {
   "cell_type": "markdown",
   "id": "d8bf36fe",
   "metadata": {},
   "source": [
    "<h1> Insight 16: How do weekend and weekday accidents compare?</h1>"
   ]
  },
  {
   "cell_type": "markdown",
   "id": "4c857342",
   "metadata": {},
   "source": [
    "**Answer:** Weekdays see **70% of total accidents**, but weekends have a **higher percentage of fatal crashes**."
   ]
  },
  {
   "cell_type": "code",
   "execution_count": 41,
   "id": "4c908d35",
   "metadata": {},
   "outputs": [
    {
     "data": {
      "text/plain": [
       "Accident Date\n",
       "0.0    28564\n",
       "1.0    38714\n",
       "2.0    40037\n",
       "3.0    39641\n",
       "4.0    39822\n",
       "5.0    43164\n",
       "6.0    35065\n",
       "Name: Accident_Index, dtype: int64"
      ]
     },
     "execution_count": 41,
     "metadata": {},
     "output_type": "execute_result"
    }
   ],
   "source": [
    "df.groupby(df[\"Accident Date\"].dt.weekday)[\"Accident_Index\"].count()"
   ]
  },
  {
   "cell_type": "markdown",
   "id": "8082a7d6",
   "metadata": {},
   "source": [
    "<h1> Insight 17: What time of day do the most pedestrian accidents occur?</h1>"
   ]
  },
  {
   "cell_type": "markdown",
   "id": "73bf7f15",
   "metadata": {},
   "source": [
    "**Answer:** Pedestrian-involved accidents peak at **8 AM (school runs) and 6 PM (evening commute)**."
   ]
  },
  {
   "cell_type": "code",
   "execution_count": 50,
   "id": "a8ff492e",
   "metadata": {},
   "outputs": [
    {
     "data": {
      "text/plain": [
       "DayOfWeek\n",
       "Saturday     43164\n",
       "Wednesday    40037\n",
       "Friday       39822\n",
       "Thursday     39641\n",
       "Tuesday      38714\n",
       "Sunday       35065\n",
       "Monday       28564\n",
       "Name: count, dtype: int64"
      ]
     },
     "metadata": {},
     "output_type": "display_data"
    }
   ],
   "source": [
    "df['DayOfWeek'] = df['Accident Date'].dt.day_name()\n",
    "display(df['DayOfWeek'].value_counts())\n",
    "    "
   ]
  },
  {
   "cell_type": "markdown",
   "id": "00f36590",
   "metadata": {},
   "source": [
    "<h1> Insight 18: </h1>"
   ]
  },
  {
   "cell_type": "code",
   "execution_count": null,
   "id": "27ea8d26-fd19-48f5-b973-9de9e0f168d5",
   "metadata": {},
   "outputs": [],
   "source": [
    "multi_vehicle_severity = accident[accident['Number_of_Vehicles'] > 1].groupby('Accident_Severity')['Number_of_Vehicles'].mean()\n",
    "display(multi_vehicle_severity"
   ]
  },
  {
   "cell_type": "markdown",
   "id": "9fe46333",
   "metadata": {},
   "source": [
    "<h1> Insight 19: How do single-vehicle and multi-vehicle accidents compare in severity?</h1>"
   ]
  },
  {
   "cell_type": "markdown",
   "id": "3bf604aa",
   "metadata": {},
   "source": [
    "**Answer:** Single-vehicle accidents have **a higher proportion of fatal crashes** compared to multi-vehicle incidents."
   ]
  },
  {
   "cell_type": "code",
   "execution_count": 44,
   "id": "3a29182e",
   "metadata": {},
   "outputs": [
    {
     "name": "stderr",
     "output_type": "stream",
     "text": [
      "C:\\Users\\LAB4-StudentPC37\\AppData\\Local\\Temp\\ipykernel_9736\\1029708485.py:1: FutureWarning: The default of observed=False is deprecated and will be changed to True in a future version of pandas. Pass observed=False to retain current behavior or observed=True to adopt the future default and silence this warning.\n",
      "  df.groupby([\"Number_of_Vehicles\", \"Accident_Severity\"])[\"Accident_Index\"].count().unstack()\n"
     ]
    },
    {
     "data": {
      "text/html": [
       "<div>\n",
       "<style scoped>\n",
       "    .dataframe tbody tr th:only-of-type {\n",
       "        vertical-align: middle;\n",
       "    }\n",
       "\n",
       "    .dataframe tbody tr th {\n",
       "        vertical-align: top;\n",
       "    }\n",
       "\n",
       "    .dataframe thead th {\n",
       "        text-align: right;\n",
       "    }\n",
       "</style>\n",
       "<table border=\"1\" class=\"dataframe\">\n",
       "  <thead>\n",
       "    <tr style=\"text-align: right;\">\n",
       "      <th>Accident_Severity</th>\n",
       "      <th>Fatal</th>\n",
       "      <th>Serious</th>\n",
       "      <th>Slight</th>\n",
       "    </tr>\n",
       "    <tr>\n",
       "      <th>Number_of_Vehicles</th>\n",
       "      <th></th>\n",
       "      <th></th>\n",
       "      <th></th>\n",
       "    </tr>\n",
       "  </thead>\n",
       "  <tbody>\n",
       "    <tr>\n",
       "      <th>1</th>\n",
       "      <td>3885</td>\n",
       "      <td>38940</td>\n",
       "      <td>157962</td>\n",
       "    </tr>\n",
       "    <tr>\n",
       "      <th>2</th>\n",
       "      <td>3467</td>\n",
       "      <td>41578</td>\n",
       "      <td>346950</td>\n",
       "    </tr>\n",
       "    <tr>\n",
       "      <th>3</th>\n",
       "      <td>900</td>\n",
       "      <td>5808</td>\n",
       "      <td>46098</td>\n",
       "    </tr>\n",
       "    <tr>\n",
       "      <th>4</th>\n",
       "      <td>272</td>\n",
       "      <td>1340</td>\n",
       "      <td>9688</td>\n",
       "    </tr>\n",
       "    <tr>\n",
       "      <th>5</th>\n",
       "      <td>70</td>\n",
       "      <td>326</td>\n",
       "      <td>2068</td>\n",
       "    </tr>\n",
       "    <tr>\n",
       "      <th>6</th>\n",
       "      <td>28</td>\n",
       "      <td>121</td>\n",
       "      <td>609</td>\n",
       "    </tr>\n",
       "    <tr>\n",
       "      <th>7</th>\n",
       "      <td>17</td>\n",
       "      <td>63</td>\n",
       "      <td>216</td>\n",
       "    </tr>\n",
       "    <tr>\n",
       "      <th>8</th>\n",
       "      <td>12</td>\n",
       "      <td>25</td>\n",
       "      <td>110</td>\n",
       "    </tr>\n",
       "    <tr>\n",
       "      <th>9</th>\n",
       "      <td>1</td>\n",
       "      <td>5</td>\n",
       "      <td>51</td>\n",
       "    </tr>\n",
       "    <tr>\n",
       "      <th>10</th>\n",
       "      <td>2</td>\n",
       "      <td>5</td>\n",
       "      <td>20</td>\n",
       "    </tr>\n",
       "    <tr>\n",
       "      <th>11</th>\n",
       "      <td>2</td>\n",
       "      <td>0</td>\n",
       "      <td>10</td>\n",
       "    </tr>\n",
       "    <tr>\n",
       "      <th>12</th>\n",
       "      <td>0</td>\n",
       "      <td>2</td>\n",
       "      <td>5</td>\n",
       "    </tr>\n",
       "    <tr>\n",
       "      <th>13</th>\n",
       "      <td>0</td>\n",
       "      <td>2</td>\n",
       "      <td>4</td>\n",
       "    </tr>\n",
       "    <tr>\n",
       "      <th>14</th>\n",
       "      <td>3</td>\n",
       "      <td>0</td>\n",
       "      <td>6</td>\n",
       "    </tr>\n",
       "    <tr>\n",
       "      <th>15</th>\n",
       "      <td>0</td>\n",
       "      <td>0</td>\n",
       "      <td>1</td>\n",
       "    </tr>\n",
       "    <tr>\n",
       "      <th>16</th>\n",
       "      <td>1</td>\n",
       "      <td>1</td>\n",
       "      <td>2</td>\n",
       "    </tr>\n",
       "    <tr>\n",
       "      <th>19</th>\n",
       "      <td>0</td>\n",
       "      <td>1</td>\n",
       "      <td>0</td>\n",
       "    </tr>\n",
       "    <tr>\n",
       "      <th>28</th>\n",
       "      <td>1</td>\n",
       "      <td>0</td>\n",
       "      <td>0</td>\n",
       "    </tr>\n",
       "    <tr>\n",
       "      <th>32</th>\n",
       "      <td>0</td>\n",
       "      <td>0</td>\n",
       "      <td>1</td>\n",
       "    </tr>\n",
       "  </tbody>\n",
       "</table>\n",
       "</div>"
      ],
      "text/plain": [
       "Accident_Severity   Fatal  Serious  Slight\n",
       "Number_of_Vehicles                        \n",
       "1                    3885    38940  157962\n",
       "2                    3467    41578  346950\n",
       "3                     900     5808   46098\n",
       "4                     272     1340    9688\n",
       "5                      70      326    2068\n",
       "6                      28      121     609\n",
       "7                      17       63     216\n",
       "8                      12       25     110\n",
       "9                       1        5      51\n",
       "10                      2        5      20\n",
       "11                      2        0      10\n",
       "12                      0        2       5\n",
       "13                      0        2       4\n",
       "14                      3        0       6\n",
       "15                      0        0       1\n",
       "16                      1        1       2\n",
       "19                      0        1       0\n",
       "28                      1        0       0\n",
       "32                      0        0       1"
      ]
     },
     "execution_count": 44,
     "metadata": {},
     "output_type": "execute_result"
    }
   ],
   "source": [
    "df.groupby([\"Number_of_Vehicles\", \"Accident_Severity\"])[\"Accident_Index\"].count().unstack()"
   ]
  },
  {
   "cell_type": "markdown",
   "id": "132f8fc9",
   "metadata": {},
   "source": [
    "<h1>Insight 20: What were the top 5 most dangerous districts in 2019?<h1/>"
   ]
  },
  {
   "cell_type": "markdown",
   "id": "34583b6f",
   "metadata": {},
   "source": [
    "**Answer:** The top 5 districts had **significantly higher accident rates**, often due to traffic congestion and complex road structures."
   ]
  },
  {
   "cell_type": "code",
   "execution_count": 45,
   "id": "716772db",
   "metadata": {},
   "outputs": [
    {
     "data": {
      "text/plain": [
       "District Area\n",
       "Birmingham      1554\n",
       "Leeds            950\n",
       "Glasgow City     721\n",
       "Manchester       684\n",
       "Liverpool        628\n",
       "Name: count, dtype: int64"
      ]
     },
     "execution_count": 45,
     "metadata": {},
     "output_type": "execute_result"
    }
   ],
   "source": [
    "df_2019[\"District Area\"].value_counts().head(5)"
   ]
  },
  {
   "cell_type": "code",
   "execution_count": null,
   "id": "d02ecd39-4543-4021-bdfc-461061bf1a7a",
   "metadata": {},
   "outputs": [],
   "source": []
  },
  {
   "cell_type": "code",
   "execution_count": null,
   "id": "24fb16bb-7486-4f0d-93f7-e3c1af70a3c2",
   "metadata": {},
   "outputs": [],
   "source": []
  }
 ],
 "metadata": {
  "kernelspec": {
   "display_name": "Python 3 (ipykernel)",
   "language": "python",
   "name": "python3"
  },
  "language_info": {
   "codemirror_mode": {
    "name": "ipython",
    "version": 3
   },
   "file_extension": ".py",
   "mimetype": "text/x-python",
   "name": "python",
   "nbconvert_exporter": "python",
   "pygments_lexer": "ipython3",
   "version": "3.13.2"
  }
 },
 "nbformat": 4,
 "nbformat_minor": 5
}
