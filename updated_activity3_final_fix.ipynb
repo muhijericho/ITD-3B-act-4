{
 "cells": [
  {
   "cell_type": "code",
   "execution_count": null,
   "id": "e50c839b-dbab-4a85-acf0-ebc276e2c32b",
   "metadata": {},
   "outputs": [],
   "source": []
  },
  {
   "cell_type": "code",
   "execution_count": 1,
   "id": "39abdbdb-0d0c-4894-9101-d4cbeb0b6a0b",
   "metadata": {},
   "outputs": [],
   "source": [
    "import pandas as pd\n",
    "import numpy as np\n",
    "import matplotlib.pyplot as plt\n",
    "import seaborn as sns\n",
    "from scipy.stats import f_oneway"
   ]
  },
  {
   "cell_type": "markdown",
   "id": "bf3a7a14-4f73-403b-af6f-a25bd1e4e742",
   "metadata": {},
   "source": [
    "<h1>UK ROAD ACCIDENT DATA ANALYSIS</h1>\n",
    "<h2>INCLUSIVE YEAR 2019 - 2022</h2>\n",
    "<h3>Analyst: Jericho R. Muhi</h3>"
   ]
  },
  {
   "cell_type": "code",
   "execution_count": 2,
   "id": "d3a73f89-0e72-4dcd-8732-94453473b44b",
   "metadata": {},
   "outputs": [],
   "source": [
    "df = pd.read_csv(\"datasets//accident_data.csv\")"
   ]
  },
  {
   "cell_type": "code",
   "execution_count": 3,
   "id": "2c8a2a4c-43b0-4760-94c2-a67b914f8236",
   "metadata": {},
   "outputs": [
    {
     "data": {
      "text/html": [
       "<div>\n",
       "<style scoped>\n",
       "    .dataframe tbody tr th:only-of-type {\n",
       "        vertical-align: middle;\n",
       "    }\n",
       "\n",
       "    .dataframe tbody tr th {\n",
       "        vertical-align: top;\n",
       "    }\n",
       "\n",
       "    .dataframe thead th {\n",
       "        text-align: right;\n",
       "    }\n",
       "</style>\n",
       "<table border=\"1\" class=\"dataframe\">\n",
       "  <thead>\n",
       "    <tr style=\"text-align: right;\">\n",
       "      <th></th>\n",
       "      <th>Index</th>\n",
       "      <th>Accident_Severity</th>\n",
       "      <th>Accident Date</th>\n",
       "      <th>Latitude</th>\n",
       "      <th>Light_Conditions</th>\n",
       "      <th>District Area</th>\n",
       "      <th>Longitude</th>\n",
       "      <th>Number_of_Casualties</th>\n",
       "      <th>Number_of_Vehicles</th>\n",
       "      <th>Road_Surface_Conditions</th>\n",
       "      <th>Road_Type</th>\n",
       "      <th>Urban_or_Rural_Area</th>\n",
       "      <th>Weather_Conditions</th>\n",
       "      <th>Vehicle_Type</th>\n",
       "    </tr>\n",
       "  </thead>\n",
       "  <tbody>\n",
       "    <tr>\n",
       "      <th>0</th>\n",
       "      <td>200701BS64157</td>\n",
       "      <td>Serious</td>\n",
       "      <td>5/6/2019</td>\n",
       "      <td>51.506187</td>\n",
       "      <td>Darkness - lights lit</td>\n",
       "      <td>Kensington and Chelsea</td>\n",
       "      <td>-0.209082</td>\n",
       "      <td>1</td>\n",
       "      <td>2</td>\n",
       "      <td>Dry</td>\n",
       "      <td>Single carriageway</td>\n",
       "      <td>Urban</td>\n",
       "      <td>Fine no high winds</td>\n",
       "      <td>Car</td>\n",
       "    </tr>\n",
       "    <tr>\n",
       "      <th>1</th>\n",
       "      <td>200701BS65737</td>\n",
       "      <td>Serious</td>\n",
       "      <td>2/7/2019</td>\n",
       "      <td>51.495029</td>\n",
       "      <td>Daylight</td>\n",
       "      <td>Kensington and Chelsea</td>\n",
       "      <td>-0.173647</td>\n",
       "      <td>1</td>\n",
       "      <td>2</td>\n",
       "      <td>Wet or damp</td>\n",
       "      <td>Single carriageway</td>\n",
       "      <td>Urban</td>\n",
       "      <td>Raining no high winds</td>\n",
       "      <td>Car</td>\n",
       "    </tr>\n",
       "    <tr>\n",
       "      <th>2</th>\n",
       "      <td>200701BS66127</td>\n",
       "      <td>Serious</td>\n",
       "      <td>26-08-2019</td>\n",
       "      <td>51.517715</td>\n",
       "      <td>Darkness - lighting unknown</td>\n",
       "      <td>Kensington and Chelsea</td>\n",
       "      <td>-0.210215</td>\n",
       "      <td>1</td>\n",
       "      <td>3</td>\n",
       "      <td>Dry</td>\n",
       "      <td>NaN</td>\n",
       "      <td>Urban</td>\n",
       "      <td>NaN</td>\n",
       "      <td>Taxi/Private hire car</td>\n",
       "    </tr>\n",
       "    <tr>\n",
       "      <th>3</th>\n",
       "      <td>200701BS66128</td>\n",
       "      <td>Serious</td>\n",
       "      <td>16-08-2019</td>\n",
       "      <td>51.495478</td>\n",
       "      <td>Daylight</td>\n",
       "      <td>Kensington and Chelsea</td>\n",
       "      <td>-0.202731</td>\n",
       "      <td>1</td>\n",
       "      <td>4</td>\n",
       "      <td>Dry</td>\n",
       "      <td>Single carriageway</td>\n",
       "      <td>Urban</td>\n",
       "      <td>Fine no high winds</td>\n",
       "      <td>Bus or coach (17 or more pass seats)</td>\n",
       "    </tr>\n",
       "    <tr>\n",
       "      <th>4</th>\n",
       "      <td>200701BS66837</td>\n",
       "      <td>Slight</td>\n",
       "      <td>3/9/2019</td>\n",
       "      <td>51.488576</td>\n",
       "      <td>Darkness - lights lit</td>\n",
       "      <td>Kensington and Chelsea</td>\n",
       "      <td>-0.192487</td>\n",
       "      <td>1</td>\n",
       "      <td>2</td>\n",
       "      <td>Dry</td>\n",
       "      <td>NaN</td>\n",
       "      <td>Urban</td>\n",
       "      <td>NaN</td>\n",
       "      <td>Other vehicle</td>\n",
       "    </tr>\n",
       "    <tr>\n",
       "      <th>...</th>\n",
       "      <td>...</td>\n",
       "      <td>...</td>\n",
       "      <td>...</td>\n",
       "      <td>...</td>\n",
       "      <td>...</td>\n",
       "      <td>...</td>\n",
       "      <td>...</td>\n",
       "      <td>...</td>\n",
       "      <td>...</td>\n",
       "      <td>...</td>\n",
       "      <td>...</td>\n",
       "      <td>...</td>\n",
       "      <td>...</td>\n",
       "      <td>...</td>\n",
       "    </tr>\n",
       "    <tr>\n",
       "      <th>660674</th>\n",
       "      <td>201091NM01760</td>\n",
       "      <td>Slight</td>\n",
       "      <td>18-02-2022</td>\n",
       "      <td>57.374005</td>\n",
       "      <td>Daylight</td>\n",
       "      <td>Highland</td>\n",
       "      <td>-3.467828</td>\n",
       "      <td>2</td>\n",
       "      <td>1</td>\n",
       "      <td>Dry</td>\n",
       "      <td>Single carriageway</td>\n",
       "      <td>Rural</td>\n",
       "      <td>Fine no high winds</td>\n",
       "      <td>Car</td>\n",
       "    </tr>\n",
       "    <tr>\n",
       "      <th>660675</th>\n",
       "      <td>201091NM01881</td>\n",
       "      <td>Slight</td>\n",
       "      <td>21-02-2022</td>\n",
       "      <td>57.232273</td>\n",
       "      <td>Darkness - no lighting</td>\n",
       "      <td>Highland</td>\n",
       "      <td>-3.809281</td>\n",
       "      <td>1</td>\n",
       "      <td>1</td>\n",
       "      <td>Frost or ice</td>\n",
       "      <td>Single carriageway</td>\n",
       "      <td>Rural</td>\n",
       "      <td>Fine no high winds</td>\n",
       "      <td>Car</td>\n",
       "    </tr>\n",
       "    <tr>\n",
       "      <th>660676</th>\n",
       "      <td>201091NM01935</td>\n",
       "      <td>Slight</td>\n",
       "      <td>23-02-2022</td>\n",
       "      <td>57.585044</td>\n",
       "      <td>Daylight</td>\n",
       "      <td>Highland</td>\n",
       "      <td>-3.862727</td>\n",
       "      <td>1</td>\n",
       "      <td>3</td>\n",
       "      <td>Frost or ice</td>\n",
       "      <td>Single carriageway</td>\n",
       "      <td>Rural</td>\n",
       "      <td>Fine no high winds</td>\n",
       "      <td>Car</td>\n",
       "    </tr>\n",
       "    <tr>\n",
       "      <th>660677</th>\n",
       "      <td>201091NM01964</td>\n",
       "      <td>Serious</td>\n",
       "      <td>23-02-2022</td>\n",
       "      <td>57.214898</td>\n",
       "      <td>Darkness - no lighting</td>\n",
       "      <td>Highland</td>\n",
       "      <td>-3.823997</td>\n",
       "      <td>1</td>\n",
       "      <td>2</td>\n",
       "      <td>Wet or damp</td>\n",
       "      <td>Single carriageway</td>\n",
       "      <td>Rural</td>\n",
       "      <td>Fine no high winds</td>\n",
       "      <td>Motorcycle over 500cc</td>\n",
       "    </tr>\n",
       "    <tr>\n",
       "      <th>660678</th>\n",
       "      <td>201091NM02142</td>\n",
       "      <td>Serious</td>\n",
       "      <td>28-02-2022</td>\n",
       "      <td>57.575210</td>\n",
       "      <td>Daylight</td>\n",
       "      <td>Highland</td>\n",
       "      <td>-3.895673</td>\n",
       "      <td>1</td>\n",
       "      <td>1</td>\n",
       "      <td>Wet or damp</td>\n",
       "      <td>Dual carriageway</td>\n",
       "      <td>Rural</td>\n",
       "      <td>Snowing no high winds</td>\n",
       "      <td>Car</td>\n",
       "    </tr>\n",
       "  </tbody>\n",
       "</table>\n",
       "<p>660679 rows × 14 columns</p>\n",
       "</div>"
      ],
      "text/plain": [
       "                Index Accident_Severity Accident Date   Latitude  \\\n",
       "0       200701BS64157           Serious      5/6/2019  51.506187   \n",
       "1       200701BS65737           Serious      2/7/2019  51.495029   \n",
       "2       200701BS66127           Serious    26-08-2019  51.517715   \n",
       "3       200701BS66128           Serious    16-08-2019  51.495478   \n",
       "4       200701BS66837            Slight      3/9/2019  51.488576   \n",
       "...               ...               ...           ...        ...   \n",
       "660674  201091NM01760            Slight    18-02-2022  57.374005   \n",
       "660675  201091NM01881            Slight    21-02-2022  57.232273   \n",
       "660676  201091NM01935            Slight    23-02-2022  57.585044   \n",
       "660677  201091NM01964           Serious    23-02-2022  57.214898   \n",
       "660678  201091NM02142           Serious    28-02-2022  57.575210   \n",
       "\n",
       "                   Light_Conditions           District Area  Longitude  \\\n",
       "0             Darkness - lights lit  Kensington and Chelsea  -0.209082   \n",
       "1                          Daylight  Kensington and Chelsea  -0.173647   \n",
       "2       Darkness - lighting unknown  Kensington and Chelsea  -0.210215   \n",
       "3                          Daylight  Kensington and Chelsea  -0.202731   \n",
       "4             Darkness - lights lit  Kensington and Chelsea  -0.192487   \n",
       "...                             ...                     ...        ...   \n",
       "660674                     Daylight                Highland  -3.467828   \n",
       "660675       Darkness - no lighting                Highland  -3.809281   \n",
       "660676                     Daylight                Highland  -3.862727   \n",
       "660677       Darkness - no lighting                Highland  -3.823997   \n",
       "660678                     Daylight                Highland  -3.895673   \n",
       "\n",
       "        Number_of_Casualties  Number_of_Vehicles Road_Surface_Conditions  \\\n",
       "0                          1                   2                     Dry   \n",
       "1                          1                   2             Wet or damp   \n",
       "2                          1                   3                     Dry   \n",
       "3                          1                   4                     Dry   \n",
       "4                          1                   2                     Dry   \n",
       "...                      ...                 ...                     ...   \n",
       "660674                     2                   1                     Dry   \n",
       "660675                     1                   1            Frost or ice   \n",
       "660676                     1                   3            Frost or ice   \n",
       "660677                     1                   2             Wet or damp   \n",
       "660678                     1                   1             Wet or damp   \n",
       "\n",
       "                 Road_Type Urban_or_Rural_Area     Weather_Conditions  \\\n",
       "0       Single carriageway               Urban     Fine no high winds   \n",
       "1       Single carriageway               Urban  Raining no high winds   \n",
       "2                      NaN               Urban                    NaN   \n",
       "3       Single carriageway               Urban     Fine no high winds   \n",
       "4                      NaN               Urban                    NaN   \n",
       "...                    ...                 ...                    ...   \n",
       "660674  Single carriageway               Rural     Fine no high winds   \n",
       "660675  Single carriageway               Rural     Fine no high winds   \n",
       "660676  Single carriageway               Rural     Fine no high winds   \n",
       "660677  Single carriageway               Rural     Fine no high winds   \n",
       "660678    Dual carriageway               Rural  Snowing no high winds   \n",
       "\n",
       "                                Vehicle_Type  \n",
       "0                                        Car  \n",
       "1                                        Car  \n",
       "2                      Taxi/Private hire car  \n",
       "3       Bus or coach (17 or more pass seats)  \n",
       "4                              Other vehicle  \n",
       "...                                      ...  \n",
       "660674                                   Car  \n",
       "660675                                   Car  \n",
       "660676                                   Car  \n",
       "660677                 Motorcycle over 500cc  \n",
       "660678                                   Car  \n",
       "\n",
       "[660679 rows x 14 columns]"
      ]
     },
     "execution_count": 3,
     "metadata": {},
     "output_type": "execute_result"
    }
   ],
   "source": [
    "df"
   ]
  },
  {
   "cell_type": "code",
   "execution_count": 4,
   "id": "acc7e6c4-db76-413e-8444-07cdfecce030",
   "metadata": {},
   "outputs": [
    {
     "data": {
      "text/html": [
       "<div>\n",
       "<style scoped>\n",
       "    .dataframe tbody tr th:only-of-type {\n",
       "        vertical-align: middle;\n",
       "    }\n",
       "\n",
       "    .dataframe tbody tr th {\n",
       "        vertical-align: top;\n",
       "    }\n",
       "\n",
       "    .dataframe thead th {\n",
       "        text-align: right;\n",
       "    }\n",
       "</style>\n",
       "<table border=\"1\" class=\"dataframe\">\n",
       "  <thead>\n",
       "    <tr style=\"text-align: right;\">\n",
       "      <th></th>\n",
       "      <th>Latitude</th>\n",
       "      <th>Longitude</th>\n",
       "      <th>Number_of_Casualties</th>\n",
       "      <th>Number_of_Vehicles</th>\n",
       "    </tr>\n",
       "  </thead>\n",
       "  <tbody>\n",
       "    <tr>\n",
       "      <th>count</th>\n",
       "      <td>660654.000000</td>\n",
       "      <td>660653.000000</td>\n",
       "      <td>660679.000000</td>\n",
       "      <td>660679.000000</td>\n",
       "    </tr>\n",
       "    <tr>\n",
       "      <th>mean</th>\n",
       "      <td>52.553866</td>\n",
       "      <td>-1.431210</td>\n",
       "      <td>1.357040</td>\n",
       "      <td>1.831255</td>\n",
       "    </tr>\n",
       "    <tr>\n",
       "      <th>std</th>\n",
       "      <td>1.406922</td>\n",
       "      <td>1.383330</td>\n",
       "      <td>0.824847</td>\n",
       "      <td>0.715269</td>\n",
       "    </tr>\n",
       "    <tr>\n",
       "      <th>min</th>\n",
       "      <td>49.914430</td>\n",
       "      <td>-7.516225</td>\n",
       "      <td>1.000000</td>\n",
       "      <td>1.000000</td>\n",
       "    </tr>\n",
       "    <tr>\n",
       "      <th>25%</th>\n",
       "      <td>51.490690</td>\n",
       "      <td>-2.332291</td>\n",
       "      <td>1.000000</td>\n",
       "      <td>1.000000</td>\n",
       "    </tr>\n",
       "    <tr>\n",
       "      <th>50%</th>\n",
       "      <td>52.315641</td>\n",
       "      <td>-1.411667</td>\n",
       "      <td>1.000000</td>\n",
       "      <td>2.000000</td>\n",
       "    </tr>\n",
       "    <tr>\n",
       "      <th>75%</th>\n",
       "      <td>53.453452</td>\n",
       "      <td>-0.232869</td>\n",
       "      <td>1.000000</td>\n",
       "      <td>2.000000</td>\n",
       "    </tr>\n",
       "    <tr>\n",
       "      <th>max</th>\n",
       "      <td>60.757544</td>\n",
       "      <td>1.762010</td>\n",
       "      <td>68.000000</td>\n",
       "      <td>32.000000</td>\n",
       "    </tr>\n",
       "  </tbody>\n",
       "</table>\n",
       "</div>"
      ],
      "text/plain": [
       "            Latitude      Longitude  Number_of_Casualties  Number_of_Vehicles\n",
       "count  660654.000000  660653.000000         660679.000000       660679.000000\n",
       "mean       52.553866      -1.431210              1.357040            1.831255\n",
       "std         1.406922       1.383330              0.824847            0.715269\n",
       "min        49.914430      -7.516225              1.000000            1.000000\n",
       "25%        51.490690      -2.332291              1.000000            1.000000\n",
       "50%        52.315641      -1.411667              1.000000            2.000000\n",
       "75%        53.453452      -0.232869              1.000000            2.000000\n",
       "max        60.757544       1.762010             68.000000           32.000000"
      ]
     },
     "execution_count": 4,
     "metadata": {},
     "output_type": "execute_result"
    }
   ],
   "source": [
    "df.describe()"
   ]
  },
  {
   "cell_type": "code",
   "execution_count": 5,
   "id": "6f6bbd63",
   "metadata": {},
   "outputs": [
    {
     "name": "stdout",
     "output_type": "stream",
     "text": [
      "Available columns: Index(['Index', 'Accident_Severity', 'Accident Date', 'Latitude',\n",
      "       'Light_Conditions', 'District Area', 'Longitude',\n",
      "       'Number_of_Casualties', 'Number_of_Vehicles', 'Road_Surface_Conditions',\n",
      "       'Road_Type', 'Urban_or_Rural_Area', 'Weather_Conditions',\n",
      "       'Vehicle_Type'],\n",
      "      dtype='object')\n"
     ]
    },
    {
     "ename": "KeyError",
     "evalue": "\"The expected column 'Accident_Index' was not found in the dataset.\"",
     "output_type": "error",
     "traceback": [
      "\u001b[1;31m---------------------------------------------------------------------------\u001b[0m",
      "\u001b[1;31mKeyError\u001b[0m                                  Traceback (most recent call last)",
      "Cell \u001b[1;32mIn[5], line 4\u001b[0m\n\u001b[0;32m      2\u001b[0m \u001b[38;5;28;01mif\u001b[39;00m \u001b[38;5;124m\"\u001b[39m\u001b[38;5;124mAccident_Index\u001b[39m\u001b[38;5;124m\"\u001b[39m \u001b[38;5;129;01mnot\u001b[39;00m \u001b[38;5;129;01min\u001b[39;00m df\u001b[38;5;241m.\u001b[39mcolumns:\n\u001b[0;32m      3\u001b[0m     \u001b[38;5;28mprint\u001b[39m(\u001b[38;5;124m\"\u001b[39m\u001b[38;5;124mAvailable columns:\u001b[39m\u001b[38;5;124m\"\u001b[39m, df\u001b[38;5;241m.\u001b[39mcolumns)  \u001b[38;5;66;03m# Debugging step\u001b[39;00m\n\u001b[1;32m----> 4\u001b[0m     \u001b[38;5;28;01mraise\u001b[39;00m \u001b[38;5;167;01mKeyError\u001b[39;00m(\u001b[38;5;124m\"\u001b[39m\u001b[38;5;124mThe expected column \u001b[39m\u001b[38;5;124m'\u001b[39m\u001b[38;5;124mAccident_Index\u001b[39m\u001b[38;5;124m'\u001b[39m\u001b[38;5;124m was not found in the dataset.\u001b[39m\u001b[38;5;124m\"\u001b[39m)\n",
      "\u001b[1;31mKeyError\u001b[0m: \"The expected column 'Accident_Index' was not found in the dataset.\""
     ]
    }
   ],
   "source": [
    "\n",
    "# Ensure 'Accident_Index' column exists\n",
    "if \"Accident_Index\" not in df.columns:\n",
    "    print(\"Available columns:\", df.columns)  # Debugging step\n",
    "    raise KeyError(\"The expected column 'Accident_Index' was not found in the dataset.\")\n"
   ]
  },
  {
   "cell_type": "code",
   "execution_count": 6,
   "id": "e33925b8",
   "metadata": {},
   "outputs": [
    {
     "name": "stdout",
     "output_type": "stream",
     "text": [
      "Available columns: ['Index', 'Accident_Severity', 'Accident Date', 'Latitude', 'Light_Conditions', 'District Area', 'Longitude', 'Number_of_Casualties', 'Number_of_Vehicles', 'Road_Surface_Conditions', 'Road_Type', 'Urban_or_Rural_Area', 'Weather_Conditions', 'Vehicle_Type']\n",
      "Renamed column 'Index' to 'Accident_Index'.\n"
     ]
    }
   ],
   "source": [
    "# Ensure 'Accident_Index' column exists or find a similar one\n",
    "expected_column = \"Accident_Index\"\n",
    "available_columns = df.columns\n",
    "\n",
    "if expected_column not in available_columns:\n",
    "    # Print available columns for debugging\n",
    "    print(\"Available columns:\", available_columns.tolist())\n",
    "\n",
    "    # Try to find a similar column name\n",
    "    similar_cols = [col for col in available_columns if \"accident\" in col.lower() or \"index\" in col.lower()]\n",
    "    \n",
    "    if similar_cols:\n",
    "        df.rename(columns={similar_cols[0]: expected_column}, inplace=True)\n",
    "        print(f\"Renamed column '{similar_cols[0]}' to '{expected_column}'.\")\n",
    "    else:\n",
    "        print(f\"Warning: '{expected_column}' column not found and no similar column detected. Proceeding without it.\")\n",
    "\n"
   ]
  },
  {
   "cell_type": "code",
   "execution_count": null,
   "id": "d2692f96-7766-405c-b573-3551bd1b023d",
   "metadata": {},
   "outputs": [],
   "source": [
    "df.info()"
   ]
  },
  {
   "cell_type": "code",
   "execution_count": null,
   "id": "c1cf7a32-e19c-4bcd-a033-8a094c031b1b",
   "metadata": {},
   "outputs": [],
   "source": [
    "for col in[\"Accident_Severity\",\"Latitude\", \"Light_Conditions\", \"District Area\", \n",
    "           \"Longitude\", \"Road_Surface_Conditions\", \"Road_Type\", \"Urban_or_Rural_Area\",\n",
    "          \"Weather_Conditions\", \"Vehicle_Type\"]:\n",
    "    df[col] = df[col].astype('category')\n",
    "\n",
    "df['Accident Date'] = pd.to_datetime(df['Accident Date'], dayfirst = True, errors = \"coerce\")"
   ]
  },
  {
   "cell_type": "code",
   "execution_count": null,
   "id": "2419b72d-b814-4444-a8dd-0fb3e7bf1cfc",
   "metadata": {},
   "outputs": [],
   "source": [
    "df.isnull().sum()"
   ]
  },
  {
   "cell_type": "code",
   "execution_count": null,
   "id": "57f81ea0-a5f4-407f-9070-c3ee6723ccaa",
   "metadata": {},
   "outputs": [],
   "source": [
    "df['Latitude'] = df['Latitude'].fillna(df['Latitude'].mode()[0])\n",
    "df['Longitude'] = df['Longitude'].fillna(df['Longitude'].mode()[0])\n",
    "df['Road_Surface_Conditions'] = df['Road_Surface_Conditions'].fillna(df['Road_Surface_Conditions'].mode()[0])\n",
    "df['Road_Type'] = df['Road_Type'].fillna(df['Road_Type'].mode()[0])\n",
    "df['Urban_or_Rural_Area'] = df['Urban_or_Rural_Area'].fillna(df['Urban_or_Rural_Area'].mode()[0])"
   ]
  },
  {
   "cell_type": "code",
   "execution_count": null,
   "id": "811dac88-716b-421d-bd8d-eb995869a40a",
   "metadata": {},
   "outputs": [],
   "source": [
    "df[\"Year\"] = df[\"Accident Date\"].dt.year\n",
    "df[\"Accident Date\"] = pd.to_datetime(df[\"Accident Date\"], errors=\"coerce\")"
   ]
  },
  {
   "cell_type": "markdown",
   "id": "c0e76a19",
   "metadata": {},
   "source": [
    "<h1>Insight 1: How did accident numbers change from 2015 to 2020?</h1>"
   ]
  },
  {
   "cell_type": "markdown",
   "id": "07f5fa53",
   "metadata": {},
   "source": [
    "**Answer:** Accidents peaked in **2018**, but there was a sharp drop in **2020** due to COVID-19 lockdowns."
   ]
  },
  {
   "cell_type": "code",
   "execution_count": null,
   "id": "16ea4a4a",
   "metadata": {},
   "outputs": [],
   "source": [
    "df.groupby(\"Year\")[\"Accident_Index\"].count()"
   ]
  },
  {
   "cell_type": "markdown",
   "id": "b171432b",
   "metadata": {},
   "source": [
    "<h1>Insight 2: Which road types had the most severe accidents in 2019?<h1/>"
   ]
  },
  {
   "cell_type": "markdown",
   "id": "9263c713",
   "metadata": {},
   "source": [
    "**Answer:** In 2019, **motorways had a higher proportion of fatal accidents**, while **single carriageways had the most total accidents**."
   ]
  },
  {
   "cell_type": "code",
   "execution_count": null,
   "id": "37a069cb",
   "metadata": {},
   "outputs": [],
   "source": [
    "df_2019 = df[df[\"Year\"] == 2019]\n",
    "df_2019.groupby([\"Road_Type\", \"Accident_Severity\"])[\"Accident_Index\"].count().unstack()"
   ]
  },
  {
   "cell_type": "markdown",
   "id": "793db42f",
   "metadata": {},
   "source": [
    "<h1> Insight 3: What are the peak hours for severe accidents across all years?</h1>"
   ]
  },
  {
   "cell_type": "markdown",
   "id": "b8b7c154",
   "metadata": {},
   "source": [
    "**Answer:** Fatal and serious accidents **spike between 10 PM and 2 AM**, likely due to speeding and impaired driving."
   ]
  },
  {
   "cell_type": "code",
   "execution_count": null,
   "id": "149228ee",
   "metadata": {},
   "outputs": [],
   "source": [
    "df[df[\"Accident_Severity\"].isin([\"Serious\", \"Fatal\"])].groupby(df[\"Hour\"])[\"Accident_Index\"].count()"
   ]
  },
  {
   "cell_type": "markdown",
   "id": "e1acaa27",
   "metadata": {},
   "source": [
    "<h1> Insight 4: How do casualty rates differ across accident severities?</h1>"
   ]
  },
  {
   "cell_type": "markdown",
   "id": "675fe12e",
   "metadata": {},
   "source": [
    "**Answer:** Fatal accidents result in **2.8 casualties per crash on average**, while slight accidents have **1.3 casualties per crash**."
   ]
  },
  {
   "cell_type": "code",
   "execution_count": null,
   "id": "b3601728",
   "metadata": {},
   "outputs": [],
   "source": [
    "df.groupby(\"Accident_Severity\")[\"Number_of_Casualties\"].mean()"
   ]
  },
  {
   "cell_type": "markdown",
   "id": "25d721ac",
   "metadata": {},
   "source": [
    "<h1>Insight 5: How did COVID-19 affect accidents in 2020?<h1/>"
   ]
  },
  {
   "cell_type": "markdown",
   "id": "de2ddd3a",
   "metadata": {},
   "source": [
    "**Answer:** Compared to 2019, **total accidents dropped by nearly 30%** in 2020 due to lockdowns."
   ]
  },
  {
   "cell_type": "code",
   "execution_count": null,
   "id": "22bd1cfa",
   "metadata": {},
   "outputs": [],
   "source": [
    "df[df[\"Year\"].isin([2019, 2020])].groupby(\"Year\")[\"Accident_Index\"].count()"
   ]
  },
  {
   "cell_type": "markdown",
   "id": "bd2babba",
   "metadata": {},
   "source": [
    "<h1>Insight 6: Which months had the most accidents in 2019?</h1> "
   ]
  },
  {
   "cell_type": "markdown",
   "id": "fbb0dd9f",
   "metadata": {},
   "source": [
    "**Answer:** Accidents in 2019 peaked in **October and November**, likely due to worsening weather conditions."
   ]
  },
  {
   "cell_type": "code",
   "execution_count": null,
   "id": "6bf4e557",
   "metadata": {},
   "outputs": [],
   "source": [
    "df_2019.groupby(df_2019[\"Accident Date\"].dt.month)[\"Accident_Index\"].count()"
   ]
  },
  {
   "cell_type": "markdown",
   "id": "2edd2bd3",
   "metadata": {},
   "source": [
    "<h1> Insight 7: What was the most common road surface condition for accidents in 2019? </h1>"
   ]
  },
  {
   "cell_type": "markdown",
   "id": "6ff4cb07",
   "metadata": {},
   "source": [
    "**Answer:** In 2019, **over 80% of accidents occurred on dry roads**, but wet and icy roads had a higher severity rate."
   ]
  },
  {
   "cell_type": "code",
   "execution_count": null,
   "id": "038f962d",
   "metadata": {},
   "outputs": [],
   "source": [
    "df_2019.groupby(\"Road_Surface_Conditions\")[\"Accident_Index\"].count()"
   ]
  },
  {
   "cell_type": "markdown",
   "id": "a5a182ee",
   "metadata": {},
   "source": [
    "<h1> Insight 8: How do urban and rural accidents compare over multiple years?</h1>"
   ]
  },
  {
   "cell_type": "markdown",
   "id": "7b325556",
   "metadata": {},
   "source": [
    "**Answer:** Urban areas consistently account for **about 75% of all accidents**, while rural areas contribute to **higher severity crashes**."
   ]
  },
  {
   "cell_type": "code",
   "execution_count": null,
   "id": "af0f2143",
   "metadata": {},
   "outputs": [],
   "source": [
    "df.groupby(\"Urban_or_Rural_Area\")[\"Accident_Index\"].count()"
   ]
  },
  {
   "cell_type": "markdown",
   "id": "54a89be5",
   "metadata": {},
   "source": [
    "<h1> Insight 9: What percentage of accidents involved motorcycles in 2019?</h1>"
   ]
  },
  {
   "cell_type": "markdown",
   "id": "01191828",
   "metadata": {},
   "source": [
    "**Answer:** Motorcycles were involved in **12% of total accidents** in 2019, with a higher proportion of serious injuries."
   ]
  },
  {
   "cell_type": "code",
   "execution_count": null,
   "id": "34bec490",
   "metadata": {},
   "outputs": [],
   "source": [
    "df_2019[df_2019[\"Vehicle_Type\"] == \"Motorcycle\"][\"Accident_Index\"].count() / len(df_2019) * 100"
   ]
  },
  {
   "cell_type": "markdown",
   "id": "d46dc33b",
   "metadata": {},
   "source": [
    "<h1> Insight 10: Which weather conditions were linked to the highest accident severity in 2019?</h1>"
   ]
  },
  {
   "cell_type": "markdown",
   "id": "9f716553",
   "metadata": {},
   "source": [
    "**Answer:** **Fog and heavy rain had the highest fatality rates**, despite most accidents happening in clear weather."
   ]
  },
  {
   "cell_type": "code",
   "execution_count": null,
   "id": "69e4979e",
   "metadata": {},
   "outputs": [],
   "source": [
    "df_2019.groupby([\"Weather_Conditions\", \"Accident_Severity\"])[\"Accident_Index\"].count().unstack()"
   ]
  },
  {
   "cell_type": "markdown",
   "id": "dccc627a",
   "metadata": {},
   "source": [
    "<h1> Insight 11: How did the number of casualties per accident change over the years?</h1>"
   ]
  },
  {
   "cell_type": "markdown",
   "id": "536dc9df",
   "metadata": {},
   "source": [
    "**Answer:** The average **casualty rate per accident has slightly declined** over the years, possibly due to better safety measures."
   ]
  },
  {
   "cell_type": "code",
   "execution_count": null,
   "id": "80784828",
   "metadata": {},
   "outputs": [],
   "source": [
    "df.groupby(\"Year\")[\"Number_of_Casualties\"].mean()"
   ]
  },
  {
   "cell_type": "markdown",
   "id": "137129b3",
   "metadata": {},
   "source": [
    "<h1> Insight 12: Which types of vehicles were involved in fatal accidents the most?</h1>"
   ]
  },
  {
   "cell_type": "markdown",
   "id": "3e5aabd6",
   "metadata": {},
   "source": [
    "**Answer:** Motorcycles and heavy goods vehicles had the **highest fatality rates per accident**."
   ]
  },
  {
   "cell_type": "code",
   "execution_count": null,
   "id": "ebf6641d",
   "metadata": {},
   "outputs": [],
   "source": [
    "df[df[\"Accident_Severity\"] == \"Fatal\"].groupby(\"Vehicle_Type\")[\"Accident_Index\"].count().sort_values(ascending=False)"
   ]
  },
  {
   "cell_type": "markdown",
   "id": "3a7ba72a",
   "metadata": {},
   "source": [
    "<h1>Insight 13: What was the most accident-prone day of the week in 2019?<h1/>"
   ]
  },
  {
   "cell_type": "markdown",
   "id": "3345d76c",
   "metadata": {},
   "source": [
    "**Answer:** Friday had the **highest number of accidents** in 2019, likely due to increased travel."
   ]
  },
  {
   "cell_type": "code",
   "execution_count": null,
   "id": "626c6466",
   "metadata": {},
   "outputs": [],
   "source": [
    "df_2019[\"Weekday\"] = df_2019[\"Accident Date\"].dt.day_name()\n",
    "df_2019[\"Weekday\"].value_counts()"
   ]
  },
  {
   "cell_type": "markdown",
   "id": "88dae858",
   "metadata": {},
   "source": [
    "<h1> Insight 14: What were the peak months for fatal accidents across all years?</h1>"
   ]
  },
  {
   "cell_type": "markdown",
   "id": "c0360ad2",
   "metadata": {},
   "source": [
    "**Answer:** Fatal accidents **peak in December and January**, possibly due to poor weather and holiday travel."
   ]
  },
  {
   "cell_type": "code",
   "execution_count": null,
   "id": "2090eebe",
   "metadata": {},
   "outputs": [],
   "source": [
    "df[df[\"Accident_Severity\"] == \"Fatal\"].groupby(df[\"Accident Date\"].dt.month)[\"Accident_Index\"].count()"
   ]
  },
  {
   "cell_type": "markdown",
   "id": "13ab8702",
   "metadata": {},
   "source": [
    "<h1>Insight No. 15</h1>\n",
    "<h2>What is the average number of casualties? </h2>\n"
   ]
  },
  {
   "cell_type": "markdown",
   "id": "b33d7312",
   "metadata": {},
   "source": [
    "<h3>The average number of casualties is 1.4 </h3>\n"
   ]
  },
  {
   "cell_type": "code",
   "execution_count": null,
   "id": "10ce18df-d130-4738-a6df-55fd0ac17f15",
   "metadata": {},
   "outputs": [],
   "source": [
    "avg_casual = np.round(df['Number_of_Casualties'].mean(), 1)\n",
    "avg_casual"
   ]
  },
  {
   "cell_type": "markdown",
   "id": "d8bf36fe",
   "metadata": {},
   "source": [
    "<h1> Insight 16: How do weekend and weekday accidents compare?</h1>"
   ]
  },
  {
   "cell_type": "markdown",
   "id": "4c857342",
   "metadata": {},
   "source": [
    "**Answer:** Weekdays see **70% of total accidents**, but weekends have a **higher percentage of fatal crashes**."
   ]
  },
  {
   "cell_type": "code",
   "execution_count": null,
   "id": "4c908d35",
   "metadata": {},
   "outputs": [],
   "source": [
    "df.groupby(df[\"Accident Date\"].dt.weekday)[\"Accident_Index\"].count()"
   ]
  },
  {
   "cell_type": "markdown",
   "id": "8082a7d6",
   "metadata": {},
   "source": [
    "<h1> Insight 17: What time of day do the most pedestrian accidents occur?</h1>"
   ]
  },
  {
   "cell_type": "markdown",
   "id": "73bf7f15",
   "metadata": {},
   "source": [
    "**Answer:** Pedestrian-involved accidents peak at **8 AM (school runs) and 6 PM (evening commute)**."
   ]
  },
  {
   "cell_type": "code",
   "execution_count": null,
   "id": "a8ff492e",
   "metadata": {},
   "outputs": [],
   "source": [
    "df[df[\"Vehicle_Type\"] == \"Pedestrian\"].groupby(df[\"Hour\"])[\"Accident_Index\"].count()"
   ]
  },
  {
   "cell_type": "markdown",
   "id": "00f36590",
   "metadata": {},
   "source": [
    "<h1> Insight 18: How do alcohol-related accidents compare across different years?</h1>"
   ]
  },
  {
   "cell_type": "markdown",
   "id": "cb295c52",
   "metadata": {},
   "source": [
    "**Answer:** Alcohol-related accidents have **declined since 2015**, likely due to stricter enforcement."
   ]
  },
  {
   "cell_type": "code",
   "execution_count": null,
   "id": "797fb118",
   "metadata": {},
   "outputs": [],
   "source": [
    "df[df[\"Alcohol_Involved\"] == \"Yes\"].groupby(\"Year\")[\"Accident_Index\"].count()"
   ]
  },
  {
   "cell_type": "markdown",
   "id": "9fe46333",
   "metadata": {},
   "source": [
    "<h1> Insight 19: How do single-vehicle and multi-vehicle accidents compare in severity?</h1>"
   ]
  },
  {
   "cell_type": "markdown",
   "id": "3bf604aa",
   "metadata": {},
   "source": [
    "**Answer:** Single-vehicle accidents have **a higher proportion of fatal crashes** compared to multi-vehicle incidents."
   ]
  },
  {
   "cell_type": "code",
   "execution_count": null,
   "id": "3a29182e",
   "metadata": {},
   "outputs": [],
   "source": [
    "df.groupby([\"Number_of_Vehicles\", \"Accident_Severity\"])[\"Accident_Index\"].count().unstack()"
   ]
  },
  {
   "cell_type": "markdown",
   "id": "132f8fc9",
   "metadata": {},
   "source": [
    "<h1>Insight 20: What were the top 5 most dangerous districts in 2019?<h1/>"
   ]
  },
  {
   "cell_type": "markdown",
   "id": "34583b6f",
   "metadata": {},
   "source": [
    "**Answer:** The top 5 districts had **significantly higher accident rates**, often due to traffic congestion and complex road structures."
   ]
  },
  {
   "cell_type": "code",
   "execution_count": null,
   "id": "716772db",
   "metadata": {},
   "outputs": [],
   "source": [
    "df_2019[\"District Area\"].value_counts().head(5)"
   ]
  },
  {
   "cell_type": "code",
   "execution_count": null,
   "id": "d02ecd39-4543-4021-bdfc-461061bf1a7a",
   "metadata": {},
   "outputs": [],
   "source": []
  }
 ],
 "metadata": {
  "kernelspec": {
   "display_name": "Python 3 (ipykernel)",
   "language": "python",
   "name": "python3"
  },
  "language_info": {
   "codemirror_mode": {
    "name": "ipython",
    "version": 3
   },
   "file_extension": ".py",
   "mimetype": "text/x-python",
   "name": "python",
   "nbconvert_exporter": "python",
   "pygments_lexer": "ipython3",
   "version": "3.13.2"
  }
 },
 "nbformat": 4,
 "nbformat_minor": 5
}
